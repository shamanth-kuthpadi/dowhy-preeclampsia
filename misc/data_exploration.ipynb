{
 "cells": [
  {
   "cell_type": "code",
   "execution_count": 5,
   "metadata": {},
   "outputs": [],
   "source": [
    "import sys\n",
    "sys.path.append(\"/Users/shamanthk/Documents/iomics/dowhy-preeclampsia\")"
   ]
  },
  {
   "cell_type": "code",
   "execution_count": 6,
   "metadata": {},
   "outputs": [
    {
     "name": "stderr",
     "output_type": "stream",
     "text": [
      "/Users/shamanthk/.pyenv/versions/3.10.14/lib/python3.10/site-packages/tqdm/auto.py:21: TqdmWarning: IProgress not found. Please update jupyter and ipywidgets. See https://ipywidgets.readthedocs.io/en/stable/user_install.html\n",
      "  from .autonotebook import tqdm as notebook_tqdm\n",
      "No GPU automatically detected. Setting SETTINGS.GPU to 0, and SETTINGS.NJOBS to cpu_count.\n"
     ]
    }
   ],
   "source": [
    "import numpy as np\n",
    "import pandas as pd\n",
    "from EstimateEffect import *"
   ]
  },
  {
   "cell_type": "code",
   "execution_count": 2,
   "metadata": {},
   "outputs": [
    {
     "data": {
      "text/html": [
       "<div>\n",
       "<style scoped>\n",
       "    .dataframe tbody tr th:only-of-type {\n",
       "        vertical-align: middle;\n",
       "    }\n",
       "\n",
       "    .dataframe tbody tr th {\n",
       "        vertical-align: top;\n",
       "    }\n",
       "\n",
       "    .dataframe thead th {\n",
       "        text-align: right;\n",
       "    }\n",
       "</style>\n",
       "<table border=\"1\" class=\"dataframe\">\n",
       "  <thead>\n",
       "    <tr style=\"text-align: right;\">\n",
       "      <th></th>\n",
       "      <th>A1BG</th>\n",
       "      <th>A2BP1</th>\n",
       "      <th>A2ML1</th>\n",
       "      <th>A4GALT</th>\n",
       "      <th>A4GNT</th>\n",
       "      <th>AADAT</th>\n",
       "      <th>AAK1</th>\n",
       "      <th>AANAT</th>\n",
       "      <th>AARS</th>\n",
       "      <th>AASDH</th>\n",
       "      <th>...</th>\n",
       "      <th>ZSCAN16</th>\n",
       "      <th>ZSCAN18</th>\n",
       "      <th>ZSCAN2</th>\n",
       "      <th>ZSCAN22</th>\n",
       "      <th>ZUFSP</th>\n",
       "      <th>ZW10</th>\n",
       "      <th>ZWINT</th>\n",
       "      <th>ZYX</th>\n",
       "      <th>ZZEF1</th>\n",
       "      <th>ZZZ3</th>\n",
       "    </tr>\n",
       "  </thead>\n",
       "  <tbody>\n",
       "    <tr>\n",
       "      <th>GSM788417</th>\n",
       "      <td>0.348367</td>\n",
       "      <td>0.319899</td>\n",
       "      <td>0.768433</td>\n",
       "      <td>0.081964</td>\n",
       "      <td>0.685641</td>\n",
       "      <td>0.060380</td>\n",
       "      <td>0.030600</td>\n",
       "      <td>0.628545</td>\n",
       "      <td>0.034695</td>\n",
       "      <td>0.038169</td>\n",
       "      <td>...</td>\n",
       "      <td>0.155679</td>\n",
       "      <td>0.065414</td>\n",
       "      <td>0.059830</td>\n",
       "      <td>0.019980</td>\n",
       "      <td>0.035917</td>\n",
       "      <td>0.080395</td>\n",
       "      <td>0.079731</td>\n",
       "      <td>0.084788</td>\n",
       "      <td>0.154323</td>\n",
       "      <td>0.054018</td>\n",
       "    </tr>\n",
       "    <tr>\n",
       "      <th>GSM788419</th>\n",
       "      <td>0.364492</td>\n",
       "      <td>0.310907</td>\n",
       "      <td>0.764368</td>\n",
       "      <td>0.070794</td>\n",
       "      <td>0.692982</td>\n",
       "      <td>0.049903</td>\n",
       "      <td>0.030167</td>\n",
       "      <td>0.623489</td>\n",
       "      <td>0.039860</td>\n",
       "      <td>0.035158</td>\n",
       "      <td>...</td>\n",
       "      <td>0.119980</td>\n",
       "      <td>0.059075</td>\n",
       "      <td>0.058748</td>\n",
       "      <td>0.017119</td>\n",
       "      <td>0.034855</td>\n",
       "      <td>0.067926</td>\n",
       "      <td>0.066641</td>\n",
       "      <td>0.068883</td>\n",
       "      <td>0.139299</td>\n",
       "      <td>0.043898</td>\n",
       "    </tr>\n",
       "    <tr>\n",
       "      <th>GSM788420</th>\n",
       "      <td>0.349403</td>\n",
       "      <td>0.305689</td>\n",
       "      <td>0.771950</td>\n",
       "      <td>0.070062</td>\n",
       "      <td>0.694961</td>\n",
       "      <td>0.054181</td>\n",
       "      <td>0.029743</td>\n",
       "      <td>0.626342</td>\n",
       "      <td>0.036626</td>\n",
       "      <td>0.039165</td>\n",
       "      <td>...</td>\n",
       "      <td>0.124261</td>\n",
       "      <td>0.061837</td>\n",
       "      <td>0.057167</td>\n",
       "      <td>0.018410</td>\n",
       "      <td>0.037608</td>\n",
       "      <td>0.076475</td>\n",
       "      <td>0.077044</td>\n",
       "      <td>0.077043</td>\n",
       "      <td>0.143271</td>\n",
       "      <td>0.048421</td>\n",
       "    </tr>\n",
       "    <tr>\n",
       "      <th>GSM788421</th>\n",
       "      <td>0.371034</td>\n",
       "      <td>0.303553</td>\n",
       "      <td>0.779977</td>\n",
       "      <td>0.063303</td>\n",
       "      <td>0.698230</td>\n",
       "      <td>0.048508</td>\n",
       "      <td>0.025756</td>\n",
       "      <td>0.628486</td>\n",
       "      <td>0.035684</td>\n",
       "      <td>0.034624</td>\n",
       "      <td>...</td>\n",
       "      <td>0.129721</td>\n",
       "      <td>0.056181</td>\n",
       "      <td>0.052445</td>\n",
       "      <td>0.015951</td>\n",
       "      <td>0.035129</td>\n",
       "      <td>0.068537</td>\n",
       "      <td>0.069168</td>\n",
       "      <td>0.068694</td>\n",
       "      <td>0.127377</td>\n",
       "      <td>0.045447</td>\n",
       "    </tr>\n",
       "    <tr>\n",
       "      <th>GSM788414</th>\n",
       "      <td>0.374402</td>\n",
       "      <td>0.284613</td>\n",
       "      <td>0.786321</td>\n",
       "      <td>0.059106</td>\n",
       "      <td>0.697250</td>\n",
       "      <td>0.046840</td>\n",
       "      <td>0.029264</td>\n",
       "      <td>0.632338</td>\n",
       "      <td>0.033920</td>\n",
       "      <td>0.035989</td>\n",
       "      <td>...</td>\n",
       "      <td>0.121801</td>\n",
       "      <td>0.054721</td>\n",
       "      <td>0.050782</td>\n",
       "      <td>0.016837</td>\n",
       "      <td>0.036205</td>\n",
       "      <td>0.062236</td>\n",
       "      <td>0.062481</td>\n",
       "      <td>0.063668</td>\n",
       "      <td>0.121910</td>\n",
       "      <td>0.041457</td>\n",
       "    </tr>\n",
       "  </tbody>\n",
       "</table>\n",
       "<p>5 rows × 9634 columns</p>\n",
       "</div>"
      ],
      "text/plain": [
       "               A1BG     A2BP1     A2ML1    A4GALT     A4GNT     AADAT  \\\n",
       "GSM788417  0.348367  0.319899  0.768433  0.081964  0.685641  0.060380   \n",
       "GSM788419  0.364492  0.310907  0.764368  0.070794  0.692982  0.049903   \n",
       "GSM788420  0.349403  0.305689  0.771950  0.070062  0.694961  0.054181   \n",
       "GSM788421  0.371034  0.303553  0.779977  0.063303  0.698230  0.048508   \n",
       "GSM788414  0.374402  0.284613  0.786321  0.059106  0.697250  0.046840   \n",
       "\n",
       "               AAK1     AANAT      AARS     AASDH  ...   ZSCAN16   ZSCAN18  \\\n",
       "GSM788417  0.030600  0.628545  0.034695  0.038169  ...  0.155679  0.065414   \n",
       "GSM788419  0.030167  0.623489  0.039860  0.035158  ...  0.119980  0.059075   \n",
       "GSM788420  0.029743  0.626342  0.036626  0.039165  ...  0.124261  0.061837   \n",
       "GSM788421  0.025756  0.628486  0.035684  0.034624  ...  0.129721  0.056181   \n",
       "GSM788414  0.029264  0.632338  0.033920  0.035989  ...  0.121801  0.054721   \n",
       "\n",
       "             ZSCAN2   ZSCAN22     ZUFSP      ZW10     ZWINT       ZYX  \\\n",
       "GSM788417  0.059830  0.019980  0.035917  0.080395  0.079731  0.084788   \n",
       "GSM788419  0.058748  0.017119  0.034855  0.067926  0.066641  0.068883   \n",
       "GSM788420  0.057167  0.018410  0.037608  0.076475  0.077044  0.077043   \n",
       "GSM788421  0.052445  0.015951  0.035129  0.068537  0.069168  0.068694   \n",
       "GSM788414  0.050782  0.016837  0.036205  0.062236  0.062481  0.063668   \n",
       "\n",
       "              ZZEF1      ZZZ3  \n",
       "GSM788417  0.154323  0.054018  \n",
       "GSM788419  0.139299  0.043898  \n",
       "GSM788420  0.143271  0.048421  \n",
       "GSM788421  0.127377  0.045447  \n",
       "GSM788414  0.121910  0.041457  \n",
       "\n",
       "[5 rows x 9634 columns]"
      ]
     },
     "execution_count": 2,
     "metadata": {},
     "output_type": "execute_result"
    }
   ],
   "source": [
    "df = pd.read_csv('./data/betas.csv', index_col=0)\n",
    "df.index = df.index.str.replace(r'::.*', '', regex=True)\n",
    "df.columns = df.columns.str.replace(r'::.*', '', regex=True)\n",
    "\n",
    "df = df.transpose()\n",
    "df.head()"
   ]
  },
  {
   "cell_type": "code",
   "execution_count": 3,
   "metadata": {},
   "outputs": [
    {
     "data": {
      "image/png": "[encoded data removed]",
      "text/latex": [
       "$\\displaystyle \\left( 359, \\  9634\\right)$"
      ],
      "text/plain": [
       "(359, 9634)"
      ]
     },
     "execution_count": 3,
     "metadata": {},
     "output_type": "execute_result"
    }
   ],
   "source": [
    "df.shape"
   ]
  },
  {
   "cell_type": "code",
   "execution_count": 4,
   "metadata": {},
   "outputs": [],
   "source": [
    "EstimationModel = EstimateEffect(df)"
   ]
  },
  {
   "cell_type": "code",
   "execution_count": 5,
   "metadata": {},
   "outputs": [
    {
     "ename": "KeyboardInterrupt",
     "evalue": "",
     "output_type": "error",
     "traceback": [
      "\u001b[0;31m---------------------------------------------------------------------------\u001b[0m",
      "\u001b[0;31mKeyboardInterrupt\u001b[0m                         Traceback (most recent call last)",
      "File \u001b[0;32m~/.pyenv/versions/3.10.14/lib/python3.10/site-packages/cdt/utils/R.py:206\u001b[0m, in \u001b[0;36mlaunch_R_script\u001b[0;34m(template, arguments, output_function, verbose, debug)\u001b[0m\n\u001b[1;32m    204\u001b[0m         process \u001b[38;5;241m=\u001b[39m subprocess\u001b[38;5;241m.\u001b[39mPopen([\u001b[38;5;28mstr\u001b[39m(rpath), \u001b[38;5;124m\"\u001b[39m\u001b[38;5;124m--no-restore --no-save --no-site-file\u001b[39m\u001b[38;5;124m\"\u001b[39m, \u001b[38;5;28mstr\u001b[39m(scriptpath)],\n\u001b[1;32m    205\u001b[0m                                    stdout\u001b[38;5;241m=\u001b[39msubprocess\u001b[38;5;241m.\u001b[39mPIPE, stderr\u001b[38;5;241m=\u001b[39msubprocess\u001b[38;5;241m.\u001b[39mPIPE)\n\u001b[0;32m--> 206\u001b[0m     \u001b[43mprocess\u001b[49m\u001b[38;5;241;43m.\u001b[39;49m\u001b[43mwait\u001b[49m\u001b[43m(\u001b[49m\u001b[43m)\u001b[49m\n\u001b[1;32m    207\u001b[0m \u001b[38;5;28;01mexcept\u001b[39;00m \u001b[38;5;167;01mKeyboardInterrupt\u001b[39;00m:\n",
      "File \u001b[0;32m~/.pyenv/versions/3.10.14/lib/python3.10/subprocess.py:1209\u001b[0m, in \u001b[0;36mPopen.wait\u001b[0;34m(self, timeout)\u001b[0m\n\u001b[1;32m   1208\u001b[0m \u001b[38;5;28;01mtry\u001b[39;00m:\n\u001b[0;32m-> 1209\u001b[0m     \u001b[38;5;28;01mreturn\u001b[39;00m \u001b[38;5;28;43mself\u001b[39;49m\u001b[38;5;241;43m.\u001b[39;49m\u001b[43m_wait\u001b[49m\u001b[43m(\u001b[49m\u001b[43mtimeout\u001b[49m\u001b[38;5;241;43m=\u001b[39;49m\u001b[43mtimeout\u001b[49m\u001b[43m)\u001b[49m\n\u001b[1;32m   1210\u001b[0m \u001b[38;5;28;01mexcept\u001b[39;00m \u001b[38;5;167;01mKeyboardInterrupt\u001b[39;00m:\n\u001b[1;32m   1211\u001b[0m     \u001b[38;5;66;03m# https://bugs.python.org/issue25942\u001b[39;00m\n\u001b[1;32m   1212\u001b[0m     \u001b[38;5;66;03m# The first keyboard interrupt waits briefly for the child to\u001b[39;00m\n\u001b[1;32m   1213\u001b[0m     \u001b[38;5;66;03m# exit under the common assumption that it also received the ^C\u001b[39;00m\n\u001b[1;32m   1214\u001b[0m     \u001b[38;5;66;03m# generated SIGINT and will exit rapidly.\u001b[39;00m\n",
      "File \u001b[0;32m~/.pyenv/versions/3.10.14/lib/python3.10/subprocess.py:1959\u001b[0m, in \u001b[0;36mPopen._wait\u001b[0;34m(self, timeout)\u001b[0m\n\u001b[1;32m   1958\u001b[0m     \u001b[38;5;28;01mbreak\u001b[39;00m  \u001b[38;5;66;03m# Another thread waited.\u001b[39;00m\n\u001b[0;32m-> 1959\u001b[0m (pid, sts) \u001b[38;5;241m=\u001b[39m \u001b[38;5;28;43mself\u001b[39;49m\u001b[38;5;241;43m.\u001b[39;49m\u001b[43m_try_wait\u001b[49m\u001b[43m(\u001b[49m\u001b[38;5;241;43m0\u001b[39;49m\u001b[43m)\u001b[49m\n\u001b[1;32m   1960\u001b[0m \u001b[38;5;66;03m# Check the pid and loop as waitpid has been known to\u001b[39;00m\n\u001b[1;32m   1961\u001b[0m \u001b[38;5;66;03m# return 0 even without WNOHANG in odd situations.\u001b[39;00m\n\u001b[1;32m   1962\u001b[0m \u001b[38;5;66;03m# http://bugs.python.org/issue14396.\u001b[39;00m\n",
      "File \u001b[0;32m~/.pyenv/versions/3.10.14/lib/python3.10/subprocess.py:1917\u001b[0m, in \u001b[0;36mPopen._try_wait\u001b[0;34m(self, wait_flags)\u001b[0m\n\u001b[1;32m   1916\u001b[0m \u001b[38;5;28;01mtry\u001b[39;00m:\n\u001b[0;32m-> 1917\u001b[0m     (pid, sts) \u001b[38;5;241m=\u001b[39m \u001b[43mos\u001b[49m\u001b[38;5;241;43m.\u001b[39;49m\u001b[43mwaitpid\u001b[49m\u001b[43m(\u001b[49m\u001b[38;5;28;43mself\u001b[39;49m\u001b[38;5;241;43m.\u001b[39;49m\u001b[43mpid\u001b[49m\u001b[43m,\u001b[49m\u001b[43m \u001b[49m\u001b[43mwait_flags\u001b[49m\u001b[43m)\u001b[49m\n\u001b[1;32m   1918\u001b[0m \u001b[38;5;28;01mexcept\u001b[39;00m \u001b[38;5;167;01mChildProcessError\u001b[39;00m:\n\u001b[1;32m   1919\u001b[0m     \u001b[38;5;66;03m# This happens if SIGCLD is set to be ignored or waiting\u001b[39;00m\n\u001b[1;32m   1920\u001b[0m     \u001b[38;5;66;03m# for child processes has otherwise been disabled for our\u001b[39;00m\n\u001b[1;32m   1921\u001b[0m     \u001b[38;5;66;03m# process.  This child is dead, we can't get the status.\u001b[39;00m\n",
      "\u001b[0;31mKeyboardInterrupt\u001b[0m: ",
      "\nDuring handling of the above exception, another exception occurred:\n",
      "\u001b[0;31mKeyboardInterrupt\u001b[0m                         Traceback (most recent call last)",
      "File \u001b[0;32m~/.pyenv/versions/3.10.14/lib/python3.10/site-packages/cdt/causality/graph/PC.py:310\u001b[0m, in \u001b[0;36mPC._run_pc\u001b[0;34m(self, data, fixedEdges, fixedGaps, verbose)\u001b[0m\n\u001b[1;32m    308\u001b[0m         \u001b[38;5;28mself\u001b[39m\u001b[38;5;241m.\u001b[39marguments[\u001b[38;5;124m'\u001b[39m\u001b[38;5;132;01m{E_EDGES}\u001b[39;00m\u001b[38;5;124m'\u001b[39m] \u001b[38;5;241m=\u001b[39m \u001b[38;5;124m'\u001b[39m\u001b[38;5;124mFALSE\u001b[39m\u001b[38;5;124m'\u001b[39m\n\u001b[0;32m--> 310\u001b[0m     pc_result \u001b[38;5;241m=\u001b[39m \u001b[43mlaunch_R_script\u001b[49m\u001b[43m(\u001b[49m\u001b[43mPath\u001b[49m\u001b[43m(\u001b[49m\u001b[38;5;124;43m\"\u001b[39;49m\u001b[38;5;132;43;01m{}\u001b[39;49;00m\u001b[38;5;124;43m/R_templates/pc.R\u001b[39;49m\u001b[38;5;124;43m\"\u001b[39;49m\u001b[38;5;241;43m.\u001b[39;49m\u001b[43mformat\u001b[49m\u001b[43m(\u001b[49m\u001b[43mos\u001b[49m\u001b[38;5;241;43m.\u001b[39;49m\u001b[43mpath\u001b[49m\u001b[38;5;241;43m.\u001b[39;49m\u001b[43mdirname\u001b[49m\u001b[43m(\u001b[49m\u001b[43mos\u001b[49m\u001b[38;5;241;43m.\u001b[39;49m\u001b[43mpath\u001b[49m\u001b[38;5;241;43m.\u001b[39;49m\u001b[43mrealpath\u001b[49m\u001b[43m(\u001b[49m\u001b[38;5;18;43m__file__\u001b[39;49m\u001b[43m)\u001b[49m\u001b[43m)\u001b[49m\u001b[43m)\u001b[49m\u001b[43m)\u001b[49m\u001b[43m,\u001b[49m\n\u001b[1;32m    311\u001b[0m \u001b[43m                                \u001b[49m\u001b[38;5;28;43mself\u001b[39;49m\u001b[38;5;241;43m.\u001b[39;49m\u001b[43marguments\u001b[49m\u001b[43m,\u001b[49m\u001b[43m \u001b[49m\u001b[43moutput_function\u001b[49m\u001b[38;5;241;43m=\u001b[39;49m\u001b[43mretrieve_result\u001b[49m\u001b[43m,\u001b[49m\u001b[43m \u001b[49m\u001b[43mverbose\u001b[49m\u001b[38;5;241;43m=\u001b[39;49m\u001b[43mverbose\u001b[49m\u001b[43m)\u001b[49m\n\u001b[1;32m    312\u001b[0m \u001b[38;5;66;03m# Cleanup\u001b[39;00m\n",
      "File \u001b[0;32m~/.pyenv/versions/3.10.14/lib/python3.10/site-packages/cdt/utils/R.py:210\u001b[0m, in \u001b[0;36mlaunch_R_script\u001b[0;34m(template, arguments, output_function, verbose, debug)\u001b[0m\n\u001b[1;32m    209\u001b[0m         rmtree(base_dir)\n\u001b[0;32m--> 210\u001b[0m     \u001b[38;5;28;01mraise\u001b[39;00m \u001b[38;5;167;01mKeyboardInterrupt\u001b[39;00m\n\u001b[1;32m    211\u001b[0m \u001b[38;5;28;01mtry\u001b[39;00m:\n",
      "\u001b[0;31mKeyboardInterrupt\u001b[0m: ",
      "\nDuring handling of the above exception, another exception occurred:\n",
      "\u001b[0;31mKeyboardInterrupt\u001b[0m                         Traceback (most recent call last)",
      "Cell \u001b[0;32mIn[5], line 1\u001b[0m\n\u001b[0;32m----> 1\u001b[0m causal_graph \u001b[38;5;241m=\u001b[39m \u001b[43mEstimationModel\u001b[49m\u001b[38;5;241;43m.\u001b[39;49m\u001b[43mfind_causal_graph\u001b[49m\u001b[43m(\u001b[49m\u001b[43malgo\u001b[49m\u001b[38;5;241;43m=\u001b[39;49m\u001b[38;5;124;43m'\u001b[39;49m\u001b[38;5;124;43mCCDr\u001b[39;49m\u001b[38;5;124;43m'\u001b[39;49m\u001b[43m)\u001b[49m\n\u001b[1;32m      3\u001b[0m disp_graph_nx(causal_graph)\n",
      "File \u001b[0;32m~/Documents/iomics/dowhy-preeclampsia/EstimateEffect.py:58\u001b[0m, in \u001b[0;36mfind_causal_graph\u001b[0;34m(self, algo, pk)\u001b[0m\n\u001b[1;32m     56\u001b[0m     \u001b[38;5;28mself\u001b[39m\u001b[38;5;241m.\u001b[39mgraph \u001b[38;5;241m=\u001b[39m predicted_graph\n\u001b[1;32m     57\u001b[0m \u001b[38;5;28;01mcase\u001b[39;00m \u001b[38;5;124m'\u001b[39m\u001b[38;5;124mCCDr\u001b[39m\u001b[38;5;124m'\u001b[39m:\n\u001b[0;32m---> 58\u001b[0m     model \u001b[38;5;241m=\u001b[39m PC()\n\u001b[1;32m     59\u001b[0m     predicted_graph \u001b[38;5;241m=\u001b[39m model\u001b[38;5;241m.\u001b[39mpredict(\u001b[38;5;28mself\u001b[39m\u001b[38;5;241m.\u001b[39mdata)\n\u001b[1;32m     60\u001b[0m     \u001b[38;5;28mself\u001b[39m\u001b[38;5;241m.\u001b[39mgraph \u001b[38;5;241m=\u001b[39m predicted_graph\n",
      "File \u001b[0;32m~/.pyenv/versions/3.10.14/lib/python3.10/site-packages/cdt/causality/graph/model.py:63\u001b[0m, in \u001b[0;36mGraphModel.predict\u001b[0;34m(self, df_data, graph, **kwargs)\u001b[0m\n\u001b[1;32m     45\u001b[0m \u001b[38;5;250m\u001b[39m\u001b[38;5;124;03m\"\"\"Orient a graph using the method defined by the arguments.\u001b[39;00m\n\u001b[1;32m     46\u001b[0m \n\u001b[1;32m     47\u001b[0m \u001b[38;5;124;03mDepending on the type of `graph`, this function process to execute\u001b[39;00m\n\u001b[0;32m   (...)\u001b[0m\n\u001b[1;32m     60\u001b[0m \u001b[38;5;124;03m   name of the variables in df_data\u001b[39;00m\n\u001b[1;32m     61\u001b[0m \u001b[38;5;124;03m\"\"\"\u001b[39;00m\n\u001b[1;32m     62\u001b[0m \u001b[38;5;28;01mif\u001b[39;00m graph \u001b[38;5;129;01mis\u001b[39;00m \u001b[38;5;28;01mNone\u001b[39;00m:\n\u001b[0;32m---> 63\u001b[0m     \u001b[38;5;28;01mreturn\u001b[39;00m \u001b[38;5;28;43mself\u001b[39;49m\u001b[38;5;241;43m.\u001b[39;49m\u001b[43mcreate_graph_from_data\u001b[49m\u001b[43m(\u001b[49m\u001b[43mdf_data\u001b[49m\u001b[43m,\u001b[49m\u001b[43m \u001b[49m\u001b[38;5;241;43m*\u001b[39;49m\u001b[38;5;241;43m*\u001b[39;49m\u001b[43mkwargs\u001b[49m\u001b[43m)\u001b[49m\n\u001b[1;32m     64\u001b[0m \u001b[38;5;28;01melif\u001b[39;00m \u001b[38;5;28misinstance\u001b[39m(graph, nx\u001b[38;5;241m.\u001b[39mDiGraph):\n\u001b[1;32m     65\u001b[0m     \u001b[38;5;28;01mreturn\u001b[39;00m \u001b[38;5;28mself\u001b[39m\u001b[38;5;241m.\u001b[39morient_directed_graph(df_data, graph, \u001b[38;5;241m*\u001b[39m\u001b[38;5;241m*\u001b[39mkwargs)\n",
      "File \u001b[0;32m~/.pyenv/versions/3.10.14/lib/python3.10/site-packages/cdt/causality/graph/PC.py:278\u001b[0m, in \u001b[0;36mPC.create_graph_from_data\u001b[0;34m(self, data, **kwargs)\u001b[0m\n\u001b[1;32m    275\u001b[0m \u001b[38;5;28mself\u001b[39m\u001b[38;5;241m.\u001b[39marguments[\u001b[38;5;124m'\u001b[39m\u001b[38;5;132;01m{NJOBS}\u001b[39;00m\u001b[38;5;124m'\u001b[39m] \u001b[38;5;241m=\u001b[39m \u001b[38;5;28mstr\u001b[39m(\u001b[38;5;28mself\u001b[39m\u001b[38;5;241m.\u001b[39mnjobs)\n\u001b[1;32m    276\u001b[0m \u001b[38;5;28mself\u001b[39m\u001b[38;5;241m.\u001b[39marguments[\u001b[38;5;124m'\u001b[39m\u001b[38;5;132;01m{VERBOSE}\u001b[39;00m\u001b[38;5;124m'\u001b[39m] \u001b[38;5;241m=\u001b[39m \u001b[38;5;28mstr\u001b[39m(\u001b[38;5;28mself\u001b[39m\u001b[38;5;241m.\u001b[39mverbose)\u001b[38;5;241m.\u001b[39mupper()\n\u001b[0;32m--> 278\u001b[0m results \u001b[38;5;241m=\u001b[39m \u001b[38;5;28;43mself\u001b[39;49m\u001b[38;5;241;43m.\u001b[39;49m\u001b[43m_run_pc\u001b[49m\u001b[43m(\u001b[49m\u001b[43mdata\u001b[49m\u001b[43m,\u001b[49m\u001b[43m \u001b[49m\u001b[43mverbose\u001b[49m\u001b[38;5;241;43m=\u001b[39;49m\u001b[38;5;28;43mself\u001b[39;49m\u001b[38;5;241;43m.\u001b[39;49m\u001b[43mverbose\u001b[49m\u001b[43m)\u001b[49m\n\u001b[1;32m    280\u001b[0m \u001b[38;5;28;01mreturn\u001b[39;00m nx\u001b[38;5;241m.\u001b[39mrelabel_nodes(nx\u001b[38;5;241m.\u001b[39mDiGraph(results),\n\u001b[1;32m    281\u001b[0m                         {idx: i \u001b[38;5;28;01mfor\u001b[39;00m idx, i \u001b[38;5;129;01min\u001b[39;00m \u001b[38;5;28menumerate\u001b[39m(data\u001b[38;5;241m.\u001b[39mcolumns)})\n",
      "File \u001b[0;32m~/.pyenv/versions/3.10.14/lib/python3.10/site-packages/cdt/causality/graph/PC.py:318\u001b[0m, in \u001b[0;36mPC._run_pc\u001b[0;34m(self, data, fixedEdges, fixedGaps, verbose)\u001b[0m\n\u001b[1;32m    316\u001b[0m \u001b[38;5;28;01mexcept\u001b[39;00m \u001b[38;5;167;01mKeyboardInterrupt\u001b[39;00m:\n\u001b[1;32m    317\u001b[0m     rmtree(run_dir)\n\u001b[0;32m--> 318\u001b[0m     \u001b[38;5;28;01mraise\u001b[39;00m \u001b[38;5;167;01mKeyboardInterrupt\u001b[39;00m\n\u001b[1;32m    319\u001b[0m rmtree(run_dir)\n\u001b[1;32m    320\u001b[0m \u001b[38;5;28;01mreturn\u001b[39;00m pc_result\n",
      "\u001b[0;31mKeyboardInterrupt\u001b[0m: "
     ]
    }
   ],
   "source": [
    "causal_graph = EstimationModel.find_causal_graph(algo='CCDr')\n",
    "\n",
    "disp_graph_nx(causal_graph)"
   ]
  },
  {
   "cell_type": "code",
   "execution_count": null,
   "metadata": {},
   "outputs": [],
   "source": []
  }
 ],
 "metadata": {
  "kernelspec": {
   "display_name": "Python 3",
   "language": "python",
   "name": "python3"
  },
  "language_info": {
   "codemirror_mode": {
    "name": "ipython",
    "version": 3
   },
   "file_extension": ".py",
   "mimetype": "text/x-python",
   "name": "python",
   "nbconvert_exporter": "python",
   "pygments_lexer": "ipython3",
   "version": "3.10.14"
  }
 },
 "nbformat": 4,
 "nbformat_minor": 2
}
