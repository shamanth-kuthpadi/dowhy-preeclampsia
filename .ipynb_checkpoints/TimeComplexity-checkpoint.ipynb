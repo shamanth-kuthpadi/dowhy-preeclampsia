{
 "cells": [
  {
   "cell_type": "code",
   "execution_count": 6,
   "metadata": {},
   "outputs": [],
   "source": [
    "import sys\n",
    "sys.path.append(\"/Users/shamanthk/Documents/iomics/dowhy-preeclampsia\")"
   ]
  },
  {
   "cell_type": "code",
   "execution_count": 7,
   "metadata": {},
   "outputs": [],
   "source": [
    "import numpy as np\n",
    "import pandas as pd\n",
    "from EstimateEffect import *"
   ]
  },
  {
   "cell_type": "markdown",
   "metadata": {},
   "source": [
    "Really, the bulk of the causal discovery will be towards finding some sort of causal dependencies between the features within the `betas.csv` dataset. For now, I won't care about the `pds.csv` dataset."
   ]
  },
  {
   "cell_type": "code",
   "execution_count": 8,
   "metadata": {},
   "outputs": [
    {
     "data": {
      "text/html": [
       "<div>\n",
       "<style scoped>\n",
       "    .dataframe tbody tr th:only-of-type {\n",
       "        vertical-align: middle;\n",
       "    }\n",
       "\n",
       "    .dataframe tbody tr th {\n",
       "        vertical-align: top;\n",
       "    }\n",
       "\n",
       "    .dataframe thead th {\n",
       "        text-align: right;\n",
       "    }\n",
       "</style>\n",
       "<table border=\"1\" class=\"dataframe\">\n",
       "  <thead>\n",
       "    <tr style=\"text-align: right;\">\n",
       "      <th></th>\n",
       "      <th>A1BG</th>\n",
       "      <th>A2BP1</th>\n",
       "      <th>A2ML1</th>\n",
       "      <th>A4GALT</th>\n",
       "      <th>A4GNT</th>\n",
       "      <th>AADAT</th>\n",
       "      <th>AAK1</th>\n",
       "      <th>AANAT</th>\n",
       "      <th>AARS</th>\n",
       "      <th>AASDH</th>\n",
       "      <th>...</th>\n",
       "      <th>ZSCAN16</th>\n",
       "      <th>ZSCAN18</th>\n",
       "      <th>ZSCAN2</th>\n",
       "      <th>ZSCAN22</th>\n",
       "      <th>ZUFSP</th>\n",
       "      <th>ZW10</th>\n",
       "      <th>ZWINT</th>\n",
       "      <th>ZYX</th>\n",
       "      <th>ZZEF1</th>\n",
       "      <th>ZZZ3</th>\n",
       "    </tr>\n",
       "  </thead>\n",
       "  <tbody>\n",
       "    <tr>\n",
       "      <th>GSM788417</th>\n",
       "      <td>0.348367</td>\n",
       "      <td>0.319899</td>\n",
       "      <td>0.768433</td>\n",
       "      <td>0.081964</td>\n",
       "      <td>0.685641</td>\n",
       "      <td>0.060380</td>\n",
       "      <td>0.030600</td>\n",
       "      <td>0.628545</td>\n",
       "      <td>0.034695</td>\n",
       "      <td>0.038169</td>\n",
       "      <td>...</td>\n",
       "      <td>0.155679</td>\n",
       "      <td>0.065414</td>\n",
       "      <td>0.059830</td>\n",
       "      <td>0.019980</td>\n",
       "      <td>0.035917</td>\n",
       "      <td>0.080395</td>\n",
       "      <td>0.079731</td>\n",
       "      <td>0.084788</td>\n",
       "      <td>0.154323</td>\n",
       "      <td>0.054018</td>\n",
       "    </tr>\n",
       "    <tr>\n",
       "      <th>GSM788419</th>\n",
       "      <td>0.364492</td>\n",
       "      <td>0.310907</td>\n",
       "      <td>0.764368</td>\n",
       "      <td>0.070794</td>\n",
       "      <td>0.692982</td>\n",
       "      <td>0.049903</td>\n",
       "      <td>0.030167</td>\n",
       "      <td>0.623489</td>\n",
       "      <td>0.039860</td>\n",
       "      <td>0.035158</td>\n",
       "      <td>...</td>\n",
       "      <td>0.119980</td>\n",
       "      <td>0.059075</td>\n",
       "      <td>0.058748</td>\n",
       "      <td>0.017119</td>\n",
       "      <td>0.034855</td>\n",
       "      <td>0.067926</td>\n",
       "      <td>0.066641</td>\n",
       "      <td>0.068883</td>\n",
       "      <td>0.139299</td>\n",
       "      <td>0.043898</td>\n",
       "    </tr>\n",
       "    <tr>\n",
       "      <th>GSM788420</th>\n",
       "      <td>0.349403</td>\n",
       "      <td>0.305689</td>\n",
       "      <td>0.771950</td>\n",
       "      <td>0.070062</td>\n",
       "      <td>0.694961</td>\n",
       "      <td>0.054181</td>\n",
       "      <td>0.029743</td>\n",
       "      <td>0.626342</td>\n",
       "      <td>0.036626</td>\n",
       "      <td>0.039165</td>\n",
       "      <td>...</td>\n",
       "      <td>0.124261</td>\n",
       "      <td>0.061837</td>\n",
       "      <td>0.057167</td>\n",
       "      <td>0.018410</td>\n",
       "      <td>0.037608</td>\n",
       "      <td>0.076475</td>\n",
       "      <td>0.077044</td>\n",
       "      <td>0.077043</td>\n",
       "      <td>0.143271</td>\n",
       "      <td>0.048421</td>\n",
       "    </tr>\n",
       "    <tr>\n",
       "      <th>GSM788421</th>\n",
       "      <td>0.371034</td>\n",
       "      <td>0.303553</td>\n",
       "      <td>0.779977</td>\n",
       "      <td>0.063303</td>\n",
       "      <td>0.698230</td>\n",
       "      <td>0.048508</td>\n",
       "      <td>0.025756</td>\n",
       "      <td>0.628486</td>\n",
       "      <td>0.035684</td>\n",
       "      <td>0.034624</td>\n",
       "      <td>...</td>\n",
       "      <td>0.129721</td>\n",
       "      <td>0.056181</td>\n",
       "      <td>0.052445</td>\n",
       "      <td>0.015951</td>\n",
       "      <td>0.035129</td>\n",
       "      <td>0.068537</td>\n",
       "      <td>0.069168</td>\n",
       "      <td>0.068694</td>\n",
       "      <td>0.127377</td>\n",
       "      <td>0.045447</td>\n",
       "    </tr>\n",
       "    <tr>\n",
       "      <th>GSM788414</th>\n",
       "      <td>0.374402</td>\n",
       "      <td>0.284613</td>\n",
       "      <td>0.786321</td>\n",
       "      <td>0.059106</td>\n",
       "      <td>0.697250</td>\n",
       "      <td>0.046840</td>\n",
       "      <td>0.029264</td>\n",
       "      <td>0.632338</td>\n",
       "      <td>0.033920</td>\n",
       "      <td>0.035989</td>\n",
       "      <td>...</td>\n",
       "      <td>0.121801</td>\n",
       "      <td>0.054721</td>\n",
       "      <td>0.050782</td>\n",
       "      <td>0.016837</td>\n",
       "      <td>0.036205</td>\n",
       "      <td>0.062236</td>\n",
       "      <td>0.062481</td>\n",
       "      <td>0.063668</td>\n",
       "      <td>0.121910</td>\n",
       "      <td>0.041457</td>\n",
       "    </tr>\n",
       "  </tbody>\n",
       "</table>\n",
       "<p>5 rows × 9634 columns</p>\n",
       "</div>"
      ],
      "text/plain": [
       "               A1BG     A2BP1     A2ML1    A4GALT     A4GNT     AADAT  \\\n",
       "GSM788417  0.348367  0.319899  0.768433  0.081964  0.685641  0.060380   \n",
       "GSM788419  0.364492  0.310907  0.764368  0.070794  0.692982  0.049903   \n",
       "GSM788420  0.349403  0.305689  0.771950  0.070062  0.694961  0.054181   \n",
       "GSM788421  0.371034  0.303553  0.779977  0.063303  0.698230  0.048508   \n",
       "GSM788414  0.374402  0.284613  0.786321  0.059106  0.697250  0.046840   \n",
       "\n",
       "               AAK1     AANAT      AARS     AASDH  ...   ZSCAN16   ZSCAN18  \\\n",
       "GSM788417  0.030600  0.628545  0.034695  0.038169  ...  0.155679  0.065414   \n",
       "GSM788419  0.030167  0.623489  0.039860  0.035158  ...  0.119980  0.059075   \n",
       "GSM788420  0.029743  0.626342  0.036626  0.039165  ...  0.124261  0.061837   \n",
       "GSM788421  0.025756  0.628486  0.035684  0.034624  ...  0.129721  0.056181   \n",
       "GSM788414  0.029264  0.632338  0.033920  0.035989  ...  0.121801  0.054721   \n",
       "\n",
       "             ZSCAN2   ZSCAN22     ZUFSP      ZW10     ZWINT       ZYX  \\\n",
       "GSM788417  0.059830  0.019980  0.035917  0.080395  0.079731  0.084788   \n",
       "GSM788419  0.058748  0.017119  0.034855  0.067926  0.066641  0.068883   \n",
       "GSM788420  0.057167  0.018410  0.037608  0.076475  0.077044  0.077043   \n",
       "GSM788421  0.052445  0.015951  0.035129  0.068537  0.069168  0.068694   \n",
       "GSM788414  0.050782  0.016837  0.036205  0.062236  0.062481  0.063668   \n",
       "\n",
       "              ZZEF1      ZZZ3  \n",
       "GSM788417  0.154323  0.054018  \n",
       "GSM788419  0.139299  0.043898  \n",
       "GSM788420  0.143271  0.048421  \n",
       "GSM788421  0.127377  0.045447  \n",
       "GSM788414  0.121910  0.041457  \n",
       "\n",
       "[5 rows x 9634 columns]"
      ]
     },
     "execution_count": 8,
     "metadata": {},
     "output_type": "execute_result"
    }
   ],
   "source": [
    "betas_df = pd.read_csv('./data/betas.csv', index_col=0)\n",
    "betas_df.index = betas_df.index.str.replace(r'::.*', '', regex=True)\n",
    "betas_df.columns = betas_df.columns.str.replace(r'::.*', '', regex=True)\n",
    "\n",
    "betas_df = betas_df.transpose()\n",
    "betas_df.head()"
   ]
  },
  {
   "cell_type": "markdown",
   "metadata": {},
   "source": [
    "For the purposes of eliminating strong biases, I will randomly choose a subset of *n* features.\n",
    "\n",
    "Note to self: should probably only choose a random subset of *n* **genes** -- doesn't really make sense to include the sample features as part of the population to sample from."
   ]
  },
  {
   "cell_type": "code",
   "execution_count": 9,
   "metadata": {},
   "outputs": [],
   "source": [
    "def take_subset(df, frac=0.01, rs=15):\n",
    "    subset_df = df.sample(frac=frac, axis=1, random_state = rs) \n",
    "    return subset_df"
   ]
  },
  {
   "cell_type": "code",
   "execution_count": 10,
   "metadata": {},
   "outputs": [
    {
     "ename": "KeyboardInterrupt",
     "evalue": "",
     "output_type": "error",
     "traceback": [
      "\u001b[0;31m---------------------------------------------------------------------------\u001b[0m",
      "\u001b[0;31mKeyboardInterrupt\u001b[0m                         Traceback (most recent call last)",
      "Cell \u001b[0;32mIn[10], line 4\u001b[0m\n\u001b[1;32m      1\u001b[0m subset_df \u001b[38;5;241m=\u001b[39m take_subset(betas_df, frac\u001b[38;5;241m=\u001b[39m\u001b[38;5;241m0.001\u001b[39m)\n\u001b[1;32m      3\u001b[0m EstimationModel \u001b[38;5;241m=\u001b[39m EstimateEffect(subset_df)\n\u001b[0;32m----> 4\u001b[0m \u001b[43mEstimationModel\u001b[49m\u001b[38;5;241;43m.\u001b[39;49m\u001b[43mfind_causal_graph\u001b[49m\u001b[43m(\u001b[49m\u001b[43malgo\u001b[49m\u001b[38;5;241;43m=\u001b[39;49m\u001b[38;5;124;43m'\u001b[39;49m\u001b[38;5;124;43mpc\u001b[39;49m\u001b[38;5;124;43m'\u001b[39;49m\u001b[43m)\u001b[49m\n",
      "File \u001b[0;32m~/Documents/iomics/dowhy-preeclampsia/EstimateEffect.py:39\u001b[0m, in \u001b[0;36mEstimateEffect.find_causal_graph\u001b[0;34m(self, algo, pk)\u001b[0m\n\u001b[1;32m     37\u001b[0m \u001b[38;5;28;01mcase\u001b[39;00m \u001b[38;5;124m'\u001b[39m\u001b[38;5;124mpc\u001b[39m\u001b[38;5;124m'\u001b[39m:\n\u001b[1;32m     38\u001b[0m     cg \u001b[38;5;241m=\u001b[39m pc(data\u001b[38;5;241m=\u001b[39mdf, show_progress\u001b[38;5;241m=\u001b[39m\u001b[38;5;28;01mFalse\u001b[39;00m, node_names\u001b[38;5;241m=\u001b[39mlabels)\n\u001b[0;32m---> 39\u001b[0m     cg \u001b[38;5;241m=\u001b[39m \u001b[43mpdag2dag\u001b[49m\u001b[43m(\u001b[49m\u001b[43mcg\u001b[49m\u001b[38;5;241;43m.\u001b[39;49m\u001b[43mG\u001b[49m\u001b[43m)\u001b[49m\n\u001b[1;32m     40\u001b[0m     predicted_graph \u001b[38;5;241m=\u001b[39m genG_to_nx(cg, labels)\n\u001b[1;32m     41\u001b[0m     \u001b[38;5;28mself\u001b[39m\u001b[38;5;241m.\u001b[39mgraph \u001b[38;5;241m=\u001b[39m predicted_graph\n",
      "File \u001b[0;32m~/.pyenv/versions/3.10.14/lib/python3.10/site-packages/causallearn/utils/PDAG2DAG.py:37\u001b[0m, in \u001b[0;36mpdag2dag\u001b[0;34m(G)\u001b[0m\n\u001b[1;32m     35\u001b[0m \u001b[38;5;28;01mif\u001b[39;00m inde[i] \u001b[38;5;241m==\u001b[39m \u001b[38;5;241m0\u001b[39m:\n\u001b[1;32m     36\u001b[0m     sign \u001b[38;5;241m=\u001b[39m \u001b[38;5;241m0\u001b[39m\n\u001b[0;32m---> 37\u001b[0m     \u001b[38;5;28;01mif\u001b[39;00m (\u001b[38;5;28mlen\u001b[39m(\u001b[43mnp\u001b[49m\u001b[38;5;241;43m.\u001b[39;49m\u001b[43mintersect1d\u001b[49m\u001b[43m(\u001b[49m\u001b[43mnp\u001b[49m\u001b[38;5;241;43m.\u001b[39;49m\u001b[43mwhere\u001b[49m\u001b[43m(\u001b[49m\u001b[43mGp\u001b[49m\u001b[38;5;241;43m.\u001b[39;49m\u001b[43mgraph\u001b[49m\u001b[43m[\u001b[49m\u001b[43m:\u001b[49m\u001b[43m,\u001b[49m\u001b[43m \u001b[49m\u001b[43mi\u001b[49m\u001b[43m]\u001b[49m\u001b[43m \u001b[49m\u001b[38;5;241;43m==\u001b[39;49m\u001b[43m \u001b[49m\u001b[38;5;241;43m1\u001b[39;49m\u001b[43m)\u001b[49m\u001b[43m[\u001b[49m\u001b[38;5;241;43m0\u001b[39;49m\u001b[43m]\u001b[49m\u001b[43m,\u001b[49m\n\u001b[1;32m     38\u001b[0m \u001b[43m                           \u001b[49m\u001b[43mnp\u001b[49m\u001b[38;5;241;43m.\u001b[39;49m\u001b[43mwhere\u001b[49m\u001b[43m(\u001b[49m\u001b[43minde\u001b[49m\u001b[43m \u001b[49m\u001b[38;5;241;43m==\u001b[39;49m\u001b[43m \u001b[49m\u001b[38;5;241;43m0\u001b[39;49m\u001b[43m)\u001b[49m\u001b[43m[\u001b[49m\u001b[38;5;241;43m0\u001b[39;49m\u001b[43m]\u001b[49m\u001b[43m)\u001b[49m) \u001b[38;5;241m==\u001b[39m \u001b[38;5;241m0\u001b[39m):  \u001b[38;5;66;03m# Xi has no out-going edges\u001b[39;00m\n\u001b[1;32m     39\u001b[0m         sign \u001b[38;5;241m=\u001b[39m sign \u001b[38;5;241m+\u001b[39m \u001b[38;5;241m1\u001b[39m\n\u001b[1;32m     40\u001b[0m         Nx \u001b[38;5;241m=\u001b[39m np\u001b[38;5;241m.\u001b[39mintersect1d(\n\u001b[1;32m     41\u001b[0m             np\u001b[38;5;241m.\u001b[39mintersect1d(np\u001b[38;5;241m.\u001b[39mwhere(Gp\u001b[38;5;241m.\u001b[39mgraph[:, i] \u001b[38;5;241m==\u001b[39m \u001b[38;5;241m-\u001b[39m\u001b[38;5;241m1\u001b[39m)[\u001b[38;5;241m0\u001b[39m], np\u001b[38;5;241m.\u001b[39mwhere(Gp\u001b[38;5;241m.\u001b[39mgraph[i, :] \u001b[38;5;241m==\u001b[39m \u001b[38;5;241m-\u001b[39m\u001b[38;5;241m1\u001b[39m)[\u001b[38;5;241m0\u001b[39m]),\n\u001b[1;32m     42\u001b[0m             np\u001b[38;5;241m.\u001b[39mwhere(inde \u001b[38;5;241m==\u001b[39m \u001b[38;5;241m0\u001b[39m)[\u001b[38;5;241m0\u001b[39m])  \u001b[38;5;66;03m# find the neighbors of Xi in P\u001b[39;00m\n",
      "File \u001b[0;32m<__array_function__ internals>:180\u001b[0m, in \u001b[0;36mintersect1d\u001b[0;34m(*args, **kwargs)\u001b[0m\n",
      "File \u001b[0;32m~/.pyenv/versions/3.10.14/lib/python3.10/site-packages/numpy/lib/arraysetops.py:444\u001b[0m, in \u001b[0;36mintersect1d\u001b[0;34m(ar1, ar2, assume_unique, return_indices)\u001b[0m\n\u001b[1;32m    442\u001b[0m         ar2, ind2 \u001b[38;5;241m=\u001b[39m unique(ar2, return_index\u001b[38;5;241m=\u001b[39m\u001b[38;5;28;01mTrue\u001b[39;00m)\n\u001b[1;32m    443\u001b[0m     \u001b[38;5;28;01melse\u001b[39;00m:\n\u001b[0;32m--> 444\u001b[0m         ar1 \u001b[38;5;241m=\u001b[39m \u001b[43munique\u001b[49m\u001b[43m(\u001b[49m\u001b[43mar1\u001b[49m\u001b[43m)\u001b[49m\n\u001b[1;32m    445\u001b[0m         ar2 \u001b[38;5;241m=\u001b[39m unique(ar2)\n\u001b[1;32m    446\u001b[0m \u001b[38;5;28;01melse\u001b[39;00m:\n",
      "\u001b[0;31mKeyboardInterrupt\u001b[0m: "
     ]
    }
   ],
   "source": [
    "subset_df = take_subset(betas_df, frac=0.001)\n",
    "\n",
    "EstimationModel = EstimateEffect(subset_df)\n",
    "EstimationModel.find_causal_graph(algo='pc')"
   ]
  },
  {
   "cell_type": "markdown",
   "metadata": {},
   "source": [
    "Note to self: the method should be named *PC*"
   ]
  },
  {
   "cell_type": "code",
   "execution_count": 5,
   "metadata": {},
   "outputs": [
    {
     "name": "stdout",
     "output_type": "stream",
     "text": [
      "Features: 10\n",
      "Latency CDT: 3.889647960662842 seconds\n"
     ]
    },
    {
     "ename": "KeyboardInterrupt",
     "evalue": "",
     "output_type": "error",
     "traceback": [
      "\u001b[0;31m---------------------------------------------------------------------------\u001b[0m",
      "\u001b[0;31mKeyboardInterrupt\u001b[0m                         Traceback (most recent call last)",
      "Cell \u001b[0;32mIn[5], line 26\u001b[0m\n\u001b[1;32m     24\u001b[0m start_time \u001b[38;5;241m=\u001b[39m time\u001b[38;5;241m.\u001b[39mtime()\n\u001b[1;32m     25\u001b[0m EstimationModel2 \u001b[38;5;241m=\u001b[39m EstimateEffect(copy\u001b[38;5;241m.\u001b[39mdeepcopy(subset_df))\n\u001b[0;32m---> 26\u001b[0m causal_graph_cl \u001b[38;5;241m=\u001b[39m \u001b[43mEstimationModel2\u001b[49m\u001b[38;5;241;43m.\u001b[39;49m\u001b[43mfind_causal_graph\u001b[49m\u001b[43m(\u001b[49m\u001b[43malgo\u001b[49m\u001b[38;5;241;43m=\u001b[39;49m\u001b[38;5;124;43m'\u001b[39;49m\u001b[38;5;124;43mpc\u001b[39;49m\u001b[38;5;124;43m'\u001b[39;49m\u001b[43m)\u001b[49m\n\u001b[1;32m     27\u001b[0m end_time \u001b[38;5;241m=\u001b[39m time\u001b[38;5;241m.\u001b[39mtime()\n\u001b[1;32m     28\u001b[0m latency_cl \u001b[38;5;241m=\u001b[39m end_time \u001b[38;5;241m-\u001b[39m start_time\n",
      "File \u001b[0;32m~/Documents/iomics/dowhy-preeclampsia/EstimateEffect.py:39\u001b[0m, in \u001b[0;36mEstimateEffect.find_causal_graph\u001b[0;34m(self, algo, pk)\u001b[0m\n\u001b[1;32m     37\u001b[0m \u001b[38;5;28;01mcase\u001b[39;00m \u001b[38;5;124m'\u001b[39m\u001b[38;5;124mpc\u001b[39m\u001b[38;5;124m'\u001b[39m:\n\u001b[1;32m     38\u001b[0m     cg \u001b[38;5;241m=\u001b[39m pc(data\u001b[38;5;241m=\u001b[39mdf, show_progress\u001b[38;5;241m=\u001b[39m\u001b[38;5;28;01mFalse\u001b[39;00m, node_names\u001b[38;5;241m=\u001b[39mlabels)\n\u001b[0;32m---> 39\u001b[0m     cg \u001b[38;5;241m=\u001b[39m \u001b[43mpdag2dag\u001b[49m\u001b[43m(\u001b[49m\u001b[43mcg\u001b[49m\u001b[38;5;241;43m.\u001b[39;49m\u001b[43mG\u001b[49m\u001b[43m)\u001b[49m\n\u001b[1;32m     40\u001b[0m     predicted_graph \u001b[38;5;241m=\u001b[39m genG_to_nx(cg, labels)\n\u001b[1;32m     41\u001b[0m     \u001b[38;5;28mself\u001b[39m\u001b[38;5;241m.\u001b[39mgraph \u001b[38;5;241m=\u001b[39m predicted_graph\n",
      "File \u001b[0;32m~/.pyenv/versions/3.10.14/lib/python3.10/site-packages/causallearn/utils/PDAG2DAG.py:37\u001b[0m, in \u001b[0;36mpdag2dag\u001b[0;34m(G)\u001b[0m\n\u001b[1;32m     35\u001b[0m \u001b[38;5;28;01mif\u001b[39;00m inde[i] \u001b[38;5;241m==\u001b[39m \u001b[38;5;241m0\u001b[39m:\n\u001b[1;32m     36\u001b[0m     sign \u001b[38;5;241m=\u001b[39m \u001b[38;5;241m0\u001b[39m\n\u001b[0;32m---> 37\u001b[0m     \u001b[38;5;28;01mif\u001b[39;00m (\u001b[38;5;28mlen\u001b[39m(\u001b[43mnp\u001b[49m\u001b[38;5;241;43m.\u001b[39;49m\u001b[43mintersect1d\u001b[49m\u001b[43m(\u001b[49m\u001b[43mnp\u001b[49m\u001b[38;5;241;43m.\u001b[39;49m\u001b[43mwhere\u001b[49m\u001b[43m(\u001b[49m\u001b[43mGp\u001b[49m\u001b[38;5;241;43m.\u001b[39;49m\u001b[43mgraph\u001b[49m\u001b[43m[\u001b[49m\u001b[43m:\u001b[49m\u001b[43m,\u001b[49m\u001b[43m \u001b[49m\u001b[43mi\u001b[49m\u001b[43m]\u001b[49m\u001b[43m \u001b[49m\u001b[38;5;241;43m==\u001b[39;49m\u001b[43m \u001b[49m\u001b[38;5;241;43m1\u001b[39;49m\u001b[43m)\u001b[49m\u001b[43m[\u001b[49m\u001b[38;5;241;43m0\u001b[39;49m\u001b[43m]\u001b[49m\u001b[43m,\u001b[49m\n\u001b[1;32m     38\u001b[0m \u001b[43m                           \u001b[49m\u001b[43mnp\u001b[49m\u001b[38;5;241;43m.\u001b[39;49m\u001b[43mwhere\u001b[49m\u001b[43m(\u001b[49m\u001b[43minde\u001b[49m\u001b[43m \u001b[49m\u001b[38;5;241;43m==\u001b[39;49m\u001b[43m \u001b[49m\u001b[38;5;241;43m0\u001b[39;49m\u001b[43m)\u001b[49m\u001b[43m[\u001b[49m\u001b[38;5;241;43m0\u001b[39;49m\u001b[43m]\u001b[49m\u001b[43m)\u001b[49m) \u001b[38;5;241m==\u001b[39m \u001b[38;5;241m0\u001b[39m):  \u001b[38;5;66;03m# Xi has no out-going edges\u001b[39;00m\n\u001b[1;32m     39\u001b[0m         sign \u001b[38;5;241m=\u001b[39m sign \u001b[38;5;241m+\u001b[39m \u001b[38;5;241m1\u001b[39m\n\u001b[1;32m     40\u001b[0m         Nx \u001b[38;5;241m=\u001b[39m np\u001b[38;5;241m.\u001b[39mintersect1d(\n\u001b[1;32m     41\u001b[0m             np\u001b[38;5;241m.\u001b[39mintersect1d(np\u001b[38;5;241m.\u001b[39mwhere(Gp\u001b[38;5;241m.\u001b[39mgraph[:, i] \u001b[38;5;241m==\u001b[39m \u001b[38;5;241m-\u001b[39m\u001b[38;5;241m1\u001b[39m)[\u001b[38;5;241m0\u001b[39m], np\u001b[38;5;241m.\u001b[39mwhere(Gp\u001b[38;5;241m.\u001b[39mgraph[i, :] \u001b[38;5;241m==\u001b[39m \u001b[38;5;241m-\u001b[39m\u001b[38;5;241m1\u001b[39m)[\u001b[38;5;241m0\u001b[39m]),\n\u001b[1;32m     42\u001b[0m             np\u001b[38;5;241m.\u001b[39mwhere(inde \u001b[38;5;241m==\u001b[39m \u001b[38;5;241m0\u001b[39m)[\u001b[38;5;241m0\u001b[39m])  \u001b[38;5;66;03m# find the neighbors of Xi in P\u001b[39;00m\n",
      "File \u001b[0;32m<__array_function__ internals>:180\u001b[0m, in \u001b[0;36mintersect1d\u001b[0;34m(*args, **kwargs)\u001b[0m\n",
      "File \u001b[0;32m~/.pyenv/versions/3.10.14/lib/python3.10/site-packages/numpy/lib/arraysetops.py:445\u001b[0m, in \u001b[0;36mintersect1d\u001b[0;34m(ar1, ar2, assume_unique, return_indices)\u001b[0m\n\u001b[1;32m    443\u001b[0m     \u001b[38;5;28;01melse\u001b[39;00m:\n\u001b[1;32m    444\u001b[0m         ar1 \u001b[38;5;241m=\u001b[39m unique(ar1)\n\u001b[0;32m--> 445\u001b[0m         ar2 \u001b[38;5;241m=\u001b[39m \u001b[43munique\u001b[49m\u001b[43m(\u001b[49m\u001b[43mar2\u001b[49m\u001b[43m)\u001b[49m\n\u001b[1;32m    446\u001b[0m \u001b[38;5;28;01melse\u001b[39;00m:\n\u001b[1;32m    447\u001b[0m     ar1 \u001b[38;5;241m=\u001b[39m ar1\u001b[38;5;241m.\u001b[39mravel()\n",
      "File \u001b[0;32m<__array_function__ internals>:180\u001b[0m, in \u001b[0;36munique\u001b[0;34m(*args, **kwargs)\u001b[0m\n",
      "File \u001b[0;32m~/.pyenv/versions/3.10.14/lib/python3.10/site-packages/numpy/lib/arraysetops.py:274\u001b[0m, in \u001b[0;36munique\u001b[0;34m(ar, return_index, return_inverse, return_counts, axis, equal_nan)\u001b[0m\n\u001b[1;32m    272\u001b[0m ar \u001b[38;5;241m=\u001b[39m np\u001b[38;5;241m.\u001b[39masanyarray(ar)\n\u001b[1;32m    273\u001b[0m \u001b[38;5;28;01mif\u001b[39;00m axis \u001b[38;5;129;01mis\u001b[39;00m \u001b[38;5;28;01mNone\u001b[39;00m:\n\u001b[0;32m--> 274\u001b[0m     ret \u001b[38;5;241m=\u001b[39m \u001b[43m_unique1d\u001b[49m\u001b[43m(\u001b[49m\u001b[43mar\u001b[49m\u001b[43m,\u001b[49m\u001b[43m \u001b[49m\u001b[43mreturn_index\u001b[49m\u001b[43m,\u001b[49m\u001b[43m \u001b[49m\u001b[43mreturn_inverse\u001b[49m\u001b[43m,\u001b[49m\u001b[43m \u001b[49m\u001b[43mreturn_counts\u001b[49m\u001b[43m,\u001b[49m\u001b[43m \u001b[49m\n\u001b[1;32m    275\u001b[0m \u001b[43m                    \u001b[49m\u001b[43mequal_nan\u001b[49m\u001b[38;5;241;43m=\u001b[39;49m\u001b[43mequal_nan\u001b[49m\u001b[43m)\u001b[49m\n\u001b[1;32m    276\u001b[0m     \u001b[38;5;28;01mreturn\u001b[39;00m _unpack_tuple(ret)\n\u001b[1;32m    278\u001b[0m \u001b[38;5;66;03m# axis was specified and not None\u001b[39;00m\n",
      "File \u001b[0;32m~/.pyenv/versions/3.10.14/lib/python3.10/site-packages/numpy/lib/arraysetops.py:336\u001b[0m, in \u001b[0;36m_unique1d\u001b[0;34m(ar, return_index, return_inverse, return_counts, equal_nan)\u001b[0m\n\u001b[1;32m    334\u001b[0m     aux \u001b[38;5;241m=\u001b[39m ar[perm]\n\u001b[1;32m    335\u001b[0m \u001b[38;5;28;01melse\u001b[39;00m:\n\u001b[0;32m--> 336\u001b[0m     \u001b[43mar\u001b[49m\u001b[38;5;241;43m.\u001b[39;49m\u001b[43msort\u001b[49m\u001b[43m(\u001b[49m\u001b[43m)\u001b[49m\n\u001b[1;32m    337\u001b[0m     aux \u001b[38;5;241m=\u001b[39m ar\n\u001b[1;32m    338\u001b[0m mask \u001b[38;5;241m=\u001b[39m np\u001b[38;5;241m.\u001b[39mempty(aux\u001b[38;5;241m.\u001b[39mshape, dtype\u001b[38;5;241m=\u001b[39mnp\u001b[38;5;241m.\u001b[39mbool_)\n",
      "\u001b[0;31mKeyboardInterrupt\u001b[0m: "
     ]
    }
   ],
   "source": [
    "import time\n",
    "import copy\n",
    "\n",
    "fracs = [0.001, 0.002, 0.008, 0.01, 0.015, 0.02, 0.0373, 0.05, 0.08, 0.1]\n",
    "latencies_cdt = []\n",
    "features = []\n",
    "latencies_cl = []\n",
    "\n",
    "for frac in fracs:\n",
    "    subset_df = take_subset(betas_df, frac=frac)\n",
    "    \n",
    "    features.append(subset_df.shape[1])\n",
    "    print(f\"Features: {subset_df.shape[1]}\")\n",
    "\n",
    "    start_time = time.time()\n",
    "    EstimationModel1 = EstimateEffect(copy.deepcopy(subset_df))\n",
    "    causal_graph_cdt = EstimationModel1.find_causal_graph(algo='CCDr')\n",
    "    end_time = time.time()\n",
    "    latency_cdt = end_time - start_time\n",
    "    latencies_cdt.append(latency_cdt)\n",
    "\n",
    "    print(f\"Latency CDT: {latency_cdt} seconds\")\n",
    "\n",
    "    start_time = time.time()\n",
    "    EstimationModel2 = EstimateEffect(copy.deepcopy(subset_df))\n",
    "    causal_graph_cl = EstimationModel2.find_causal_graph(algo='pc')\n",
    "    end_time = time.time()\n",
    "    latency_cl = end_time - start_time\n",
    "    latencies_cl.append(latency_cl)\n",
    "\n",
    "    print(f\"Latency CL: {latency_cl} seconds\")"
   ]
  },
  {
   "cell_type": "code",
   "execution_count": 14,
   "metadata": {},
   "outputs": [
    {
     "data": {
      "image/png": "[encoded data removed]",
      "text/plain": [
       "<Figure size 1000x600 with 1 Axes>"
      ]
     },
     "metadata": {},
     "output_type": "display_data"
    }
   ],
   "source": [
    "import matplotlib.pyplot as plt\n",
    "\n",
    "latencies_cl = [0.0924220085144043, 0.6072628498077393, 21000, None, None, None, None, None, None, None]\n",
    "\n",
    "plt.figure(figsize=(10, 6))\n",
    "plt.plot(features, latencies_cdt, marker='o', label='Latency CDT')\n",
    "plt.plot(features, latencies_cl, marker='o', label='Latency CL')\n",
    "plt.xlabel('Number of Features')\n",
    "plt.ylabel('Latency (seconds)')\n",
    "plt.title('Latency Comparison vs Number of Features')\n",
    "plt.grid(True)\n",
    "plt.legend()\n",
    "plt.show()\n"
   ]
  },
  {
   "cell_type": "code",
   "execution_count": null,
   "metadata": {},
   "outputs": [],
   "source": []
  }
 ],
 "metadata": {
  "kernelspec": {
   "display_name": "Python 3",
   "language": "python",
   "name": "python3"
  },
  "language_info": {
   "codemirror_mode": {
    "name": "ipython",
    "version": 3
   },
   "file_extension": ".py",
   "mimetype": "text/x-python",
   "name": "python",
   "nbconvert_exporter": "python",
   "pygments_lexer": "ipython3",
   "version": "3.10.14"
  }
 },
 "nbformat": 4,
 "nbformat_minor": 2
}
