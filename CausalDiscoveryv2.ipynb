{
 "cells": [
  {
   "cell_type": "markdown",
   "metadata": {},
   "source": [
    "Before we start, a couple of things to note here.\n",
    "\n",
    "1. I used variable thresholding presented in the CWGCNA analysis to find the top 500 features\n",
    "2. Realized that dagifying the resulting graph is near-to-impossible (kernel keeps crashing, not sure why)\n",
    "3. Reduced the dimensions down even further to 10 genes\n",
    "4. Performed the analysis with default settings, you can see results at the end"
   ]
  },
  {
   "cell_type": "code",
   "execution_count": 1,
   "metadata": {},
   "outputs": [],
   "source": [
    "import sys\n",
    "sys.path.append(\"/Users/shamanthk/Documents/iomics/dowhy-preeclampsia\")"
   ]
  },
  {
   "cell_type": "code",
   "execution_count": 2,
   "metadata": {},
   "outputs": [
    {
     "name": "stderr",
     "output_type": "stream",
     "text": [
      "No GPU automatically detected. Setting SETTINGS.GPU to 0, and SETTINGS.NJOBS to cpu_count.\n"
     ]
    }
   ],
   "source": [
    "import numpy as np\n",
    "import pandas as pd\n",
    "from EstimateEffect import *"
   ]
  },
  {
   "cell_type": "code",
   "execution_count": 3,
   "metadata": {},
   "outputs": [
    {
     "data": {
      "text/html": [
       "<div>\n",
       "<style scoped>\n",
       "    .dataframe tbody tr th:only-of-type {\n",
       "        vertical-align: middle;\n",
       "    }\n",
       "\n",
       "    .dataframe tbody tr th {\n",
       "        vertical-align: top;\n",
       "    }\n",
       "\n",
       "    .dataframe thead th {\n",
       "        text-align: right;\n",
       "    }\n",
       "</style>\n",
       "<table border=\"1\" class=\"dataframe\">\n",
       "  <thead>\n",
       "    <tr style=\"text-align: right;\">\n",
       "      <th></th>\n",
       "      <th>Unnamed: 0</th>\n",
       "      <th>sampleid</th>\n",
       "      <th>Group</th>\n",
       "      <th>Gestwk</th>\n",
       "      <th>Babygender</th>\n",
       "      <th>Ethnicity</th>\n",
       "      <th>Dataset</th>\n",
       "      <th>ABO</th>\n",
       "      <th>ACADL</th>\n",
       "      <th>ACOT11</th>\n",
       "      <th>...</th>\n",
       "      <th>ZNF560</th>\n",
       "      <th>ZNF562</th>\n",
       "      <th>ZNF572</th>\n",
       "      <th>ZNF577</th>\n",
       "      <th>ZNF660</th>\n",
       "      <th>ZNF667</th>\n",
       "      <th>ZNF785</th>\n",
       "      <th>ZNF804B</th>\n",
       "      <th>ZSCAN12</th>\n",
       "      <th>ZSCAN16</th>\n",
       "    </tr>\n",
       "  </thead>\n",
       "  <tbody>\n",
       "    <tr>\n",
       "      <th>0</th>\n",
       "      <td>1</td>\n",
       "      <td>GSM788417</td>\n",
       "      <td>Control</td>\n",
       "      <td>8.0</td>\n",
       "      <td>M</td>\n",
       "      <td>White</td>\n",
       "      <td>GSE31781</td>\n",
       "      <td>0.286653</td>\n",
       "      <td>0.100830</td>\n",
       "      <td>0.714489</td>\n",
       "      <td>...</td>\n",
       "      <td>0.216980</td>\n",
       "      <td>0.115556</td>\n",
       "      <td>0.382673</td>\n",
       "      <td>0.141096</td>\n",
       "      <td>0.395113</td>\n",
       "      <td>0.169859</td>\n",
       "      <td>0.554643</td>\n",
       "      <td>0.260140</td>\n",
       "      <td>0.153931</td>\n",
       "      <td>0.155679</td>\n",
       "    </tr>\n",
       "    <tr>\n",
       "      <th>1</th>\n",
       "      <td>2</td>\n",
       "      <td>GSM788419</td>\n",
       "      <td>Control</td>\n",
       "      <td>8.0</td>\n",
       "      <td>M</td>\n",
       "      <td>White</td>\n",
       "      <td>GSE31781</td>\n",
       "      <td>0.279650</td>\n",
       "      <td>0.087703</td>\n",
       "      <td>0.713941</td>\n",
       "      <td>...</td>\n",
       "      <td>0.217710</td>\n",
       "      <td>0.078361</td>\n",
       "      <td>0.358216</td>\n",
       "      <td>0.143691</td>\n",
       "      <td>0.394575</td>\n",
       "      <td>0.153465</td>\n",
       "      <td>0.545284</td>\n",
       "      <td>0.221913</td>\n",
       "      <td>0.144950</td>\n",
       "      <td>0.119980</td>\n",
       "    </tr>\n",
       "    <tr>\n",
       "      <th>2</th>\n",
       "      <td>3</td>\n",
       "      <td>GSM788420</td>\n",
       "      <td>Control</td>\n",
       "      <td>8.0</td>\n",
       "      <td>M</td>\n",
       "      <td>White</td>\n",
       "      <td>GSE31781</td>\n",
       "      <td>0.268227</td>\n",
       "      <td>0.081340</td>\n",
       "      <td>0.714192</td>\n",
       "      <td>...</td>\n",
       "      <td>0.196714</td>\n",
       "      <td>0.093258</td>\n",
       "      <td>0.367346</td>\n",
       "      <td>0.140717</td>\n",
       "      <td>0.402525</td>\n",
       "      <td>0.159516</td>\n",
       "      <td>0.564620</td>\n",
       "      <td>0.201813</td>\n",
       "      <td>0.142980</td>\n",
       "      <td>0.124261</td>\n",
       "    </tr>\n",
       "    <tr>\n",
       "      <th>3</th>\n",
       "      <td>4</td>\n",
       "      <td>GSM788421</td>\n",
       "      <td>Control</td>\n",
       "      <td>9.0</td>\n",
       "      <td>M</td>\n",
       "      <td>White</td>\n",
       "      <td>GSE31781</td>\n",
       "      <td>0.267576</td>\n",
       "      <td>0.080080</td>\n",
       "      <td>0.711066</td>\n",
       "      <td>...</td>\n",
       "      <td>0.184075</td>\n",
       "      <td>0.072457</td>\n",
       "      <td>0.385657</td>\n",
       "      <td>0.141546</td>\n",
       "      <td>0.409713</td>\n",
       "      <td>0.145243</td>\n",
       "      <td>0.549677</td>\n",
       "      <td>0.247063</td>\n",
       "      <td>0.144411</td>\n",
       "      <td>0.129721</td>\n",
       "    </tr>\n",
       "    <tr>\n",
       "      <th>4</th>\n",
       "      <td>5</td>\n",
       "      <td>GSM788414</td>\n",
       "      <td>Control</td>\n",
       "      <td>12.0</td>\n",
       "      <td>F</td>\n",
       "      <td>Asian</td>\n",
       "      <td>GSE31781</td>\n",
       "      <td>0.265860</td>\n",
       "      <td>0.078628</td>\n",
       "      <td>0.715149</td>\n",
       "      <td>...</td>\n",
       "      <td>0.208951</td>\n",
       "      <td>0.061186</td>\n",
       "      <td>0.358398</td>\n",
       "      <td>0.140577</td>\n",
       "      <td>0.360815</td>\n",
       "      <td>0.126509</td>\n",
       "      <td>0.499693</td>\n",
       "      <td>0.222571</td>\n",
       "      <td>0.148082</td>\n",
       "      <td>0.121801</td>\n",
       "    </tr>\n",
       "  </tbody>\n",
       "</table>\n",
       "<p>5 rows × 507 columns</p>\n",
       "</div>"
      ],
      "text/plain": [
       "   Unnamed: 0   sampleid    Group  Gestwk Babygender Ethnicity   Dataset  \\\n",
       "0           1  GSM788417  Control     8.0          M     White  GSE31781   \n",
       "1           2  GSM788419  Control     8.0          M     White  GSE31781   \n",
       "2           3  GSM788420  Control     8.0          M     White  GSE31781   \n",
       "3           4  GSM788421  Control     9.0          M     White  GSE31781   \n",
       "4           5  GSM788414  Control    12.0          F     Asian  GSE31781   \n",
       "\n",
       "        ABO     ACADL    ACOT11  ...    ZNF560    ZNF562    ZNF572    ZNF577  \\\n",
       "0  0.286653  0.100830  0.714489  ...  0.216980  0.115556  0.382673  0.141096   \n",
       "1  0.279650  0.087703  0.713941  ...  0.217710  0.078361  0.358216  0.143691   \n",
       "2  0.268227  0.081340  0.714192  ...  0.196714  0.093258  0.367346  0.140717   \n",
       "3  0.267576  0.080080  0.711066  ...  0.184075  0.072457  0.385657  0.141546   \n",
       "4  0.265860  0.078628  0.715149  ...  0.208951  0.061186  0.358398  0.140577   \n",
       "\n",
       "     ZNF660    ZNF667    ZNF785   ZNF804B   ZSCAN12   ZSCAN16  \n",
       "0  0.395113  0.169859  0.554643  0.260140  0.153931  0.155679  \n",
       "1  0.394575  0.153465  0.545284  0.221913  0.144950  0.119980  \n",
       "2  0.402525  0.159516  0.564620  0.201813  0.142980  0.124261  \n",
       "3  0.409713  0.145243  0.549677  0.247063  0.144411  0.129721  \n",
       "4  0.360815  0.126509  0.499693  0.222571  0.148082  0.121801  \n",
       "\n",
       "[5 rows x 507 columns]"
      ]
     },
     "execution_count": 3,
     "metadata": {},
     "output_type": "execute_result"
    }
   ],
   "source": [
    "betas_df = pd.read_csv('data/betas_500.csv')\n",
    "pds_df = pd.read_csv('data/pds.csv')\n",
    "\n",
    "betas_df_t = betas_df.set_index('Unnamed: 0').T.reset_index().rename(columns={'index': 'sampleid'})\n",
    "\n",
    "merged_df = pd.merge(pds_df, betas_df_t, on='sampleid')\n",
    "\n",
    "def clean_column_names(col_name):\n",
    "    if \"::\" in col_name:\n",
    "        return col_name.split(\"::\")[0]\n",
    "    return col_name\n",
    "\n",
    "merged_df.columns = [clean_column_names(col) for col in merged_df.columns]\n",
    "\n",
    "merged_df.head()"
   ]
  },
  {
   "cell_type": "code",
   "execution_count": 4,
   "metadata": {},
   "outputs": [
    {
     "data": {
      "text/html": [
       "<div>\n",
       "<style scoped>\n",
       "    .dataframe tbody tr th:only-of-type {\n",
       "        vertical-align: middle;\n",
       "    }\n",
       "\n",
       "    .dataframe tbody tr th {\n",
       "        vertical-align: top;\n",
       "    }\n",
       "\n",
       "    .dataframe thead th {\n",
       "        text-align: right;\n",
       "    }\n",
       "</style>\n",
       "<table border=\"1\" class=\"dataframe\">\n",
       "  <thead>\n",
       "    <tr style=\"text-align: right;\">\n",
       "      <th></th>\n",
       "      <th>Group</th>\n",
       "      <th>ABO</th>\n",
       "      <th>ACADL</th>\n",
       "      <th>ACOT11</th>\n",
       "      <th>ADAMTS14</th>\n",
       "      <th>ADCY4</th>\n",
       "      <th>ADD2</th>\n",
       "      <th>ADORA2B</th>\n",
       "      <th>ADRA1A</th>\n",
       "      <th>ADRA2C</th>\n",
       "      <th>...</th>\n",
       "      <th>ZNF560</th>\n",
       "      <th>ZNF562</th>\n",
       "      <th>ZNF572</th>\n",
       "      <th>ZNF577</th>\n",
       "      <th>ZNF660</th>\n",
       "      <th>ZNF667</th>\n",
       "      <th>ZNF785</th>\n",
       "      <th>ZNF804B</th>\n",
       "      <th>ZSCAN12</th>\n",
       "      <th>ZSCAN16</th>\n",
       "    </tr>\n",
       "  </thead>\n",
       "  <tbody>\n",
       "    <tr>\n",
       "      <th>0</th>\n",
       "      <td>Control</td>\n",
       "      <td>0.286653</td>\n",
       "      <td>0.100830</td>\n",
       "      <td>0.714489</td>\n",
       "      <td>0.216138</td>\n",
       "      <td>0.463232</td>\n",
       "      <td>0.211398</td>\n",
       "      <td>0.556021</td>\n",
       "      <td>0.375335</td>\n",
       "      <td>0.332831</td>\n",
       "      <td>...</td>\n",
       "      <td>0.216980</td>\n",
       "      <td>0.115556</td>\n",
       "      <td>0.382673</td>\n",
       "      <td>0.141096</td>\n",
       "      <td>0.395113</td>\n",
       "      <td>0.169859</td>\n",
       "      <td>0.554643</td>\n",
       "      <td>0.260140</td>\n",
       "      <td>0.153931</td>\n",
       "      <td>0.155679</td>\n",
       "    </tr>\n",
       "    <tr>\n",
       "      <th>1</th>\n",
       "      <td>Control</td>\n",
       "      <td>0.279650</td>\n",
       "      <td>0.087703</td>\n",
       "      <td>0.713941</td>\n",
       "      <td>0.186465</td>\n",
       "      <td>0.485031</td>\n",
       "      <td>0.201391</td>\n",
       "      <td>0.620715</td>\n",
       "      <td>0.361520</td>\n",
       "      <td>0.327508</td>\n",
       "      <td>...</td>\n",
       "      <td>0.217710</td>\n",
       "      <td>0.078361</td>\n",
       "      <td>0.358216</td>\n",
       "      <td>0.143691</td>\n",
       "      <td>0.394575</td>\n",
       "      <td>0.153465</td>\n",
       "      <td>0.545284</td>\n",
       "      <td>0.221913</td>\n",
       "      <td>0.144950</td>\n",
       "      <td>0.119980</td>\n",
       "    </tr>\n",
       "    <tr>\n",
       "      <th>2</th>\n",
       "      <td>Control</td>\n",
       "      <td>0.268227</td>\n",
       "      <td>0.081340</td>\n",
       "      <td>0.714192</td>\n",
       "      <td>0.195455</td>\n",
       "      <td>0.461802</td>\n",
       "      <td>0.210969</td>\n",
       "      <td>0.545269</td>\n",
       "      <td>0.364272</td>\n",
       "      <td>0.312898</td>\n",
       "      <td>...</td>\n",
       "      <td>0.196714</td>\n",
       "      <td>0.093258</td>\n",
       "      <td>0.367346</td>\n",
       "      <td>0.140717</td>\n",
       "      <td>0.402525</td>\n",
       "      <td>0.159516</td>\n",
       "      <td>0.564620</td>\n",
       "      <td>0.201813</td>\n",
       "      <td>0.142980</td>\n",
       "      <td>0.124261</td>\n",
       "    </tr>\n",
       "    <tr>\n",
       "      <th>3</th>\n",
       "      <td>Control</td>\n",
       "      <td>0.267576</td>\n",
       "      <td>0.080080</td>\n",
       "      <td>0.711066</td>\n",
       "      <td>0.188846</td>\n",
       "      <td>0.433606</td>\n",
       "      <td>0.208251</td>\n",
       "      <td>0.617009</td>\n",
       "      <td>0.380944</td>\n",
       "      <td>0.289887</td>\n",
       "      <td>...</td>\n",
       "      <td>0.184075</td>\n",
       "      <td>0.072457</td>\n",
       "      <td>0.385657</td>\n",
       "      <td>0.141546</td>\n",
       "      <td>0.409713</td>\n",
       "      <td>0.145243</td>\n",
       "      <td>0.549677</td>\n",
       "      <td>0.247063</td>\n",
       "      <td>0.144411</td>\n",
       "      <td>0.129721</td>\n",
       "    </tr>\n",
       "    <tr>\n",
       "      <th>4</th>\n",
       "      <td>Control</td>\n",
       "      <td>0.265860</td>\n",
       "      <td>0.078628</td>\n",
       "      <td>0.715149</td>\n",
       "      <td>0.164783</td>\n",
       "      <td>0.435845</td>\n",
       "      <td>0.212740</td>\n",
       "      <td>0.615782</td>\n",
       "      <td>0.363593</td>\n",
       "      <td>0.291139</td>\n",
       "      <td>...</td>\n",
       "      <td>0.208951</td>\n",
       "      <td>0.061186</td>\n",
       "      <td>0.358398</td>\n",
       "      <td>0.140577</td>\n",
       "      <td>0.360815</td>\n",
       "      <td>0.126509</td>\n",
       "      <td>0.499693</td>\n",
       "      <td>0.222571</td>\n",
       "      <td>0.148082</td>\n",
       "      <td>0.121801</td>\n",
       "    </tr>\n",
       "  </tbody>\n",
       "</table>\n",
       "<p>5 rows × 501 columns</p>\n",
       "</div>"
      ],
      "text/plain": [
       "     Group       ABO     ACADL    ACOT11  ADAMTS14     ADCY4      ADD2  \\\n",
       "0  Control  0.286653  0.100830  0.714489  0.216138  0.463232  0.211398   \n",
       "1  Control  0.279650  0.087703  0.713941  0.186465  0.485031  0.201391   \n",
       "2  Control  0.268227  0.081340  0.714192  0.195455  0.461802  0.210969   \n",
       "3  Control  0.267576  0.080080  0.711066  0.188846  0.433606  0.208251   \n",
       "4  Control  0.265860  0.078628  0.715149  0.164783  0.435845  0.212740   \n",
       "\n",
       "    ADORA2B    ADRA1A    ADRA2C  ...    ZNF560    ZNF562    ZNF572    ZNF577  \\\n",
       "0  0.556021  0.375335  0.332831  ...  0.216980  0.115556  0.382673  0.141096   \n",
       "1  0.620715  0.361520  0.327508  ...  0.217710  0.078361  0.358216  0.143691   \n",
       "2  0.545269  0.364272  0.312898  ...  0.196714  0.093258  0.367346  0.140717   \n",
       "3  0.617009  0.380944  0.289887  ...  0.184075  0.072457  0.385657  0.141546   \n",
       "4  0.615782  0.363593  0.291139  ...  0.208951  0.061186  0.358398  0.140577   \n",
       "\n",
       "     ZNF660    ZNF667    ZNF785   ZNF804B   ZSCAN12   ZSCAN16  \n",
       "0  0.395113  0.169859  0.554643  0.260140  0.153931  0.155679  \n",
       "1  0.394575  0.153465  0.545284  0.221913  0.144950  0.119980  \n",
       "2  0.402525  0.159516  0.564620  0.201813  0.142980  0.124261  \n",
       "3  0.409713  0.145243  0.549677  0.247063  0.144411  0.129721  \n",
       "4  0.360815  0.126509  0.499693  0.222571  0.148082  0.121801  \n",
       "\n",
       "[5 rows x 501 columns]"
      ]
     },
     "execution_count": 4,
     "metadata": {},
     "output_type": "execute_result"
    }
   ],
   "source": [
    "df = merged_df.drop(columns=['Unnamed: 0', 'sampleid', 'Gestwk', 'Ethnicity', 'Dataset', 'Babygender'])\n",
    "df.head()"
   ]
  },
  {
   "cell_type": "code",
   "execution_count": 5,
   "metadata": {},
   "outputs": [
    {
     "data": {
      "text/html": [
       "<div>\n",
       "<style scoped>\n",
       "    .dataframe tbody tr th:only-of-type {\n",
       "        vertical-align: middle;\n",
       "    }\n",
       "\n",
       "    .dataframe tbody tr th {\n",
       "        vertical-align: top;\n",
       "    }\n",
       "\n",
       "    .dataframe thead th {\n",
       "        text-align: right;\n",
       "    }\n",
       "</style>\n",
       "<table border=\"1\" class=\"dataframe\">\n",
       "  <thead>\n",
       "    <tr style=\"text-align: right;\">\n",
       "      <th></th>\n",
       "      <th>Group</th>\n",
       "      <th>ABO</th>\n",
       "      <th>ACADL</th>\n",
       "      <th>ACOT11</th>\n",
       "      <th>ADAMTS14</th>\n",
       "      <th>ADCY4</th>\n",
       "      <th>ADD2</th>\n",
       "      <th>ADORA2B</th>\n",
       "      <th>ADRA1A</th>\n",
       "      <th>ADRA2C</th>\n",
       "      <th>...</th>\n",
       "      <th>ZNF560</th>\n",
       "      <th>ZNF562</th>\n",
       "      <th>ZNF572</th>\n",
       "      <th>ZNF577</th>\n",
       "      <th>ZNF660</th>\n",
       "      <th>ZNF667</th>\n",
       "      <th>ZNF785</th>\n",
       "      <th>ZNF804B</th>\n",
       "      <th>ZSCAN12</th>\n",
       "      <th>ZSCAN16</th>\n",
       "    </tr>\n",
       "  </thead>\n",
       "  <tbody>\n",
       "    <tr>\n",
       "      <th>0</th>\n",
       "      <td>0</td>\n",
       "      <td>0.286653</td>\n",
       "      <td>0.100830</td>\n",
       "      <td>0.714489</td>\n",
       "      <td>0.216138</td>\n",
       "      <td>0.463232</td>\n",
       "      <td>0.211398</td>\n",
       "      <td>0.556021</td>\n",
       "      <td>0.375335</td>\n",
       "      <td>0.332831</td>\n",
       "      <td>...</td>\n",
       "      <td>0.216980</td>\n",
       "      <td>0.115556</td>\n",
       "      <td>0.382673</td>\n",
       "      <td>0.141096</td>\n",
       "      <td>0.395113</td>\n",
       "      <td>0.169859</td>\n",
       "      <td>0.554643</td>\n",
       "      <td>0.260140</td>\n",
       "      <td>0.153931</td>\n",
       "      <td>0.155679</td>\n",
       "    </tr>\n",
       "    <tr>\n",
       "      <th>1</th>\n",
       "      <td>0</td>\n",
       "      <td>0.279650</td>\n",
       "      <td>0.087703</td>\n",
       "      <td>0.713941</td>\n",
       "      <td>0.186465</td>\n",
       "      <td>0.485031</td>\n",
       "      <td>0.201391</td>\n",
       "      <td>0.620715</td>\n",
       "      <td>0.361520</td>\n",
       "      <td>0.327508</td>\n",
       "      <td>...</td>\n",
       "      <td>0.217710</td>\n",
       "      <td>0.078361</td>\n",
       "      <td>0.358216</td>\n",
       "      <td>0.143691</td>\n",
       "      <td>0.394575</td>\n",
       "      <td>0.153465</td>\n",
       "      <td>0.545284</td>\n",
       "      <td>0.221913</td>\n",
       "      <td>0.144950</td>\n",
       "      <td>0.119980</td>\n",
       "    </tr>\n",
       "    <tr>\n",
       "      <th>2</th>\n",
       "      <td>0</td>\n",
       "      <td>0.268227</td>\n",
       "      <td>0.081340</td>\n",
       "      <td>0.714192</td>\n",
       "      <td>0.195455</td>\n",
       "      <td>0.461802</td>\n",
       "      <td>0.210969</td>\n",
       "      <td>0.545269</td>\n",
       "      <td>0.364272</td>\n",
       "      <td>0.312898</td>\n",
       "      <td>...</td>\n",
       "      <td>0.196714</td>\n",
       "      <td>0.093258</td>\n",
       "      <td>0.367346</td>\n",
       "      <td>0.140717</td>\n",
       "      <td>0.402525</td>\n",
       "      <td>0.159516</td>\n",
       "      <td>0.564620</td>\n",
       "      <td>0.201813</td>\n",
       "      <td>0.142980</td>\n",
       "      <td>0.124261</td>\n",
       "    </tr>\n",
       "    <tr>\n",
       "      <th>3</th>\n",
       "      <td>0</td>\n",
       "      <td>0.267576</td>\n",
       "      <td>0.080080</td>\n",
       "      <td>0.711066</td>\n",
       "      <td>0.188846</td>\n",
       "      <td>0.433606</td>\n",
       "      <td>0.208251</td>\n",
       "      <td>0.617009</td>\n",
       "      <td>0.380944</td>\n",
       "      <td>0.289887</td>\n",
       "      <td>...</td>\n",
       "      <td>0.184075</td>\n",
       "      <td>0.072457</td>\n",
       "      <td>0.385657</td>\n",
       "      <td>0.141546</td>\n",
       "      <td>0.409713</td>\n",
       "      <td>0.145243</td>\n",
       "      <td>0.549677</td>\n",
       "      <td>0.247063</td>\n",
       "      <td>0.144411</td>\n",
       "      <td>0.129721</td>\n",
       "    </tr>\n",
       "    <tr>\n",
       "      <th>4</th>\n",
       "      <td>0</td>\n",
       "      <td>0.265860</td>\n",
       "      <td>0.078628</td>\n",
       "      <td>0.715149</td>\n",
       "      <td>0.164783</td>\n",
       "      <td>0.435845</td>\n",
       "      <td>0.212740</td>\n",
       "      <td>0.615782</td>\n",
       "      <td>0.363593</td>\n",
       "      <td>0.291139</td>\n",
       "      <td>...</td>\n",
       "      <td>0.208951</td>\n",
       "      <td>0.061186</td>\n",
       "      <td>0.358398</td>\n",
       "      <td>0.140577</td>\n",
       "      <td>0.360815</td>\n",
       "      <td>0.126509</td>\n",
       "      <td>0.499693</td>\n",
       "      <td>0.222571</td>\n",
       "      <td>0.148082</td>\n",
       "      <td>0.121801</td>\n",
       "    </tr>\n",
       "  </tbody>\n",
       "</table>\n",
       "<p>5 rows × 501 columns</p>\n",
       "</div>"
      ],
      "text/plain": [
       "   Group       ABO     ACADL    ACOT11  ADAMTS14     ADCY4      ADD2  \\\n",
       "0      0  0.286653  0.100830  0.714489  0.216138  0.463232  0.211398   \n",
       "1      0  0.279650  0.087703  0.713941  0.186465  0.485031  0.201391   \n",
       "2      0  0.268227  0.081340  0.714192  0.195455  0.461802  0.210969   \n",
       "3      0  0.267576  0.080080  0.711066  0.188846  0.433606  0.208251   \n",
       "4      0  0.265860  0.078628  0.715149  0.164783  0.435845  0.212740   \n",
       "\n",
       "    ADORA2B    ADRA1A    ADRA2C  ...    ZNF560    ZNF562    ZNF572    ZNF577  \\\n",
       "0  0.556021  0.375335  0.332831  ...  0.216980  0.115556  0.382673  0.141096   \n",
       "1  0.620715  0.361520  0.327508  ...  0.217710  0.078361  0.358216  0.143691   \n",
       "2  0.545269  0.364272  0.312898  ...  0.196714  0.093258  0.367346  0.140717   \n",
       "3  0.617009  0.380944  0.289887  ...  0.184075  0.072457  0.385657  0.141546   \n",
       "4  0.615782  0.363593  0.291139  ...  0.208951  0.061186  0.358398  0.140577   \n",
       "\n",
       "     ZNF660    ZNF667    ZNF785   ZNF804B   ZSCAN12   ZSCAN16  \n",
       "0  0.395113  0.169859  0.554643  0.260140  0.153931  0.155679  \n",
       "1  0.394575  0.153465  0.545284  0.221913  0.144950  0.119980  \n",
       "2  0.402525  0.159516  0.564620  0.201813  0.142980  0.124261  \n",
       "3  0.409713  0.145243  0.549677  0.247063  0.144411  0.129721  \n",
       "4  0.360815  0.126509  0.499693  0.222571  0.148082  0.121801  \n",
       "\n",
       "[5 rows x 501 columns]"
      ]
     },
     "execution_count": 5,
     "metadata": {},
     "output_type": "execute_result"
    }
   ],
   "source": [
    "df['Group'] = df['Group'].map({'Control': 0, 'Preeclampsia': 1})\n",
    "df.head()"
   ]
  },
  {
   "cell_type": "code",
   "execution_count": 6,
   "metadata": {},
   "outputs": [
    {
     "data": {
      "image/png": "[encoded data removed]",
      "text/latex": [
       "$\\displaystyle \\left( 359, \\  50\\right)$"
      ],
      "text/plain": [
       "(359, 50)"
      ]
     },
     "execution_count": 6,
     "metadata": {},
     "output_type": "execute_result"
    }
   ],
   "source": [
    "df = df.drop(columns=df.columns[50:])\n",
    "df.shape"
   ]
  },
  {
   "cell_type": "code",
   "execution_count": 7,
   "metadata": {},
   "outputs": [
    {
     "data": {
      "text/plain": [
       "Index(['Group', 'ABO', 'ACADL', 'ACOT11', 'ADAMTS14', 'ADCY4', 'ADD2',\n",
       "       'ADORA2B', 'ADRA1A', 'ADRA2C', 'ADRB2', 'AEN', 'AIFM2', 'AIRE',\n",
       "       'AKAP12', 'AKAP3', 'AKR1B1', 'ALK', 'ALKBH3', 'AMDHD1', 'ANKRD30A',\n",
       "       'ANKRD45', 'ANKRD53', 'ANKRD7', 'ANP32D', 'ANTXR1', 'APCDD1', 'APCDD1L',\n",
       "       'APOL6', 'ARNT2', 'ARPP-21', 'ARRDC4', 'ART5', 'ATP5G2', 'B3GNT3',\n",
       "       'B4GALNT2', 'BAK1', 'BCL11B', 'BCL2A1', 'BMP10', 'BNIP3', 'BOLL',\n",
       "       'C10orf11', 'C11orf92', 'C11orf93', 'C13orf33', 'C14orf162', 'C15orf2',\n",
       "       'C16orf63', 'C18orf16'],\n",
       "      dtype='object')"
      ]
     },
     "execution_count": 7,
     "metadata": {},
     "output_type": "execute_result"
    }
   ],
   "source": [
    "df.columns"
   ]
  },
  {
   "cell_type": "code",
   "execution_count": 8,
   "metadata": {},
   "outputs": [],
   "source": [
    "EstimationModel = EstimateEffect(df)"
   ]
  },
  {
   "cell_type": "code",
   "execution_count": 9,
   "metadata": {},
   "outputs": [
    {
     "data": {
      "image/png": "[encoded data removed]",
      "text/plain": [
       "<Figure size 640x480 with 1 Axes>"
      ]
     },
     "metadata": {},
     "output_type": "display_data"
    }
   ],
   "source": [
    "causal_graph = EstimationModel.find_causal_graph(algo='CCDr')\n",
    "\n",
    "disp_graph_nx(causal_graph)"
   ]
  },
  {
   "cell_type": "code",
   "execution_count": 10,
   "metadata": {},
   "outputs": [
    {
     "data": {
      "text/plain": [
       "OutEdgeView([('ABO', 'ACADL'), ('ABO', 'ADCY4'), ('ABO', 'ADRA1A'), ('ACADL', 'AKR1B1'), ('ACADL', 'ARRDC4'), ('ADAMTS14', 'ADRA1A'), ('ADAMTS14', 'AKR1B1'), ('ADAMTS14', 'BCL11B'), ('ADCY4', 'ARNT2'), ('ADCY4', 'B4GALNT2'), ('ADCY4', 'C14orf162'), ('ADD2', 'ALKBH3'), ('ADRA1A', 'ARNT2'), ('ADRA1A', 'B4GALNT2'), ('ADRA1A', 'C13orf33'), ('ADRA2C', 'ARRDC4'), ('ADRA2C', 'C13orf33'), ('ADRA2C', 'ADAMTS14'), ('ADRB2', 'ALK'), ('ADRB2', 'ANTXR1'), ('AIRE', 'AEN'), ('AIRE', 'ANP32D'), ('AIRE', 'ANTXR1'), ('AIRE', 'BNIP3'), ('AKAP12', 'ACOT11'), ('AKAP12', 'AMDHD1'), ('AKAP3', 'BMP10'), ('AKAP3', 'ANP32D'), ('AKR1B1', 'AIRE'), ('ALK', 'AIFM2'), ('AMDHD1', 'ACOT11'), ('AMDHD1', 'C10orf11'), ('ANKRD53', 'C11orf93'), ('ANP32D', 'ATP5G2'), ('ANTXR1', 'AIFM2'), ('APCDD1L', 'BOLL'), ('APOL6', 'AKAP12'), ('APOL6', 'ATP5G2'), ('APOL6', 'BNIP3'), ('APOL6', 'Group'), ('ARPP-21', 'ANKRD7'), ('ARPP-21', 'BOLL'), ('ARPP-21', 'C10orf11'), ('ARPP-21', 'C18orf16'), ('ARPP-21', 'BMP10'), ('ARRDC4', 'ANKRD45'), ('ART5', 'ADRB2'), ('ART5', 'ALK'), ('B3GNT3', 'AEN'), ('B4GALNT2', 'C15orf2'), ('BCL11B', 'ALKBH3'), ('BCL11B', 'ARRDC4'), ('BCL11B', 'C13orf33'), ('BCL2A1', 'ANP32D'), ('BMP10', 'Group'), ('BMP10', 'ANKRD7'), ('BMP10', 'BCL2A1'), ('BNIP3', 'B3GNT3'), ('BOLL', 'ABO'), ('BOLL', 'ADAMTS14'), ('BOLL', 'BCL11B'), ('C10orf11', 'ADRB2'), ('C10orf11', 'BCL2A1'), ('C11orf92', 'C11orf93'), ('C13orf33', 'AIRE'), ('C14orf162', 'ANKRD30A'), ('C15orf2', 'AKR1B1'), ('C16orf63', 'APCDD1L'), ('C18orf16', 'ANKRD7'), ('C18orf16', 'APCDD1'), ('C18orf16', 'BMP10')])"
      ]
     },
     "execution_count": 10,
     "metadata": {},
     "output_type": "execute_result"
    }
   ],
   "source": [
    "causal_graph.edges"
   ]
  },
  {
   "cell_type": "code",
   "execution_count": 11,
   "metadata": {},
   "outputs": [
    {
     "data": {
      "text/plain": [
       "True"
      ]
     },
     "execution_count": 11,
     "metadata": {},
     "output_type": "execute_result"
    }
   ],
   "source": [
    "nx.is_directed(causal_graph)"
   ]
  },
  {
   "cell_type": "code",
   "execution_count": 12,
   "metadata": {},
   "outputs": [
    {
     "data": {
      "text/plain": [
       "True"
      ]
     },
     "execution_count": 12,
     "metadata": {},
     "output_type": "execute_result"
    }
   ],
   "source": [
    "nx.is_directed_acyclic_graph(causal_graph)"
   ]
  },
  {
   "cell_type": "code",
   "execution_count": 13,
   "metadata": {},
   "outputs": [
    {
     "name": "stderr",
     "output_type": "stream",
     "text": [
      "Test permutations of given graph: 100%|██████████| 100/100 [17:34<00:00, 10.55s/it]\n"
     ]
    },
    {
     "data": {
      "image/png": "[encoded data removed]",
      "text/plain": [
       "<Figure size 800x300 with 1 Axes>"
      ]
     },
     "metadata": {},
     "output_type": "display_data"
    },
    {
     "data": {
      "text/plain": [
       "<networkx.classes.digraph.DiGraph at 0x17580b8e0>"
      ]
     },
     "execution_count": 13,
     "metadata": {},
     "output_type": "execute_result"
    }
   ],
   "source": [
    "EstimationModel.refute_cgm(show_plt=True, n_perm=100)"
   ]
  },
  {
   "cell_type": "code",
   "execution_count": 14,
   "metadata": {},
   "outputs": [
    {
     "data": {
      "text/plain": [
       "<dowhy.causal_model.CausalModel at 0x302f20dc0>"
      ]
     },
     "execution_count": 14,
     "metadata": {},
     "output_type": "execute_result"
    }
   ],
   "source": [
    "EstimationModel.create_model(treatment='ARPP-21', outcome='Group')"
   ]
  },
  {
   "cell_type": "code",
   "execution_count": 15,
   "metadata": {},
   "outputs": [
    {
     "ename": "KeyboardInterrupt",
     "evalue": "",
     "output_type": "error",
     "traceback": [
      "\u001b[0;31m---------------------------------------------------------------------------\u001b[0m",
      "\u001b[0;31mKeyboardInterrupt\u001b[0m                         Traceback (most recent call last)",
      "Cell \u001b[0;32mIn[15], line 1\u001b[0m\n\u001b[0;32m----> 1\u001b[0m \u001b[38;5;28mprint\u001b[39m(\u001b[43mEstimationModel\u001b[49m\u001b[38;5;241;43m.\u001b[39;49m\u001b[43midentify_effect\u001b[49m\u001b[43m(\u001b[49m\u001b[43m)\u001b[49m)\n",
      "File \u001b[0;32m~/Documents/iomics/dowhy-preeclampsia/EstimateEffect.py:116\u001b[0m, in \u001b[0;36mEstimateEffect.identify_effect\u001b[0;34m(self, method)\u001b[0m\n\u001b[1;32m    114\u001b[0m \u001b[38;5;28;01mtry\u001b[39;00m:\n\u001b[1;32m    115\u001b[0m     \u001b[38;5;28;01mif\u001b[39;00m method \u001b[38;5;129;01mis\u001b[39;00m \u001b[38;5;28;01mNone\u001b[39;00m:\n\u001b[0;32m--> 116\u001b[0m         identified_estimand \u001b[38;5;241m=\u001b[39m \u001b[38;5;28;43mself\u001b[39;49m\u001b[38;5;241;43m.\u001b[39;49m\u001b[43mmodel\u001b[49m\u001b[38;5;241;43m.\u001b[39;49m\u001b[43midentify_effect\u001b[49m\u001b[43m(\u001b[49m\u001b[43m)\u001b[49m\n\u001b[1;32m    117\u001b[0m     \u001b[38;5;28;01melse\u001b[39;00m:\n\u001b[1;32m    118\u001b[0m         identified_estimand \u001b[38;5;241m=\u001b[39m \u001b[38;5;28mself\u001b[39m\u001b[38;5;241m.\u001b[39mmodel\u001b[38;5;241m.\u001b[39midentify_effect(method\u001b[38;5;241m=\u001b[39mmethod)\n",
      "File \u001b[0;32m~/.pyenv/versions/3.10.14/lib/python3.10/site-packages/dowhy/causal_model.py:239\u001b[0m, in \u001b[0;36mCausalModel.identify_effect\u001b[0;34m(self, estimand_type, method_name, proceed_when_unidentifiable, optimize_backdoor)\u001b[0m\n\u001b[1;32m    232\u001b[0m \u001b[38;5;28;01melse\u001b[39;00m:\n\u001b[1;32m    233\u001b[0m     identifier \u001b[38;5;241m=\u001b[39m AutoIdentifier(\n\u001b[1;32m    234\u001b[0m         estimand_type\u001b[38;5;241m=\u001b[39mestimand_type,\n\u001b[1;32m    235\u001b[0m         backdoor_adjustment\u001b[38;5;241m=\u001b[39mBackdoorAdjustment(method_name),\n\u001b[1;32m    236\u001b[0m         optimize_backdoor\u001b[38;5;241m=\u001b[39moptimize_backdoor,\n\u001b[1;32m    237\u001b[0m     )\n\u001b[0;32m--> 239\u001b[0m identified_estimand \u001b[38;5;241m=\u001b[39m \u001b[43midentifier\u001b[49m\u001b[38;5;241;43m.\u001b[39;49m\u001b[43midentify_effect\u001b[49m\u001b[43m(\u001b[49m\n\u001b[1;32m    240\u001b[0m \u001b[43m    \u001b[49m\u001b[43mgraph\u001b[49m\u001b[38;5;241;43m=\u001b[39;49m\u001b[38;5;28;43mself\u001b[39;49m\u001b[38;5;241;43m.\u001b[39;49m\u001b[43m_graph\u001b[49m\u001b[38;5;241;43m.\u001b[39;49m\u001b[43m_graph\u001b[49m\u001b[43m,\u001b[49m\n\u001b[1;32m    241\u001b[0m \u001b[43m    \u001b[49m\u001b[43maction_nodes\u001b[49m\u001b[38;5;241;43m=\u001b[39;49m\u001b[38;5;28;43mself\u001b[39;49m\u001b[38;5;241;43m.\u001b[39;49m\u001b[43m_treatment\u001b[49m\u001b[43m,\u001b[49m\n\u001b[1;32m    242\u001b[0m \u001b[43m    \u001b[49m\u001b[43moutcome_nodes\u001b[49m\u001b[38;5;241;43m=\u001b[39;49m\u001b[38;5;28;43mself\u001b[39;49m\u001b[38;5;241;43m.\u001b[39;49m\u001b[43m_outcome\u001b[49m\u001b[43m,\u001b[49m\n\u001b[1;32m    243\u001b[0m \u001b[43m    \u001b[49m\u001b[43mobserved_nodes\u001b[49m\u001b[38;5;241;43m=\u001b[39;49m\u001b[38;5;28;43mlist\u001b[39;49m\u001b[43m(\u001b[49m\u001b[38;5;28;43mself\u001b[39;49m\u001b[38;5;241;43m.\u001b[39;49m\u001b[43m_graph\u001b[49m\u001b[38;5;241;43m.\u001b[39;49m\u001b[43mget_all_nodes\u001b[49m\u001b[43m(\u001b[49m\u001b[43minclude_unobserved\u001b[49m\u001b[38;5;241;43m=\u001b[39;49m\u001b[38;5;28;43;01mFalse\u001b[39;49;00m\u001b[43m)\u001b[49m\u001b[43m)\u001b[49m\u001b[43m,\u001b[49m\n\u001b[1;32m    244\u001b[0m \u001b[43m\u001b[49m\u001b[43m)\u001b[49m\n\u001b[1;32m    246\u001b[0m \u001b[38;5;28mself\u001b[39m\u001b[38;5;241m.\u001b[39midentifier \u001b[38;5;241m=\u001b[39m identifier\n\u001b[1;32m    248\u001b[0m \u001b[38;5;28;01mreturn\u001b[39;00m identified_estimand\n",
      "File \u001b[0;32m~/.pyenv/versions/3.10.14/lib/python3.10/site-packages/dowhy/causal_identifier/auto_identifier.py:101\u001b[0m, in \u001b[0;36mAutoIdentifier.identify_effect\u001b[0;34m(self, graph, action_nodes, outcome_nodes, observed_nodes, conditional_node_names)\u001b[0m\n\u001b[1;32m     93\u001b[0m \u001b[38;5;28;01mdef\u001b[39;00m \u001b[38;5;21midentify_effect\u001b[39m(\n\u001b[1;32m     94\u001b[0m     \u001b[38;5;28mself\u001b[39m,\n\u001b[1;32m     95\u001b[0m     graph: nx\u001b[38;5;241m.\u001b[39mDiGraph,\n\u001b[0;32m   (...)\u001b[0m\n\u001b[1;32m     99\u001b[0m     conditional_node_names: List[\u001b[38;5;28mstr\u001b[39m] \u001b[38;5;241m=\u001b[39m \u001b[38;5;28;01mNone\u001b[39;00m,\n\u001b[1;32m    100\u001b[0m ):\n\u001b[0;32m--> 101\u001b[0m     estimand \u001b[38;5;241m=\u001b[39m \u001b[43midentify_effect_auto\u001b[49m\u001b[43m(\u001b[49m\n\u001b[1;32m    102\u001b[0m \u001b[43m        \u001b[49m\u001b[43mgraph\u001b[49m\u001b[43m,\u001b[49m\n\u001b[1;32m    103\u001b[0m \u001b[43m        \u001b[49m\u001b[43maction_nodes\u001b[49m\u001b[43m,\u001b[49m\n\u001b[1;32m    104\u001b[0m \u001b[43m        \u001b[49m\u001b[43moutcome_nodes\u001b[49m\u001b[43m,\u001b[49m\n\u001b[1;32m    105\u001b[0m \u001b[43m        \u001b[49m\u001b[43mobserved_nodes\u001b[49m\u001b[43m,\u001b[49m\n\u001b[1;32m    106\u001b[0m \u001b[43m        \u001b[49m\u001b[38;5;28;43mself\u001b[39;49m\u001b[38;5;241;43m.\u001b[39;49m\u001b[43mestimand_type\u001b[49m\u001b[43m,\u001b[49m\n\u001b[1;32m    107\u001b[0m \u001b[43m        \u001b[49m\u001b[43mconditional_node_names\u001b[49m\u001b[43m,\u001b[49m\n\u001b[1;32m    108\u001b[0m \u001b[43m        \u001b[49m\u001b[38;5;28;43mself\u001b[39;49m\u001b[38;5;241;43m.\u001b[39;49m\u001b[43mbackdoor_adjustment\u001b[49m\u001b[43m,\u001b[49m\n\u001b[1;32m    109\u001b[0m \u001b[43m        \u001b[49m\u001b[38;5;28;43mself\u001b[39;49m\u001b[38;5;241;43m.\u001b[39;49m\u001b[43moptimize_backdoor\u001b[49m\u001b[43m,\u001b[49m\n\u001b[1;32m    110\u001b[0m \u001b[43m        \u001b[49m\u001b[38;5;28;43mself\u001b[39;49m\u001b[38;5;241;43m.\u001b[39;49m\u001b[43mcosts\u001b[49m\u001b[43m,\u001b[49m\n\u001b[1;32m    111\u001b[0m \u001b[43m    \u001b[49m\u001b[43m)\u001b[49m\n\u001b[1;32m    113\u001b[0m     estimand\u001b[38;5;241m.\u001b[39midentifier \u001b[38;5;241m=\u001b[39m \u001b[38;5;28mself\u001b[39m\n\u001b[1;32m    115\u001b[0m     \u001b[38;5;28;01mreturn\u001b[39;00m estimand\n",
      "File \u001b[0;32m~/.pyenv/versions/3.10.14/lib/python3.10/site-packages/dowhy/causal_identifier/auto_identifier.py:178\u001b[0m, in \u001b[0;36midentify_effect_auto\u001b[0;34m(graph, action_nodes, outcome_nodes, observed_nodes, estimand_type, conditional_node_names, backdoor_adjustment, optimize_backdoor, costs)\u001b[0m\n\u001b[1;32m    171\u001b[0m     \u001b[38;5;28;01mreturn\u001b[39;00m IdentifiedEstimand(\n\u001b[1;32m    172\u001b[0m         \u001b[38;5;28;01mNone\u001b[39;00m,\n\u001b[1;32m    173\u001b[0m         treatment_variable\u001b[38;5;241m=\u001b[39maction_nodes,\n\u001b[1;32m    174\u001b[0m         outcome_variable\u001b[38;5;241m=\u001b[39moutcome_nodes,\n\u001b[1;32m    175\u001b[0m         no_directed_path\u001b[38;5;241m=\u001b[39m\u001b[38;5;28;01mTrue\u001b[39;00m,\n\u001b[1;32m    176\u001b[0m     )\n\u001b[1;32m    177\u001b[0m \u001b[38;5;28;01mif\u001b[39;00m estimand_type \u001b[38;5;241m==\u001b[39m EstimandType\u001b[38;5;241m.\u001b[39mNONPARAMETRIC_ATE:\n\u001b[0;32m--> 178\u001b[0m     \u001b[38;5;28;01mreturn\u001b[39;00m \u001b[43midentify_ate_effect\u001b[49m\u001b[43m(\u001b[49m\n\u001b[1;32m    179\u001b[0m \u001b[43m        \u001b[49m\u001b[43mgraph\u001b[49m\u001b[43m,\u001b[49m\n\u001b[1;32m    180\u001b[0m \u001b[43m        \u001b[49m\u001b[43maction_nodes\u001b[49m\u001b[43m,\u001b[49m\n\u001b[1;32m    181\u001b[0m \u001b[43m        \u001b[49m\u001b[43moutcome_nodes\u001b[49m\u001b[43m,\u001b[49m\n\u001b[1;32m    182\u001b[0m \u001b[43m        \u001b[49m\u001b[43mobserved_nodes\u001b[49m\u001b[43m,\u001b[49m\n\u001b[1;32m    183\u001b[0m \u001b[43m        \u001b[49m\u001b[43mbackdoor_adjustment\u001b[49m\u001b[43m,\u001b[49m\n\u001b[1;32m    184\u001b[0m \u001b[43m        \u001b[49m\u001b[43moptimize_backdoor\u001b[49m\u001b[43m,\u001b[49m\n\u001b[1;32m    185\u001b[0m \u001b[43m        \u001b[49m\u001b[43mestimand_type\u001b[49m\u001b[43m,\u001b[49m\n\u001b[1;32m    186\u001b[0m \u001b[43m        \u001b[49m\u001b[43mcosts\u001b[49m\u001b[43m,\u001b[49m\n\u001b[1;32m    187\u001b[0m \u001b[43m        \u001b[49m\u001b[43mconditional_node_names\u001b[49m\u001b[43m,\u001b[49m\n\u001b[1;32m    188\u001b[0m \u001b[43m    \u001b[49m\u001b[43m)\u001b[49m\n\u001b[1;32m    189\u001b[0m \u001b[38;5;28;01melif\u001b[39;00m estimand_type \u001b[38;5;241m==\u001b[39m EstimandType\u001b[38;5;241m.\u001b[39mNONPARAMETRIC_NDE:\n\u001b[1;32m    190\u001b[0m     \u001b[38;5;28;01mreturn\u001b[39;00m identify_nde_effect(\n\u001b[1;32m    191\u001b[0m         graph, action_nodes, outcome_nodes, observed_nodes, backdoor_adjustment, estimand_type\n\u001b[1;32m    192\u001b[0m     )\n",
      "File \u001b[0;32m~/.pyenv/versions/3.10.14/lib/python3.10/site-packages/dowhy/causal_identifier/auto_identifier.py:274\u001b[0m, in \u001b[0;36midentify_ate_effect\u001b[0;34m(graph, action_nodes, outcome_nodes, observed_nodes, backdoor_adjustment, optimize_backdoor, estimand_type, costs, conditional_node_names)\u001b[0m\n\u001b[1;32m    270\u001b[0m     estimands_dict[\u001b[38;5;124m\"\u001b[39m\u001b[38;5;124miv\u001b[39m\u001b[38;5;124m\"\u001b[39m] \u001b[38;5;241m=\u001b[39m \u001b[38;5;28;01mNone\u001b[39;00m\n\u001b[1;32m    272\u001b[0m \u001b[38;5;66;03m### 3. FRONTDOOR IDENTIFICATION\u001b[39;00m\n\u001b[1;32m    273\u001b[0m \u001b[38;5;66;03m# Now checking if there is a valid frontdoor variable\u001b[39;00m\n\u001b[0;32m--> 274\u001b[0m frontdoor_variables_names \u001b[38;5;241m=\u001b[39m \u001b[43midentify_frontdoor\u001b[49m\u001b[43m(\u001b[49m\u001b[43mgraph\u001b[49m\u001b[43m,\u001b[49m\u001b[43m \u001b[49m\u001b[43maction_nodes\u001b[49m\u001b[43m,\u001b[49m\u001b[43m \u001b[49m\u001b[43moutcome_nodes\u001b[49m\u001b[43m,\u001b[49m\u001b[43m \u001b[49m\u001b[43mobserved_nodes\u001b[49m\u001b[43m)\u001b[49m\n\u001b[1;32m    275\u001b[0m logger\u001b[38;5;241m.\u001b[39minfo(\u001b[38;5;124m\"\u001b[39m\u001b[38;5;124mFrontdoor variables for treatment and outcome:\u001b[39m\u001b[38;5;124m\"\u001b[39m \u001b[38;5;241m+\u001b[39m \u001b[38;5;28mstr\u001b[39m(frontdoor_variables_names))\n\u001b[1;32m    276\u001b[0m \u001b[38;5;28;01mif\u001b[39;00m \u001b[38;5;28mlen\u001b[39m(frontdoor_variables_names) \u001b[38;5;241m>\u001b[39m \u001b[38;5;241m0\u001b[39m:\n",
      "File \u001b[0;32m~/.pyenv/versions/3.10.14/lib/python3.10/site-packages/dowhy/causal_identifier/auto_identifier.py:806\u001b[0m, in \u001b[0;36midentify_frontdoor\u001b[0;34m(graph, action_nodes, outcome_nodes, observed_nodes, dseparation_algo)\u001b[0m\n\u001b[1;32m    804\u001b[0m candidate_set \u001b[38;5;241m=\u001b[39m \u001b[38;5;28mlist\u001b[39m(candidate_set)\n\u001b[1;32m    805\u001b[0m \u001b[38;5;66;03m# Cond 1: All directed paths intercepted by candidate_var\u001b[39;00m\n\u001b[0;32m--> 806\u001b[0m cond1 \u001b[38;5;241m=\u001b[39m \u001b[43mcheck_valid_frontdoor_set\u001b[49m\u001b[43m(\u001b[49m\n\u001b[1;32m    807\u001b[0m \u001b[43m    \u001b[49m\u001b[43mgraph\u001b[49m\u001b[43m,\u001b[49m\n\u001b[1;32m    808\u001b[0m \u001b[43m    \u001b[49m\u001b[43maction_nodes\u001b[49m\u001b[43m,\u001b[49m\n\u001b[1;32m    809\u001b[0m \u001b[43m    \u001b[49m\u001b[43moutcome_nodes\u001b[49m\u001b[43m,\u001b[49m\n\u001b[1;32m    810\u001b[0m \u001b[43m    \u001b[49m\u001b[43mcandidate_set\u001b[49m\u001b[43m,\u001b[49m\n\u001b[1;32m    811\u001b[0m \u001b[43m    \u001b[49m\u001b[43mfrontdoor_paths\u001b[49m\u001b[38;5;241;43m=\u001b[39;49m\u001b[43mfrontdoor_paths\u001b[49m\u001b[43m,\u001b[49m\n\u001b[1;32m    812\u001b[0m \u001b[43m    \u001b[49m\u001b[43mnew_graph\u001b[49m\u001b[38;5;241;43m=\u001b[39;49m\u001b[43mcond1_graph\u001b[49m\u001b[43m,\u001b[49m\n\u001b[1;32m    813\u001b[0m \u001b[43m    \u001b[49m\u001b[43mdseparation_algo\u001b[49m\u001b[38;5;241;43m=\u001b[39;49m\u001b[43mdseparation_algo\u001b[49m\u001b[43m,\u001b[49m\n\u001b[1;32m    814\u001b[0m \u001b[43m\u001b[49m\u001b[43m)\u001b[49m\n\u001b[1;32m    815\u001b[0m logger\u001b[38;5;241m.\u001b[39mdebug(\u001b[38;5;124m\"\u001b[39m\u001b[38;5;124mCandidate frontdoor set: \u001b[39m\u001b[38;5;132;01m{0}\u001b[39;00m\u001b[38;5;124m, Cond1: is_dseparated: \u001b[39m\u001b[38;5;132;01m{1}\u001b[39;00m\u001b[38;5;124m\"\u001b[39m\u001b[38;5;241m.\u001b[39mformat(candidate_set, cond1))\n\u001b[1;32m    816\u001b[0m \u001b[38;5;28;01mif\u001b[39;00m \u001b[38;5;129;01mnot\u001b[39;00m cond1:\n",
      "File \u001b[0;32m~/.pyenv/versions/3.10.14/lib/python3.10/site-packages/dowhy/graph.py:249\u001b[0m, in \u001b[0;36mcheck_valid_frontdoor_set\u001b[0;34m(graph, nodes1, nodes2, candidate_nodes, frontdoor_paths, new_graph, dseparation_algo)\u001b[0m\n\u001b[1;32m    247\u001b[0m     \u001b[38;5;28;01mif\u001b[39;00m new_graph \u001b[38;5;129;01mis\u001b[39;00m \u001b[38;5;28;01mNone\u001b[39;00m:\n\u001b[1;32m    248\u001b[0m         new_graph \u001b[38;5;241m=\u001b[39m graph\n\u001b[0;32m--> 249\u001b[0m     dseparated \u001b[38;5;241m=\u001b[39m \u001b[43mnx\u001b[49m\u001b[38;5;241;43m.\u001b[39;49m\u001b[43malgorithms\u001b[49m\u001b[38;5;241;43m.\u001b[39;49m\u001b[43md_separated\u001b[49m\u001b[43m(\u001b[49m\u001b[43mnew_graph\u001b[49m\u001b[43m,\u001b[49m\u001b[43m \u001b[49m\u001b[38;5;28;43mset\u001b[39;49m\u001b[43m(\u001b[49m\u001b[43mnodes1\u001b[49m\u001b[43m)\u001b[49m\u001b[43m,\u001b[49m\u001b[43m \u001b[49m\u001b[38;5;28;43mset\u001b[39;49m\u001b[43m(\u001b[49m\u001b[43mnodes2\u001b[49m\u001b[43m)\u001b[49m\u001b[43m,\u001b[49m\u001b[43m \u001b[49m\u001b[38;5;28;43mset\u001b[39;49m\u001b[43m(\u001b[49m\u001b[43mcandidate_nodes\u001b[49m\u001b[43m)\u001b[49m\u001b[43m)\u001b[49m\n\u001b[1;32m    250\u001b[0m \u001b[38;5;28;01melif\u001b[39;00m dseparation_algo \u001b[38;5;241m==\u001b[39m \u001b[38;5;124m\"\u001b[39m\u001b[38;5;124mnaive\u001b[39m\u001b[38;5;124m\"\u001b[39m:\n\u001b[1;32m    251\u001b[0m     \u001b[38;5;28;01mif\u001b[39;00m frontdoor_paths \u001b[38;5;129;01mis\u001b[39;00m \u001b[38;5;28;01mNone\u001b[39;00m:\n",
      "File \u001b[0;32m~/.pyenv/versions/3.10.14/lib/python3.10/site-packages/networkx/algorithms/d_separation.py:700\u001b[0m, in \u001b[0;36md_separated\u001b[0;34m(G, x, y, z)\u001b[0m\n\u001b[1;32m    692\u001b[0m \u001b[38;5;28;01mimport\u001b[39;00m \u001b[38;5;21;01mwarnings\u001b[39;00m\n\u001b[1;32m    694\u001b[0m warnings\u001b[38;5;241m.\u001b[39mwarn(\n\u001b[1;32m    695\u001b[0m     \u001b[38;5;124m\"\u001b[39m\u001b[38;5;124md_separated is deprecated and will be removed in NetworkX v3.5.\u001b[39m\u001b[38;5;124m\"\u001b[39m\n\u001b[1;32m    696\u001b[0m     \u001b[38;5;124m\"\u001b[39m\u001b[38;5;124mPlease use `is_d_separator(G, x, y, z)`.\u001b[39m\u001b[38;5;124m\"\u001b[39m,\n\u001b[1;32m    697\u001b[0m     category\u001b[38;5;241m=\u001b[39m\u001b[38;5;167;01mDeprecationWarning\u001b[39;00m,\n\u001b[1;32m    698\u001b[0m     stacklevel\u001b[38;5;241m=\u001b[39m\u001b[38;5;241m2\u001b[39m,\n\u001b[1;32m    699\u001b[0m )\n\u001b[0;32m--> 700\u001b[0m \u001b[38;5;28;01mreturn\u001b[39;00m \u001b[43mnx\u001b[49m\u001b[38;5;241;43m.\u001b[39;49m\u001b[43mis_d_separator\u001b[49m\u001b[43m(\u001b[49m\u001b[43mG\u001b[49m\u001b[43m,\u001b[49m\u001b[43m \u001b[49m\u001b[43mx\u001b[49m\u001b[43m,\u001b[49m\u001b[43m \u001b[49m\u001b[43my\u001b[49m\u001b[43m,\u001b[49m\u001b[43m \u001b[49m\u001b[43mz\u001b[49m\u001b[43m)\u001b[49m\n",
      "File \u001b[0;32m<class 'networkx.utils.decorators.argmap'> compilation 66:4\u001b[0m, in \u001b[0;36margmap_is_d_separator_62\u001b[0;34m(G, x, y, z, backend, **backend_kwargs)\u001b[0m\n\u001b[1;32m      2\u001b[0m \u001b[38;5;28;01mimport\u001b[39;00m \u001b[38;5;21;01mcollections\u001b[39;00m\n\u001b[1;32m      3\u001b[0m \u001b[38;5;28;01mimport\u001b[39;00m \u001b[38;5;21;01mgzip\u001b[39;00m\n\u001b[0;32m----> 4\u001b[0m \u001b[38;5;28;01mimport\u001b[39;00m \u001b[38;5;21;01minspect\u001b[39;00m\n\u001b[1;32m      5\u001b[0m \u001b[38;5;28;01mimport\u001b[39;00m \u001b[38;5;21;01mitertools\u001b[39;00m\n\u001b[1;32m      6\u001b[0m \u001b[38;5;28;01mimport\u001b[39;00m \u001b[38;5;21;01mre\u001b[39;00m\n",
      "File \u001b[0;32m~/.pyenv/versions/3.10.14/lib/python3.10/site-packages/networkx/utils/backends.py:633\u001b[0m, in \u001b[0;36m_dispatchable.__call__\u001b[0;34m(self, backend, *args, **kwargs)\u001b[0m\n\u001b[1;32m    628\u001b[0m \u001b[38;5;250m\u001b[39m\u001b[38;5;124;03m\"\"\"Returns the result of the original function, or the backend function if\u001b[39;00m\n\u001b[1;32m    629\u001b[0m \u001b[38;5;124;03mthe backend is specified and that backend implements `func`.\"\"\"\u001b[39;00m\n\u001b[1;32m    631\u001b[0m \u001b[38;5;28;01mif\u001b[39;00m \u001b[38;5;129;01mnot\u001b[39;00m backends:\n\u001b[1;32m    632\u001b[0m     \u001b[38;5;66;03m# Fast path if no backends are installed\u001b[39;00m\n\u001b[0;32m--> 633\u001b[0m     \u001b[38;5;28;01mreturn\u001b[39;00m \u001b[38;5;28;43mself\u001b[39;49m\u001b[38;5;241;43m.\u001b[39;49m\u001b[43morig_func\u001b[49m\u001b[43m(\u001b[49m\u001b[38;5;241;43m*\u001b[39;49m\u001b[43margs\u001b[49m\u001b[43m,\u001b[49m\u001b[43m \u001b[49m\u001b[38;5;241;43m*\u001b[39;49m\u001b[38;5;241;43m*\u001b[39;49m\u001b[43mkwargs\u001b[49m\u001b[43m)\u001b[49m\n\u001b[1;32m    635\u001b[0m \u001b[38;5;66;03m# Use `backend_name` in this function instead of `backend`\u001b[39;00m\n\u001b[1;32m    636\u001b[0m backend_name \u001b[38;5;241m=\u001b[39m backend\n",
      "File \u001b[0;32m~/.pyenv/versions/3.10.14/lib/python3.10/site-packages/networkx/algorithms/d_separation.py:331\u001b[0m, in \u001b[0;36mis_d_separator\u001b[0;34m(G, x, y, z)\u001b[0m\n\u001b[1;32m    328\u001b[0m \u001b[38;5;66;03m# Consider if -> node <- is opened due to ancestor of node in z\u001b[39;00m\n\u001b[1;32m    329\u001b[0m \u001b[38;5;28;01mif\u001b[39;00m node \u001b[38;5;129;01min\u001b[39;00m ancestors_or_z:\n\u001b[1;32m    330\u001b[0m     \u001b[38;5;66;03m# add <- edges to backward deque\u001b[39;00m\n\u001b[0;32m--> 331\u001b[0m     \u001b[43mbackward_deque\u001b[49m\u001b[38;5;241;43m.\u001b[39;49m\u001b[43mextend\u001b[49m\u001b[43m(\u001b[49m\u001b[43mG\u001b[49m\u001b[38;5;241;43m.\u001b[39;49m\u001b[43mpred\u001b[49m\u001b[43m[\u001b[49m\u001b[43mnode\u001b[49m\u001b[43m]\u001b[49m\u001b[38;5;241;43m.\u001b[39;49m\u001b[43mkeys\u001b[49m\u001b[43m(\u001b[49m\u001b[43m)\u001b[49m\u001b[43m \u001b[49m\u001b[38;5;241;43m-\u001b[39;49m\u001b[43m \u001b[49m\u001b[43mbackward_visited\u001b[49m\u001b[43m)\u001b[49m\n\u001b[1;32m    332\u001b[0m \u001b[38;5;28;01mif\u001b[39;00m node \u001b[38;5;129;01mnot\u001b[39;00m \u001b[38;5;129;01min\u001b[39;00m z:\n\u001b[1;32m    333\u001b[0m     \u001b[38;5;66;03m# add -> edges to forward deque\u001b[39;00m\n\u001b[1;32m    334\u001b[0m     forward_deque\u001b[38;5;241m.\u001b[39mextend(G\u001b[38;5;241m.\u001b[39msucc[node]\u001b[38;5;241m.\u001b[39mkeys() \u001b[38;5;241m-\u001b[39m forward_visited)\n",
      "\u001b[0;31mKeyboardInterrupt\u001b[0m: "
     ]
    }
   ],
   "source": [
    "print(EstimationModel.identify_effect())"
   ]
  },
  {
   "cell_type": "code",
   "execution_count": 16,
   "metadata": {},
   "outputs": [],
   "source": [
    "import warnings\n",
    "warnings.filterwarnings('ignore')"
   ]
  },
  {
   "cell_type": "code",
   "execution_count": 17,
   "metadata": {},
   "outputs": [
    {
     "name": "stdout",
     "output_type": "stream",
     "text": [
      "Note that it is ok for your treatment to be a continuous variable, DoWhy automatically discretizes at the backend.\n"
     ]
    },
    {
     "data": {
      "text/plain": [
       "<dowhy.causal_estimator.CausalEstimate at 0x31f155870>"
      ]
     },
     "execution_count": 17,
     "metadata": {},
     "output_type": "execute_result"
    }
   ],
   "source": [
    "EstimationModel.estimate_effect()"
   ]
  },
  {
   "cell_type": "code",
   "execution_count": 18,
   "metadata": {},
   "outputs": [
    {
     "data": {
      "text/plain": [
       "<dowhy.causal_refuter.CausalRefutation at 0x323384a90>"
      ]
     },
     "execution_count": 18,
     "metadata": {},
     "output_type": "execute_result"
    }
   ],
   "source": [
    "EstimationModel.refute_estimate(placebo_type=\"permute\")"
   ]
  },
  {
   "cell_type": "code",
   "execution_count": 19,
   "metadata": {},
   "outputs": [],
   "source": [
    "info = EstimationModel.get_all_information()"
   ]
  },
  {
   "cell_type": "code",
   "execution_count": 20,
   "metadata": {},
   "outputs": [
    {
     "name": "stdout",
     "output_type": "stream",
     "text": [
      "+-------------------------------------------------------------------------------------------------------+\n",
      "|                                         Falsificaton Summary                                          |\n",
      "+-------------------------------------------------------------------------------------------------------+\n",
      "| The given DAG is informative because 0 / 100 of the permutations lie in the Markov                    |\n",
      "| equivalence class of the given DAG (p-value: 0.00).                                                   |\n",
      "| The given DAG violates 1/50 LMCs and is better than 100.0% of the permuted DAGs (p-value: 0.00).      |\n",
      "| Based on the provided significance level (0.05) and because the DAG is informative,                   |\n",
      "| we do not reject the DAG.                                                                             |\n",
      "+-------------------------------------------------------------------------------------------------------+\n"
     ]
    }
   ],
   "source": [
    "print(info['graph_refutation_res'])"
   ]
  },
  {
   "cell_type": "code",
   "execution_count": 21,
   "metadata": {},
   "outputs": [
    {
     "name": "stdout",
     "output_type": "stream",
     "text": [
      "Estimand type: EstimandType.NONPARAMETRIC_ATE\n",
      "\n",
      "### Estimand : 1\n",
      "Estimand name: backdoor\n",
      "Estimand expression:\n",
      "    d              \n",
      "─────────(E[Group])\n",
      "d[ADRA1A]          \n",
      "Estimand assumption 1, Unconfoundedness: If U→{ADRA1A} and U→Group then P(Group|ADRA1A,,U) = P(Group|ADRA1A,)\n",
      "\n",
      "### Estimand : 2\n",
      "Estimand name: iv\n",
      "No such variable(s) found!\n",
      "\n",
      "### Estimand : 3\n",
      "Estimand name: frontdoor\n",
      "Estimand expression:\n",
      " ⎡                  d                               ∂                         \n",
      "E⎢──────────────────────────────────────(Group)⋅─────────([ADRA2C  ACADL  ADAM\n",
      " ⎣d[ADRA2C  ACADL  ADAMTS₁₄  ABO  ADCY₄]        ∂[ADRA1A]                     \n",
      "\n",
      "                  ⎤\n",
      "TS₁₄  ABO  ADCY₄])⎥\n",
      "                  ⎦\n",
      "Estimand assumption 1, Full-mediation: ADRA2C,ACADL,ADAMTS14,ABO,ADCY4 intercepts (blocks) all directed paths from ADRA1A to G,r,o,u,p.\n",
      "Estimand assumption 2, First-stage-unconfoundedness: If U→{ADRA1A} and U→{ADRA2C,ACADL,ADAMTS14,ABO,ADCY4} then P(ADRA2C,ACADL,ADAMTS14,ABO,ADCY4|ADRA1A,U) = P(ADRA2C,ACADL,ADAMTS14,ABO,ADCY4|ADRA1A)\n",
      "Estimand assumption 3, Second-stage-unconfoundedness: If U→{ADRA2C,ACADL,ADAMTS14,ABO,ADCY4} and U→Group then P(Group|ADRA2C,ACADL,ADAMTS14,ABO,ADCY4, ADRA1A, U) = P(Group|ADRA2C,ACADL,ADAMTS14,ABO,ADCY4, ADRA1A)\n",
      "\n"
     ]
    }
   ],
   "source": [
    "print(info['estimand_expression'])"
   ]
  },
  {
   "cell_type": "code",
   "execution_count": 24,
   "metadata": {},
   "outputs": [
    {
     "name": "stdout",
     "output_type": "stream",
     "text": [
      "Increasing the treatment variable(s) [ADRA1A] from 0 to 1 causes an increase of 0.9848741244548878 in the expected value of the outcome [['Group']], over the data distribution/population represented by the dataset.\n",
      "None\n"
     ]
    }
   ],
   "source": [
    "print(info['effect_estimate'].interpret())"
   ]
  },
  {
   "cell_type": "code",
   "execution_count": 23,
   "metadata": {},
   "outputs": [
    {
     "name": "stdout",
     "output_type": "stream",
     "text": [
      "Refute: Use a Placebo Treatment\n",
      "Estimated effect:0.9848741244548878\n",
      "New effect:-0.032678911848069314\n",
      "p value:0.96\n",
      "\n"
     ]
    }
   ],
   "source": [
    "print(info['estimate_refutation_res'])"
   ]
  }
 ],
 "metadata": {
  "kernelspec": {
   "display_name": "Python 3",
   "language": "python",
   "name": "python3"
  },
  "language_info": {
   "codemirror_mode": {
    "name": "ipython",
    "version": 3
   },
   "file_extension": ".py",
   "mimetype": "text/x-python",
   "name": "python",
   "nbconvert_exporter": "python",
   "pygments_lexer": "ipython3",
   "version": "3.10.14"
  }
 },
 "nbformat": 4,
 "nbformat_minor": 4
}
