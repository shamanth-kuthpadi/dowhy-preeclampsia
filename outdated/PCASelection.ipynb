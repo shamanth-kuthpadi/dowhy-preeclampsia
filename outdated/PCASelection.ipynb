{
 "cells": [
  {
   "cell_type": "markdown",
   "metadata": {},
   "source": [
    "I will try using PCA instead of the feature selection algorithms in the FeatureSelection.ipynb"
   ]
  },
  {
   "cell_type": "markdown",
   "metadata": {},
   "source": [
    "import sys\n",
    "sys.path.append(\"/Users/shamanthk/Documents/iomics/dowhy-preeclampsia\")"
   ]
  },
  {
   "cell_type": "code",
   "execution_count": 2,
   "metadata": {},
   "outputs": [
    {
     "name": "stderr",
     "output_type": "stream",
     "text": [
      "No GPU automatically detected. Setting SETTINGS.GPU to 0, and SETTINGS.NJOBS to cpu_count.\n"
     ]
    }
   ],
   "source": [
    "import numpy as np\n",
    "import pandas as pd\n",
    "from EstimateEffect import *"
   ]
  },
  {
   "cell_type": "code",
   "execution_count": 3,
   "metadata": {},
   "outputs": [
    {
     "data": {
      "text/html": [
       "<div>\n",
       "<style scoped>\n",
       "    .dataframe tbody tr th:only-of-type {\n",
       "        vertical-align: middle;\n",
       "    }\n",
       "\n",
       "    .dataframe tbody tr th {\n",
       "        vertical-align: top;\n",
       "    }\n",
       "\n",
       "    .dataframe thead th {\n",
       "        text-align: right;\n",
       "    }\n",
       "</style>\n",
       "<table border=\"1\" class=\"dataframe\">\n",
       "  <thead>\n",
       "    <tr style=\"text-align: right;\">\n",
       "      <th></th>\n",
       "      <th>Group</th>\n",
       "      <th>A1BG</th>\n",
       "      <th>A2BP1</th>\n",
       "      <th>A2ML1</th>\n",
       "      <th>A4GALT</th>\n",
       "      <th>A4GNT</th>\n",
       "      <th>AADAT</th>\n",
       "      <th>AAK1</th>\n",
       "      <th>AANAT</th>\n",
       "      <th>AARS</th>\n",
       "      <th>...</th>\n",
       "      <th>ZSCAN16</th>\n",
       "      <th>ZSCAN18</th>\n",
       "      <th>ZSCAN2</th>\n",
       "      <th>ZSCAN22</th>\n",
       "      <th>ZUFSP</th>\n",
       "      <th>ZW10</th>\n",
       "      <th>ZWINT</th>\n",
       "      <th>ZYX</th>\n",
       "      <th>ZZEF1</th>\n",
       "      <th>ZZZ3</th>\n",
       "    </tr>\n",
       "  </thead>\n",
       "  <tbody>\n",
       "    <tr>\n",
       "      <th>0</th>\n",
       "      <td>0</td>\n",
       "      <td>0.348367</td>\n",
       "      <td>0.319899</td>\n",
       "      <td>0.768433</td>\n",
       "      <td>0.081964</td>\n",
       "      <td>0.685641</td>\n",
       "      <td>0.060380</td>\n",
       "      <td>0.030600</td>\n",
       "      <td>0.628545</td>\n",
       "      <td>0.034695</td>\n",
       "      <td>...</td>\n",
       "      <td>0.155679</td>\n",
       "      <td>0.065414</td>\n",
       "      <td>0.059830</td>\n",
       "      <td>0.019980</td>\n",
       "      <td>0.035917</td>\n",
       "      <td>0.080395</td>\n",
       "      <td>0.079731</td>\n",
       "      <td>0.084788</td>\n",
       "      <td>0.154323</td>\n",
       "      <td>0.054018</td>\n",
       "    </tr>\n",
       "    <tr>\n",
       "      <th>1</th>\n",
       "      <td>0</td>\n",
       "      <td>0.364492</td>\n",
       "      <td>0.310907</td>\n",
       "      <td>0.764368</td>\n",
       "      <td>0.070794</td>\n",
       "      <td>0.692982</td>\n",
       "      <td>0.049903</td>\n",
       "      <td>0.030167</td>\n",
       "      <td>0.623489</td>\n",
       "      <td>0.039860</td>\n",
       "      <td>...</td>\n",
       "      <td>0.119980</td>\n",
       "      <td>0.059075</td>\n",
       "      <td>0.058748</td>\n",
       "      <td>0.017119</td>\n",
       "      <td>0.034855</td>\n",
       "      <td>0.067926</td>\n",
       "      <td>0.066641</td>\n",
       "      <td>0.068883</td>\n",
       "      <td>0.139299</td>\n",
       "      <td>0.043898</td>\n",
       "    </tr>\n",
       "    <tr>\n",
       "      <th>2</th>\n",
       "      <td>0</td>\n",
       "      <td>0.349403</td>\n",
       "      <td>0.305689</td>\n",
       "      <td>0.771950</td>\n",
       "      <td>0.070062</td>\n",
       "      <td>0.694961</td>\n",
       "      <td>0.054181</td>\n",
       "      <td>0.029743</td>\n",
       "      <td>0.626342</td>\n",
       "      <td>0.036626</td>\n",
       "      <td>...</td>\n",
       "      <td>0.124261</td>\n",
       "      <td>0.061837</td>\n",
       "      <td>0.057167</td>\n",
       "      <td>0.018410</td>\n",
       "      <td>0.037608</td>\n",
       "      <td>0.076475</td>\n",
       "      <td>0.077044</td>\n",
       "      <td>0.077043</td>\n",
       "      <td>0.143271</td>\n",
       "      <td>0.048421</td>\n",
       "    </tr>\n",
       "    <tr>\n",
       "      <th>3</th>\n",
       "      <td>0</td>\n",
       "      <td>0.371034</td>\n",
       "      <td>0.303553</td>\n",
       "      <td>0.779977</td>\n",
       "      <td>0.063303</td>\n",
       "      <td>0.698230</td>\n",
       "      <td>0.048508</td>\n",
       "      <td>0.025756</td>\n",
       "      <td>0.628486</td>\n",
       "      <td>0.035684</td>\n",
       "      <td>...</td>\n",
       "      <td>0.129721</td>\n",
       "      <td>0.056181</td>\n",
       "      <td>0.052445</td>\n",
       "      <td>0.015951</td>\n",
       "      <td>0.035129</td>\n",
       "      <td>0.068537</td>\n",
       "      <td>0.069168</td>\n",
       "      <td>0.068694</td>\n",
       "      <td>0.127377</td>\n",
       "      <td>0.045447</td>\n",
       "    </tr>\n",
       "    <tr>\n",
       "      <th>4</th>\n",
       "      <td>0</td>\n",
       "      <td>0.374402</td>\n",
       "      <td>0.284613</td>\n",
       "      <td>0.786321</td>\n",
       "      <td>0.059106</td>\n",
       "      <td>0.697250</td>\n",
       "      <td>0.046840</td>\n",
       "      <td>0.029264</td>\n",
       "      <td>0.632338</td>\n",
       "      <td>0.033920</td>\n",
       "      <td>...</td>\n",
       "      <td>0.121801</td>\n",
       "      <td>0.054721</td>\n",
       "      <td>0.050782</td>\n",
       "      <td>0.016837</td>\n",
       "      <td>0.036205</td>\n",
       "      <td>0.062236</td>\n",
       "      <td>0.062481</td>\n",
       "      <td>0.063668</td>\n",
       "      <td>0.121910</td>\n",
       "      <td>0.041457</td>\n",
       "    </tr>\n",
       "  </tbody>\n",
       "</table>\n",
       "<p>5 rows × 9635 columns</p>\n",
       "</div>"
      ],
      "text/plain": [
       "   Group      A1BG     A2BP1     A2ML1    A4GALT     A4GNT     AADAT  \\\n",
       "0      0  0.348367  0.319899  0.768433  0.081964  0.685641  0.060380   \n",
       "1      0  0.364492  0.310907  0.764368  0.070794  0.692982  0.049903   \n",
       "2      0  0.349403  0.305689  0.771950  0.070062  0.694961  0.054181   \n",
       "3      0  0.371034  0.303553  0.779977  0.063303  0.698230  0.048508   \n",
       "4      0  0.374402  0.284613  0.786321  0.059106  0.697250  0.046840   \n",
       "\n",
       "       AAK1     AANAT      AARS  ...   ZSCAN16   ZSCAN18    ZSCAN2   ZSCAN22  \\\n",
       "0  0.030600  0.628545  0.034695  ...  0.155679  0.065414  0.059830  0.019980   \n",
       "1  0.030167  0.623489  0.039860  ...  0.119980  0.059075  0.058748  0.017119   \n",
       "2  0.029743  0.626342  0.036626  ...  0.124261  0.061837  0.057167  0.018410   \n",
       "3  0.025756  0.628486  0.035684  ...  0.129721  0.056181  0.052445  0.015951   \n",
       "4  0.029264  0.632338  0.033920  ...  0.121801  0.054721  0.050782  0.016837   \n",
       "\n",
       "      ZUFSP      ZW10     ZWINT       ZYX     ZZEF1      ZZZ3  \n",
       "0  0.035917  0.080395  0.079731  0.084788  0.154323  0.054018  \n",
       "1  0.034855  0.067926  0.066641  0.068883  0.139299  0.043898  \n",
       "2  0.037608  0.076475  0.077044  0.077043  0.143271  0.048421  \n",
       "3  0.035129  0.068537  0.069168  0.068694  0.127377  0.045447  \n",
       "4  0.036205  0.062236  0.062481  0.063668  0.121910  0.041457  \n",
       "\n",
       "[5 rows x 9635 columns]"
      ]
     },
     "execution_count": 3,
     "metadata": {},
     "output_type": "execute_result"
    }
   ],
   "source": [
    "betas_df = pd.read_csv('data/betas.csv')\n",
    "pds_df = pd.read_csv('data/pds.csv')\n",
    "\n",
    "df = preproc(betas_df, pds_df)\n",
    "\n",
    "df.head()"
   ]
  },
  {
   "cell_type": "code",
   "execution_count": 4,
   "metadata": {},
   "outputs": [
    {
     "data": {
      "image/png": "[encoded data removed]",
      "text/latex": [
       "$\\displaystyle \\left( 359, \\  9635\\right)$"
      ],
      "text/plain": [
       "(359, 9635)"
      ]
     },
     "execution_count": 4,
     "metadata": {},
     "output_type": "execute_result"
    }
   ],
   "source": [
    "df.shape"
   ]
  },
  {
   "cell_type": "code",
   "execution_count": 5,
   "metadata": {},
   "outputs": [],
   "source": [
    "X = df.drop(columns=['Group'])\n",
    "y = df['Group']"
   ]
  },
  {
   "cell_type": "code",
   "execution_count": 6,
   "metadata": {},
   "outputs": [],
   "source": [
    "from sklearn.decomposition import PCA\n",
    "\n",
    "pca = PCA()\n",
    "pca_result = pca.fit_transform(X)"
   ]
  },
  {
   "cell_type": "code",
   "execution_count": 7,
   "metadata": {},
   "outputs": [
    {
     "data": {
      "image/png": "[encoded data removed]",
      "text/plain": [
       "<Figure size 640x480 with 1 Axes>"
      ]
     },
     "metadata": {},
     "output_type": "display_data"
    }
   ],
   "source": [
    "import matplotlib.pyplot as plt\n",
    "\n",
    "plt.plot(range(1, len(pca.explained_variance_ratio_) + 1), \n",
    "         pca.explained_variance_ratio_.cumsum(), marker='o')\n",
    "plt.xlabel('Number of Components')\n",
    "plt.ylabel('Cumulative Explained Variance')\n",
    "plt.title('Explained Variance vs. Components')\n",
    "plt.show()"
   ]
  },
  {
   "cell_type": "code",
   "execution_count": 10,
   "metadata": {},
   "outputs": [],
   "source": [
    "pca = PCA(n_components=20)\n",
    "reduced_data = pca.fit_transform(X)"
   ]
  },
  {
   "cell_type": "code",
   "execution_count": 11,
   "metadata": {},
   "outputs": [],
   "source": [
    "components = pca.components_  # Shape: (n_components, n_features)"
   ]
  },
  {
   "cell_type": "code",
   "execution_count": 12,
   "metadata": {},
   "outputs": [
    {
     "data": {
      "text/plain": [
       "array([[ 8.68030010e-03,  1.72182436e-02, -8.35548168e-03, ...,\n",
       "         8.78790716e-03,  1.54812568e-02,  5.36723380e-03],\n",
       "       [-1.91907059e-02,  1.06739501e-02, -2.14184606e-02, ...,\n",
       "         9.51718036e-04,  3.42944221e-04, -9.91197354e-05],\n",
       "       [-1.62460731e-03,  2.37830469e-03,  2.41589750e-02, ...,\n",
       "        -7.76727625e-04,  4.56764981e-03, -2.04000974e-03],\n",
       "       ...,\n",
       "       [ 2.76272954e-03,  5.60470463e-02, -1.44990838e-02, ...,\n",
       "        -5.87467661e-03,  6.37033487e-03, -1.68717575e-03],\n",
       "       [-1.31581483e-02, -6.44407282e-03, -5.09137713e-02, ...,\n",
       "         4.76056165e-03,  6.17584151e-03, -2.74002448e-04],\n",
       "       [-2.20283159e-03, -1.05296122e-02,  3.82352729e-03, ...,\n",
       "        -5.02169250e-03,  1.98431359e-02, -5.18252650e-03]])"
      ]
     },
     "execution_count": 12,
     "metadata": {},
     "output_type": "execute_result"
    }
   ],
   "source": [
    "components"
   ]
  },
  {
   "cell_type": "code",
   "execution_count": 18,
   "metadata": {},
   "outputs": [],
   "source": [
    "columns = [f'PC{i+1}' for i in range(20)]"
   ]
  },
  {
   "cell_type": "code",
   "execution_count": 19,
   "metadata": {},
   "outputs": [
    {
     "data": {
      "text/plain": [
       "['PC1',\n",
       " 'PC2',\n",
       " 'PC3',\n",
       " 'PC4',\n",
       " 'PC5',\n",
       " 'PC6',\n",
       " 'PC7',\n",
       " 'PC8',\n",
       " 'PC9',\n",
       " 'PC10',\n",
       " 'PC11',\n",
       " 'PC12',\n",
       " 'PC13',\n",
       " 'PC14',\n",
       " 'PC15',\n",
       " 'PC16',\n",
       " 'PC17',\n",
       " 'PC18',\n",
       " 'PC19',\n",
       " 'PC20']"
      ]
     },
     "execution_count": 19,
     "metadata": {},
     "output_type": "execute_result"
    }
   ],
   "source": [
    "columns"
   ]
  },
  {
   "cell_type": "code",
   "execution_count": null,
   "metadata": {},
   "outputs": [],
   "source": []
  },
  {
   "cell_type": "markdown",
   "metadata": {},
   "source": [
    "Notes for later:\n",
    "\n",
    "1. I still need to extract the features/genes that are in each principal component\n",
    "2. I then need to add in the labels - the preeclampsia condition\n",
    "3. Check how I can add the CACNA1S gene in the dataset as well\n",
    "4. what should I set n_features to be?"
   ]
  },
  {
   "cell_type": "markdown",
   "metadata": {},
   "source": []
  }
 ],
 "metadata": {
  "kernelspec": {
   "display_name": "3.10.14",
   "language": "python",
   "name": "python3"
  },
  "language_info": {
   "codemirror_mode": {
    "name": "ipython",
    "version": 3
   },
   "file_extension": ".py",
   "mimetype": "text/x-python",
   "name": "python",
   "nbconvert_exporter": "python",
   "pygments_lexer": "ipython3",
   "version": "3.10.14"
  }
 },
 "nbformat": 4,
 "nbformat_minor": 2
}
