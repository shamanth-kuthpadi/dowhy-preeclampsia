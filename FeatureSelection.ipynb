{
 "cells": [
  {
   "cell_type": "markdown",
   "metadata": {},
   "source": [
    "Note that I have already selected the top 500 features in terms of variance.\n",
    "\n",
    "However, this is still too many features and simply taking the top 10 most varying features can be biased (could be that the difference in variance is not so great).\n",
    "\n",
    "Thus, I have decided to use RFEVC to select the top 15 features."
   ]
  },
  {
   "cell_type": "code",
   "execution_count": 20,
   "metadata": {},
   "outputs": [],
   "source": [
    "import sys\n",
    "sys.path.append(\"/Users/shamanthk/Documents/iomics/dowhy-preeclampsia\")"
   ]
  },
  {
   "cell_type": "code",
   "execution_count": 21,
   "metadata": {},
   "outputs": [],
   "source": [
    "import numpy as np\n",
    "import pandas as pd\n",
    "from EstimateEffect import *"
   ]
  },
  {
   "cell_type": "code",
   "execution_count": 22,
   "metadata": {},
   "outputs": [
    {
     "data": {
      "text/html": [
       "<div>\n",
       "<style scoped>\n",
       "    .dataframe tbody tr th:only-of-type {\n",
       "        vertical-align: middle;\n",
       "    }\n",
       "\n",
       "    .dataframe tbody tr th {\n",
       "        vertical-align: top;\n",
       "    }\n",
       "\n",
       "    .dataframe thead th {\n",
       "        text-align: right;\n",
       "    }\n",
       "</style>\n",
       "<table border=\"1\" class=\"dataframe\">\n",
       "  <thead>\n",
       "    <tr style=\"text-align: right;\">\n",
       "      <th></th>\n",
       "      <th>Group</th>\n",
       "      <th>A1BG</th>\n",
       "      <th>A2BP1</th>\n",
       "      <th>A2ML1</th>\n",
       "      <th>A4GALT</th>\n",
       "      <th>A4GNT</th>\n",
       "      <th>AADAT</th>\n",
       "      <th>AAK1</th>\n",
       "      <th>AANAT</th>\n",
       "      <th>AARS</th>\n",
       "      <th>...</th>\n",
       "      <th>ZSCAN16</th>\n",
       "      <th>ZSCAN18</th>\n",
       "      <th>ZSCAN2</th>\n",
       "      <th>ZSCAN22</th>\n",
       "      <th>ZUFSP</th>\n",
       "      <th>ZW10</th>\n",
       "      <th>ZWINT</th>\n",
       "      <th>ZYX</th>\n",
       "      <th>ZZEF1</th>\n",
       "      <th>ZZZ3</th>\n",
       "    </tr>\n",
       "  </thead>\n",
       "  <tbody>\n",
       "    <tr>\n",
       "      <th>0</th>\n",
       "      <td>0</td>\n",
       "      <td>0.348367</td>\n",
       "      <td>0.319899</td>\n",
       "      <td>0.768433</td>\n",
       "      <td>0.081964</td>\n",
       "      <td>0.685641</td>\n",
       "      <td>0.060380</td>\n",
       "      <td>0.030600</td>\n",
       "      <td>0.628545</td>\n",
       "      <td>0.034695</td>\n",
       "      <td>...</td>\n",
       "      <td>0.155679</td>\n",
       "      <td>0.065414</td>\n",
       "      <td>0.059830</td>\n",
       "      <td>0.019980</td>\n",
       "      <td>0.035917</td>\n",
       "      <td>0.080395</td>\n",
       "      <td>0.079731</td>\n",
       "      <td>0.084788</td>\n",
       "      <td>0.154323</td>\n",
       "      <td>0.054018</td>\n",
       "    </tr>\n",
       "    <tr>\n",
       "      <th>1</th>\n",
       "      <td>0</td>\n",
       "      <td>0.364492</td>\n",
       "      <td>0.310907</td>\n",
       "      <td>0.764368</td>\n",
       "      <td>0.070794</td>\n",
       "      <td>0.692982</td>\n",
       "      <td>0.049903</td>\n",
       "      <td>0.030167</td>\n",
       "      <td>0.623489</td>\n",
       "      <td>0.039860</td>\n",
       "      <td>...</td>\n",
       "      <td>0.119980</td>\n",
       "      <td>0.059075</td>\n",
       "      <td>0.058748</td>\n",
       "      <td>0.017119</td>\n",
       "      <td>0.034855</td>\n",
       "      <td>0.067926</td>\n",
       "      <td>0.066641</td>\n",
       "      <td>0.068883</td>\n",
       "      <td>0.139299</td>\n",
       "      <td>0.043898</td>\n",
       "    </tr>\n",
       "    <tr>\n",
       "      <th>2</th>\n",
       "      <td>0</td>\n",
       "      <td>0.349403</td>\n",
       "      <td>0.305689</td>\n",
       "      <td>0.771950</td>\n",
       "      <td>0.070062</td>\n",
       "      <td>0.694961</td>\n",
       "      <td>0.054181</td>\n",
       "      <td>0.029743</td>\n",
       "      <td>0.626342</td>\n",
       "      <td>0.036626</td>\n",
       "      <td>...</td>\n",
       "      <td>0.124261</td>\n",
       "      <td>0.061837</td>\n",
       "      <td>0.057167</td>\n",
       "      <td>0.018410</td>\n",
       "      <td>0.037608</td>\n",
       "      <td>0.076475</td>\n",
       "      <td>0.077044</td>\n",
       "      <td>0.077043</td>\n",
       "      <td>0.143271</td>\n",
       "      <td>0.048421</td>\n",
       "    </tr>\n",
       "    <tr>\n",
       "      <th>3</th>\n",
       "      <td>0</td>\n",
       "      <td>0.371034</td>\n",
       "      <td>0.303553</td>\n",
       "      <td>0.779977</td>\n",
       "      <td>0.063303</td>\n",
       "      <td>0.698230</td>\n",
       "      <td>0.048508</td>\n",
       "      <td>0.025756</td>\n",
       "      <td>0.628486</td>\n",
       "      <td>0.035684</td>\n",
       "      <td>...</td>\n",
       "      <td>0.129721</td>\n",
       "      <td>0.056181</td>\n",
       "      <td>0.052445</td>\n",
       "      <td>0.015951</td>\n",
       "      <td>0.035129</td>\n",
       "      <td>0.068537</td>\n",
       "      <td>0.069168</td>\n",
       "      <td>0.068694</td>\n",
       "      <td>0.127377</td>\n",
       "      <td>0.045447</td>\n",
       "    </tr>\n",
       "    <tr>\n",
       "      <th>4</th>\n",
       "      <td>0</td>\n",
       "      <td>0.374402</td>\n",
       "      <td>0.284613</td>\n",
       "      <td>0.786321</td>\n",
       "      <td>0.059106</td>\n",
       "      <td>0.697250</td>\n",
       "      <td>0.046840</td>\n",
       "      <td>0.029264</td>\n",
       "      <td>0.632338</td>\n",
       "      <td>0.033920</td>\n",
       "      <td>...</td>\n",
       "      <td>0.121801</td>\n",
       "      <td>0.054721</td>\n",
       "      <td>0.050782</td>\n",
       "      <td>0.016837</td>\n",
       "      <td>0.036205</td>\n",
       "      <td>0.062236</td>\n",
       "      <td>0.062481</td>\n",
       "      <td>0.063668</td>\n",
       "      <td>0.121910</td>\n",
       "      <td>0.041457</td>\n",
       "    </tr>\n",
       "  </tbody>\n",
       "</table>\n",
       "<p>5 rows × 9635 columns</p>\n",
       "</div>"
      ],
      "text/plain": [
       "   Group      A1BG     A2BP1     A2ML1    A4GALT     A4GNT     AADAT  \\\n",
       "0      0  0.348367  0.319899  0.768433  0.081964  0.685641  0.060380   \n",
       "1      0  0.364492  0.310907  0.764368  0.070794  0.692982  0.049903   \n",
       "2      0  0.349403  0.305689  0.771950  0.070062  0.694961  0.054181   \n",
       "3      0  0.371034  0.303553  0.779977  0.063303  0.698230  0.048508   \n",
       "4      0  0.374402  0.284613  0.786321  0.059106  0.697250  0.046840   \n",
       "\n",
       "       AAK1     AANAT      AARS  ...   ZSCAN16   ZSCAN18    ZSCAN2   ZSCAN22  \\\n",
       "0  0.030600  0.628545  0.034695  ...  0.155679  0.065414  0.059830  0.019980   \n",
       "1  0.030167  0.623489  0.039860  ...  0.119980  0.059075  0.058748  0.017119   \n",
       "2  0.029743  0.626342  0.036626  ...  0.124261  0.061837  0.057167  0.018410   \n",
       "3  0.025756  0.628486  0.035684  ...  0.129721  0.056181  0.052445  0.015951   \n",
       "4  0.029264  0.632338  0.033920  ...  0.121801  0.054721  0.050782  0.016837   \n",
       "\n",
       "      ZUFSP      ZW10     ZWINT       ZYX     ZZEF1      ZZZ3  \n",
       "0  0.035917  0.080395  0.079731  0.084788  0.154323  0.054018  \n",
       "1  0.034855  0.067926  0.066641  0.068883  0.139299  0.043898  \n",
       "2  0.037608  0.076475  0.077044  0.077043  0.143271  0.048421  \n",
       "3  0.035129  0.068537  0.069168  0.068694  0.127377  0.045447  \n",
       "4  0.036205  0.062236  0.062481  0.063668  0.121910  0.041457  \n",
       "\n",
       "[5 rows x 9635 columns]"
      ]
     },
     "execution_count": 22,
     "metadata": {},
     "output_type": "execute_result"
    }
   ],
   "source": [
    "betas_df = pd.read_csv('data/betas.csv')\n",
    "pds_df = pd.read_csv('data/pds.csv')\n",
    "\n",
    "df = preproc(betas_df, pds_df)\n",
    "\n",
    "df.head()"
   ]
  },
  {
   "cell_type": "code",
   "execution_count": 23,
   "metadata": {},
   "outputs": [
    {
     "data": {
      "image/png": "[encoded data removed]",
      "text/latex": [
       "$\\displaystyle \\left( 359, \\  9635\\right)$"
      ],
      "text/plain": [
       "(359, 9635)"
      ]
     },
     "execution_count": 23,
     "metadata": {},
     "output_type": "execute_result"
    }
   ],
   "source": [
    "df.shape"
   ]
  },
  {
   "cell_type": "code",
   "execution_count": 24,
   "metadata": {},
   "outputs": [],
   "source": [
    "from sklearn.feature_selection import SelectKBest, chi2, mutual_info_classif\n",
    "from sklearn.ensemble import RandomForestClassifier\n",
    "\n",
    "X = df.drop(columns=['Group'])\n",
    "y = df['Group']"
   ]
  },
  {
   "cell_type": "markdown",
   "metadata": {},
   "source": [
    "Method 1: Chi-squared\n",
    "\n",
    "Evaluates the independence between each feature and the categorical target.\n",
    "\n",
    "Compares observed values in the data with the expected values assuming independence\n",
    "\n",
    "$$\\chi^2 = \\sum \\frac{(O_i-E_i)^2}{E_i}$$\n",
    "\n",
    "$O_i \\rightarrow$ Observed frequency\n",
    "\n",
    "$E_i \\rightarrow$ Expected frequency \n",
    "\n",
    "The higher the score, the more likely that the feature is dependent on the target.\n",
    "\n",
    "Strengths:\n",
    "- Very fast and interpretable.\n",
    "\n",
    "Limitations:\n",
    "- Ignores relationships between features.\n",
    "- Requires features and target to be discrete."
   ]
  },
  {
   "cell_type": "code",
   "execution_count": 25,
   "metadata": {},
   "outputs": [
    {
     "name": "stdout",
     "output_type": "stream",
     "text": [
      "Top 15 features (Chi-square): ['ASAP1', 'ATP13A4', 'BCAR1', 'BCL11B', 'C4BPB', 'CCDC57', 'CDK14', 'CEP110', 'CHI3L2', 'CYP11A1', 'DAPK3', 'EFEMP1', 'EFS', 'GABRA1', 'GATA2', 'GCOM1', 'GLRX', 'GNA13', 'GPD1L', 'GPR135', 'IL17F', 'KRT24', 'LBP', 'LIPH', 'LVRN', 'MC1R', 'MIR1204', 'MLX', 'MPZL1', 'NDUFAF3', 'NELL1', 'OR51B4', 'PAPPA2', 'PAX7', 'PCDH17', 'PLCB1', 'PRDM14', 'PVRL4', 'SERPINE1', 'SFT2D3', 'SLC13A4', 'SLC19A1', 'SNX7', 'SPERT', 'ST6GALNAC1', 'TIAM1', 'TMPRSS11F', 'TNFRSF10C', 'TSPAN4', 'VPS4B']\n"
     ]
    }
   ],
   "source": [
    "chi2_selector = SelectKBest(score_func=chi2, k=50)\n",
    "chi2_selector.fit(X, y)\n",
    "chi2_selected_features = X.columns[chi2_selector.get_support()]\n",
    "print(\"Top 15 features (Chi-square):\", chi2_selected_features.tolist())"
   ]
  },
  {
   "cell_type": "markdown",
   "metadata": {},
   "source": [
    "Method 2: Mutual Information\n",
    "\n",
    "Measures how much knowing a feature reduces the uncertainty of the target.\n",
    "\n",
    "Quantifies the amount of information shared between two variables.\n",
    "\n",
    "$$MI(X, Y) = \\sum_{x\\in X}\\sum_{y\\in Y} P(x, y) \\log(\\frac{P(x,y)}{P(x)P(y)})$$\n",
    "\n",
    "$P(x,y) \\rightarrow$ joint probability of x and y\n",
    "\n",
    "$P(x), P(y) \\rightarrow$ marginal probabilities of x and y, respectively\n",
    "\n",
    "A higher $MI$ represents a stronger dependency\n",
    "\n",
    "Strengths:\n",
    "- Captures non-linear relationships.\n",
    "- Suitable for both discrete and continuous features.\n",
    "\n",
    "Limitations:\n",
    "- MI values are non-negative but unbounded, making direct comparison tricky.\n",
    "- Computationally heavier than Chi-square for large datasets."
   ]
  },
  {
   "cell_type": "code",
   "execution_count": 26,
   "metadata": {},
   "outputs": [
    {
     "name": "stdout",
     "output_type": "stream",
     "text": [
      "Top 15 features (Mutual Information): ['A2ML1', 'ALOX5AP', 'ANXA9', 'C4BPB', 'CA1', 'CCDC27', 'CD96', 'CEP110', 'CHI3L2', 'CLCA1', 'CNR2', 'CYP11A1', 'CYP2F1', 'DAPK3', 'DDB1', 'DUSP13', 'ELF5', 'FAM110A', 'FXYD3', 'GNA13', 'HERPUD1', 'HSD17B1', 'ICMT', 'IL17F', 'ITIH4', 'KRT24', 'KRT8', 'LIPH', 'LOC55908', 'MC2R', 'MMP19', 'MPZL1', 'MTNR1B', 'MYO3A', 'NAF1', 'PAPPA2', 'PLEKHF1', 'PTPN6', 'PUM2', 'PVRL4', 'RAPGEFL1', 'RDH5', 'REPIN1', 'SGK2', 'SLC13A4', 'SLC19A1', 'TGM6', 'TIAM1', 'TMPRSS11F', 'YPEL4']\n"
     ]
    }
   ],
   "source": [
    "mi_selector = SelectKBest(score_func=mutual_info_classif, k=50)\n",
    "mi_selector.fit(X, y)\n",
    "mi_selected_features = X.columns[mi_selector.get_support()]\n",
    "print(\"Top 15 features (Mutual Information):\", mi_selected_features.tolist())"
   ]
  },
  {
   "cell_type": "markdown",
   "metadata": {},
   "source": [
    "Method 3: RF Feature Importance\n",
    "\n",
    "Identifies important features by measuring their contribution to reducing impurity in decision trees."
   ]
  },
  {
   "cell_type": "code",
   "execution_count": 27,
   "metadata": {},
   "outputs": [
    {
     "name": "stdout",
     "output_type": "stream",
     "text": [
      "Top 15 features (Random Forest): ['DAPK3', 'SLC13A4', 'A2ML1', 'TMPRSS11F', 'ICMT', 'MPZL1', 'FXYD3', 'CYP11A1', 'SLC19A1', 'FAM110A', 'DNASE1L3', 'PAPPA2', 'DUSP13', 'CSF3R', 'DNAH5', 'MMP19', 'SLC36A2', 'KRT31', 'REPIN1', 'DEGS1', 'YPEL4', 'PIK3C2A', 'BMP10', 'GNA13', 'RCBTB2', 'DDB1', 'DQX1', 'BTN1A1', 'GAL3ST1', 'CEP110', 'C4BPB', 'PCDH12', 'PUM2', 'PAK6', 'DCD', 'KRT19', 'IPCEF1', 'ALOX5AP', 'KISS1', 'CD27', 'IL17F', 'PLA2G1B', 'IL1RL1', 'AP1G2', 'CER1', 'TIAM1', 'SPERT', 'SFT2D3', 'CARD8', 'C6orf25']\n"
     ]
    }
   ],
   "source": [
    "rf = RandomForestClassifier(random_state=52)\n",
    "rf.fit(X, y)\n",
    "feature_importances = rf.feature_importances_\n",
    "rf_top_indices = feature_importances.argsort()[-50:][::-1]\n",
    "rf_top_features = X.columns[rf_top_indices]\n",
    "print(\"Top 15 features (Random Forest):\", rf_top_features.tolist())"
   ]
  },
  {
   "cell_type": "markdown",
   "metadata": {},
   "source": [
    "Checking the intersecting features -- those that are found to be important by all the three methods"
   ]
  },
  {
   "cell_type": "code",
   "execution_count": 29,
   "metadata": {},
   "outputs": [
    {
     "data": {
      "text/plain": [
       "['C4BPB',\n",
       " 'TMPRSS11F',\n",
       " 'SLC13A4',\n",
       " 'MPZL1',\n",
       " 'SLC19A1',\n",
       " 'GNA13',\n",
       " 'CYP11A1',\n",
       " 'IL17F',\n",
       " 'DAPK3',\n",
       " 'CEP110',\n",
       " 'TIAM1',\n",
       " 'PAPPA2']"
      ]
     },
     "execution_count": 29,
     "metadata": {},
     "output_type": "execute_result"
    }
   ],
   "source": [
    "intersection = set(chi2_selected_features) & set(mi_selected_features) & set(rf_top_features)\n",
    "list(intersection)"
   ]
  },
  {
   "cell_type": "code",
   "execution_count": null,
   "metadata": {},
   "outputs": [],
   "source": []
  }
 ],
 "metadata": {
  "kernelspec": {
   "display_name": "Python 3",
   "language": "python",
   "name": "python3"
  },
  "language_info": {
   "codemirror_mode": {
    "name": "ipython",
    "version": 3
   },
   "file_extension": ".py",
   "mimetype": "text/x-python",
   "name": "python",
   "nbconvert_exporter": "python",
   "pygments_lexer": "ipython3",
   "version": "3.10.14"
  }
 },
 "nbformat": 4,
 "nbformat_minor": 2
}
