{
 "cells": [
  {
   "cell_type": "markdown",
   "metadata": {},
   "source": [
    "Note that I have already selected the top 500 features in terms of variance.\n",
    "\n",
    "However, this is still too many features and simply taking the top 10 most varying features can be biased (could be that the difference in variance is not so great).\n",
    "\n",
    "Thus, I have decided to use RFEVC to select the top 15 features."
   ]
  },
  {
   "cell_type": "code",
   "execution_count": 2,
   "metadata": {},
   "outputs": [],
   "source": [
    "import sys\n",
    "sys.path.append(\"/Users/shamanthk/Documents/iomics/dowhy-preeclampsia\")"
   ]
  },
  {
   "cell_type": "code",
   "execution_count": 3,
   "metadata": {},
   "outputs": [
    {
     "name": "stderr",
     "output_type": "stream",
     "text": [
      "No GPU automatically detected. Setting SETTINGS.GPU to 0, and SETTINGS.NJOBS to cpu_count.\n"
     ]
    }
   ],
   "source": [
    "import numpy as np\n",
    "import pandas as pd\n",
    "from EstimateEffect import *"
   ]
  },
  {
   "cell_type": "code",
   "execution_count": 4,
   "metadata": {},
   "outputs": [
    {
     "ename": "NameError",
     "evalue": "name 'preproc' is not defined",
     "output_type": "error",
     "traceback": [
      "\u001b[0;31m---------------------------------------------------------------------------\u001b[0m",
      "\u001b[0;31mNameError\u001b[0m                                 Traceback (most recent call last)",
      "Cell \u001b[0;32mIn[4], line 4\u001b[0m\n\u001b[1;32m      1\u001b[0m betas_df \u001b[38;5;241m=\u001b[39m pd\u001b[38;5;241m.\u001b[39mread_csv(\u001b[38;5;124m'\u001b[39m\u001b[38;5;124mdata/betas.csv\u001b[39m\u001b[38;5;124m'\u001b[39m)\n\u001b[1;32m      2\u001b[0m pds_df \u001b[38;5;241m=\u001b[39m pd\u001b[38;5;241m.\u001b[39mread_csv(\u001b[38;5;124m'\u001b[39m\u001b[38;5;124mdata/pds.csv\u001b[39m\u001b[38;5;124m'\u001b[39m)\n\u001b[0;32m----> 4\u001b[0m df \u001b[38;5;241m=\u001b[39m \u001b[43mpreproc\u001b[49m(betas_df, pds_df)\n\u001b[1;32m      6\u001b[0m df\u001b[38;5;241m.\u001b[39mhead()\n",
      "\u001b[0;31mNameError\u001b[0m: name 'preproc' is not defined"
     ]
    }
   ],
   "source": [
    "betas_df = pd.read_csv('data/betas.csv')\n",
    "pds_df = pd.read_csv('data/pds.csv')\n",
    "\n",
    "df = preproc(betas_df, pds_df)\n",
    "\n",
    "df.head()"
   ]
  },
  {
   "cell_type": "code",
   "execution_count": null,
   "metadata": {},
   "outputs": [
    {
     "data": {
      "image/png": "[encoded data removed]",
      "text/latex": [
       "$\\displaystyle \\left( 359, \\  9635\\right)$"
      ],
      "text/plain": [
       "(359, 9635)"
      ]
     },
     "execution_count": 23,
     "metadata": {},
     "output_type": "execute_result"
    }
   ],
   "source": [
    "df.shape"
   ]
  },
  {
   "cell_type": "code",
   "execution_count": null,
   "metadata": {},
   "outputs": [],
   "source": [
    "from sklearn.feature_selection import SelectKBest, chi2, mutual_info_classif\n",
    "from sklearn.ensemble import RandomForestClassifier\n",
    "\n",
    "X = df.drop(columns=['Group'])\n",
    "y = df['Group']"
   ]
  },
  {
   "cell_type": "markdown",
   "metadata": {},
   "source": [
    "Method 1: Chi-squared\n",
    "\n",
    "Evaluates the independence between each feature and the categorical target.\n",
    "\n",
    "Compares observed values in the data with the expected values assuming independence\n",
    "\n",
    "$$\\chi^2 = \\sum \\frac{(O_i-E_i)^2}{E_i}$$\n",
    "\n",
    "$O_i \\rightarrow$ Observed frequency\n",
    "\n",
    "$E_i \\rightarrow$ Expected frequency \n",
    "\n",
    "The higher the score, the more likely that the feature is dependent on the target.\n",
    "\n",
    "Strengths:\n",
    "- Very fast and interpretable.\n",
    "\n",
    "Limitations:\n",
    "- Ignores relationships between features.\n",
    "- Requires features and target to be discrete."
   ]
  },
  {
   "cell_type": "code",
   "execution_count": null,
   "metadata": {},
   "outputs": [
    {
     "name": "stdout",
     "output_type": "stream",
     "text": [
      "Top 15 features (Chi-square): ['ASAP1', 'ATP13A4', 'BCAR1', 'BCL11B', 'C4BPB', 'CCDC57', 'CDK14', 'CEP110', 'CHI3L2', 'CYP11A1', 'DAPK3', 'EFEMP1', 'EFS', 'GABRA1', 'GATA2', 'GCOM1', 'GLRX', 'GNA13', 'GPD1L', 'GPR135', 'IL17F', 'KRT24', 'LBP', 'LIPH', 'LVRN', 'MC1R', 'MIR1204', 'MLX', 'MPZL1', 'NDUFAF3', 'NELL1', 'OR51B4', 'PAPPA2', 'PAX7', 'PCDH17', 'PLCB1', 'PRDM14', 'PVRL4', 'SERPINE1', 'SFT2D3', 'SLC13A4', 'SLC19A1', 'SNX7', 'SPERT', 'ST6GALNAC1', 'TIAM1', 'TMPRSS11F', 'TNFRSF10C', 'TSPAN4', 'VPS4B']\n"
     ]
    }
   ],
   "source": [
    "chi2_selector = SelectKBest(score_func=chi2, k=50)\n",
    "chi2_selector.fit(X, y)\n",
    "chi2_selected_features = X.columns[chi2_selector.get_support()]\n",
    "print(\"Top 15 features (Chi-square):\", chi2_selected_features.tolist())"
   ]
  },
  {
   "cell_type": "markdown",
   "metadata": {},
   "source": [
    "Method 2: Mutual Information\n",
    "\n",
    "Measures how much knowing a feature reduces the uncertainty of the target.\n",
    "\n",
    "Quantifies the amount of information shared between two variables.\n",
    "\n",
    "$$MI(X, Y) = \\sum_{x\\in X}\\sum_{y\\in Y} P(x, y) \\log(\\frac{P(x,y)}{P(x)P(y)})$$\n",
    "\n",
    "$P(x,y) \\rightarrow$ joint probability of x and y\n",
    "\n",
    "$P(x), P(y) \\rightarrow$ marginal probabilities of x and y, respectively\n",
    "\n",
    "A higher $MI$ represents a stronger dependency\n",
    "\n",
    "Strengths:\n",
    "- Captures non-linear relationships.\n",
    "- Suitable for both discrete and continuous features.\n",
    "\n",
    "Limitations:\n",
    "- MI values are non-negative but unbounded, making direct comparison tricky.\n",
    "- Computationally heavier than Chi-square for large datasets."
   ]
  },
  {
   "cell_type": "code",
   "execution_count": null,
   "metadata": {},
   "outputs": [
    {
     "name": "stdout",
     "output_type": "stream",
     "text": [
      "Top 15 features (Mutual Information): ['A2ML1', 'ALOX5AP', 'ANXA9', 'C4BPB', 'CA1', 'CCDC27', 'CD96', 'CEP110', 'CHI3L2', 'CLCA1', 'CNR2', 'CYP11A1', 'CYP2F1', 'DAPK3', 'DDB1', 'DUSP13', 'ELF5', 'FAM110A', 'FXYD3', 'GNA13', 'HERPUD1', 'HSD17B1', 'ICMT', 'IL17F', 'ITIH4', 'KRT24', 'KRT8', 'LIPH', 'LOC55908', 'MC2R', 'MMP19', 'MPZL1', 'MTNR1B', 'MYO3A', 'NAF1', 'PAPPA2', 'PLEKHF1', 'PTPN6', 'PUM2', 'PVRL4', 'RAPGEFL1', 'RDH5', 'REPIN1', 'SGK2', 'SLC13A4', 'SLC19A1', 'TGM6', 'TIAM1', 'TMPRSS11F', 'YPEL4']\n"
     ]
    }
   ],
   "source": [
    "mi_selector = SelectKBest(score_func=mutual_info_classif, k=50)\n",
    "mi_selector.fit(X, y)\n",
    "mi_selected_features = X.columns[mi_selector.get_support()]\n",
    "print(\"Top 15 features (Mutual Information):\", mi_selected_features.tolist())"
   ]
  },
  {
   "cell_type": "markdown",
   "metadata": {},
   "source": [
    "Method 3: RF Feature Importance\n",
    "\n",
    "Identifies important features by measuring their contribution to reducing impurity in decision trees."
   ]
  },
  {
   "cell_type": "code",
   "execution_count": null,
   "metadata": {},
   "outputs": [
    {
     "name": "stdout",
     "output_type": "stream",
     "text": [
      "Top 15 features (Random Forest): ['DAPK3', 'SLC13A4', 'A2ML1', 'TMPRSS11F', 'ICMT', 'MPZL1', 'FXYD3', 'CYP11A1', 'SLC19A1', 'FAM110A', 'DNASE1L3', 'PAPPA2', 'DUSP13', 'CSF3R', 'DNAH5', 'MMP19', 'SLC36A2', 'KRT31', 'REPIN1', 'DEGS1', 'YPEL4', 'PIK3C2A', 'BMP10', 'GNA13', 'RCBTB2', 'DDB1', 'DQX1', 'BTN1A1', 'GAL3ST1', 'CEP110', 'C4BPB', 'PCDH12', 'PUM2', 'PAK6', 'DCD', 'KRT19', 'IPCEF1', 'ALOX5AP', 'KISS1', 'CD27', 'IL17F', 'PLA2G1B', 'IL1RL1', 'AP1G2', 'CER1', 'TIAM1', 'SPERT', 'SFT2D3', 'CARD8', 'C6orf25']\n"
     ]
    }
   ],
   "source": [
    "rf = RandomForestClassifier(random_state=52)\n",
    "rf.fit(X, y)\n",
    "feature_importances = rf.feature_importances_\n",
    "rf_top_indices = feature_importances.argsort()[-50:][::-1]\n",
    "rf_top_features = X.columns[rf_top_indices]\n",
    "print(\"Top 15 features (Random Forest):\", rf_top_features.tolist())"
   ]
  },
  {
   "cell_type": "markdown",
   "metadata": {},
   "source": [
    "Checking the intersecting features -- those that are found to be important by all the three methods"
   ]
  },
  {
   "cell_type": "code",
   "execution_count": null,
   "metadata": {},
   "outputs": [
    {
     "data": {
      "text/plain": [
       "['C4BPB',\n",
       " 'TMPRSS11F',\n",
       " 'SLC13A4',\n",
       " 'MPZL1',\n",
       " 'SLC19A1',\n",
       " 'GNA13',\n",
       " 'CYP11A1',\n",
       " 'IL17F',\n",
       " 'DAPK3',\n",
       " 'CEP110',\n",
       " 'TIAM1',\n",
       " 'PAPPA2']"
      ]
     },
     "execution_count": 29,
     "metadata": {},
     "output_type": "execute_result"
    }
   ],
   "source": [
    "intersection = set(chi2_selected_features) & set(mi_selected_features) & set(rf_top_features)\n",
    "list(intersection)"
   ]
  },
  {
   "cell_type": "code",
   "execution_count": null,
   "metadata": {},
   "outputs": [
    {
     "ename": "NameError",
     "evalue": "name 'df' is not defined",
     "output_type": "error",
     "traceback": [
      "\u001b[0;31m---------------------------------------------------------------------------\u001b[0m",
      "\u001b[0;31mNameError\u001b[0m                                 Traceback (most recent call last)",
      "Cell \u001b[0;32mIn[1], line 1\u001b[0m\n\u001b[0;32m----> 1\u001b[0m df \u001b[38;5;241m=\u001b[39m \u001b[43mdf\u001b[49m\u001b[38;5;241m.\u001b[39mloc[:, \u001b[38;5;28mlist\u001b[39m(intersection)]\n\u001b[1;32m      2\u001b[0m df\u001b[38;5;241m.\u001b[39mshape\n",
      "\u001b[0;31mNameError\u001b[0m: name 'df' is not defined"
     ]
    }
   ],
   "source": [
    "df = df.loc[:, list(intersection)]\n",
    "df.shape"
   ]
  },
  {
   "cell_type": "code",
   "execution_count": null,
   "metadata": {},
   "outputs": [],
   "source": []
  }
 ],
 "metadata": {
  "kernelspec": {
   "display_name": "Python 3",
   "language": "python",
   "name": "python3"
  },
  "language_info": {
   "codemirror_mode": {
    "name": "ipython",
    "version": 3
   },
   "file_extension": ".py",
   "mimetype": "text/x-python",
   "name": "python",
   "nbconvert_exporter": "python",
   "pygments_lexer": "ipython3",
   "version": "3.10.14"
  }
 },
 "nbformat": 4,
 "nbformat_minor": 2
}
