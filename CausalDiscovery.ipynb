{
 "cells": [
  {
   "cell_type": "markdown",
   "metadata": {},
   "source": [
    "Before we start, a couple of things to note here.\n",
    "\n",
    "1. I used variable thresholding presented in the CWGCNA analysis to find the top 500 features\n",
    "2. Realized that dagifying the resulting graph is near-to-impossible (kernel keeps crashing, not sure why)\n",
    "3. Reduced the dimensions down even further to 10 genes\n",
    "4. Performed the analysis with default settings, you can see results at the end"
   ]
  },
  {
   "cell_type": "code",
   "execution_count": 1,
   "metadata": {},
   "outputs": [],
   "source": [
    "import sys\n",
    "sys.path.append(\"/Users/shamanthk/Documents/iomics/dowhy-preeclampsia\")"
   ]
  },
  {
   "cell_type": "code",
   "execution_count": 2,
   "metadata": {},
   "outputs": [
    {
     "name": "stderr",
     "output_type": "stream",
     "text": [
      "No GPU automatically detected. Setting SETTINGS.GPU to 0, and SETTINGS.NJOBS to cpu_count.\n"
     ]
    }
   ],
   "source": [
    "import numpy as np\n",
    "import pandas as pd\n",
    "from EstimateEffect import *"
   ]
  },
  {
   "cell_type": "code",
   "execution_count": 3,
   "metadata": {},
   "outputs": [
    {
     "data": {
      "text/html": [
       "<div>\n",
       "<style scoped>\n",
       "    .dataframe tbody tr th:only-of-type {\n",
       "        vertical-align: middle;\n",
       "    }\n",
       "\n",
       "    .dataframe tbody tr th {\n",
       "        vertical-align: top;\n",
       "    }\n",
       "\n",
       "    .dataframe thead th {\n",
       "        text-align: right;\n",
       "    }\n",
       "</style>\n",
       "<table border=\"1\" class=\"dataframe\">\n",
       "  <thead>\n",
       "    <tr style=\"text-align: right;\">\n",
       "      <th></th>\n",
       "      <th>Unnamed: 0</th>\n",
       "      <th>sampleid</th>\n",
       "      <th>Group</th>\n",
       "      <th>Gestwk</th>\n",
       "      <th>Babygender</th>\n",
       "      <th>Ethnicity</th>\n",
       "      <th>Dataset</th>\n",
       "      <th>ABO</th>\n",
       "      <th>ACADL</th>\n",
       "      <th>ACOT11</th>\n",
       "      <th>...</th>\n",
       "      <th>ZNF560</th>\n",
       "      <th>ZNF562</th>\n",
       "      <th>ZNF572</th>\n",
       "      <th>ZNF577</th>\n",
       "      <th>ZNF660</th>\n",
       "      <th>ZNF667</th>\n",
       "      <th>ZNF785</th>\n",
       "      <th>ZNF804B</th>\n",
       "      <th>ZSCAN12</th>\n",
       "      <th>ZSCAN16</th>\n",
       "    </tr>\n",
       "  </thead>\n",
       "  <tbody>\n",
       "    <tr>\n",
       "      <th>0</th>\n",
       "      <td>1</td>\n",
       "      <td>GSM788417</td>\n",
       "      <td>Control</td>\n",
       "      <td>8.0</td>\n",
       "      <td>M</td>\n",
       "      <td>White</td>\n",
       "      <td>GSE31781</td>\n",
       "      <td>0.286653</td>\n",
       "      <td>0.100830</td>\n",
       "      <td>0.714489</td>\n",
       "      <td>...</td>\n",
       "      <td>0.216980</td>\n",
       "      <td>0.115556</td>\n",
       "      <td>0.382673</td>\n",
       "      <td>0.141096</td>\n",
       "      <td>0.395113</td>\n",
       "      <td>0.169859</td>\n",
       "      <td>0.554643</td>\n",
       "      <td>0.260140</td>\n",
       "      <td>0.153931</td>\n",
       "      <td>0.155679</td>\n",
       "    </tr>\n",
       "    <tr>\n",
       "      <th>1</th>\n",
       "      <td>2</td>\n",
       "      <td>GSM788419</td>\n",
       "      <td>Control</td>\n",
       "      <td>8.0</td>\n",
       "      <td>M</td>\n",
       "      <td>White</td>\n",
       "      <td>GSE31781</td>\n",
       "      <td>0.279650</td>\n",
       "      <td>0.087703</td>\n",
       "      <td>0.713941</td>\n",
       "      <td>...</td>\n",
       "      <td>0.217710</td>\n",
       "      <td>0.078361</td>\n",
       "      <td>0.358216</td>\n",
       "      <td>0.143691</td>\n",
       "      <td>0.394575</td>\n",
       "      <td>0.153465</td>\n",
       "      <td>0.545284</td>\n",
       "      <td>0.221913</td>\n",
       "      <td>0.144950</td>\n",
       "      <td>0.119980</td>\n",
       "    </tr>\n",
       "    <tr>\n",
       "      <th>2</th>\n",
       "      <td>3</td>\n",
       "      <td>GSM788420</td>\n",
       "      <td>Control</td>\n",
       "      <td>8.0</td>\n",
       "      <td>M</td>\n",
       "      <td>White</td>\n",
       "      <td>GSE31781</td>\n",
       "      <td>0.268227</td>\n",
       "      <td>0.081340</td>\n",
       "      <td>0.714192</td>\n",
       "      <td>...</td>\n",
       "      <td>0.196714</td>\n",
       "      <td>0.093258</td>\n",
       "      <td>0.367346</td>\n",
       "      <td>0.140717</td>\n",
       "      <td>0.402525</td>\n",
       "      <td>0.159516</td>\n",
       "      <td>0.564620</td>\n",
       "      <td>0.201813</td>\n",
       "      <td>0.142980</td>\n",
       "      <td>0.124261</td>\n",
       "    </tr>\n",
       "    <tr>\n",
       "      <th>3</th>\n",
       "      <td>4</td>\n",
       "      <td>GSM788421</td>\n",
       "      <td>Control</td>\n",
       "      <td>9.0</td>\n",
       "      <td>M</td>\n",
       "      <td>White</td>\n",
       "      <td>GSE31781</td>\n",
       "      <td>0.267576</td>\n",
       "      <td>0.080080</td>\n",
       "      <td>0.711066</td>\n",
       "      <td>...</td>\n",
       "      <td>0.184075</td>\n",
       "      <td>0.072457</td>\n",
       "      <td>0.385657</td>\n",
       "      <td>0.141546</td>\n",
       "      <td>0.409713</td>\n",
       "      <td>0.145243</td>\n",
       "      <td>0.549677</td>\n",
       "      <td>0.247063</td>\n",
       "      <td>0.144411</td>\n",
       "      <td>0.129721</td>\n",
       "    </tr>\n",
       "    <tr>\n",
       "      <th>4</th>\n",
       "      <td>5</td>\n",
       "      <td>GSM788414</td>\n",
       "      <td>Control</td>\n",
       "      <td>12.0</td>\n",
       "      <td>F</td>\n",
       "      <td>Asian</td>\n",
       "      <td>GSE31781</td>\n",
       "      <td>0.265860</td>\n",
       "      <td>0.078628</td>\n",
       "      <td>0.715149</td>\n",
       "      <td>...</td>\n",
       "      <td>0.208951</td>\n",
       "      <td>0.061186</td>\n",
       "      <td>0.358398</td>\n",
       "      <td>0.140577</td>\n",
       "      <td>0.360815</td>\n",
       "      <td>0.126509</td>\n",
       "      <td>0.499693</td>\n",
       "      <td>0.222571</td>\n",
       "      <td>0.148082</td>\n",
       "      <td>0.121801</td>\n",
       "    </tr>\n",
       "  </tbody>\n",
       "</table>\n",
       "<p>5 rows × 507 columns</p>\n",
       "</div>"
      ],
      "text/plain": [
       "   Unnamed: 0   sampleid    Group  Gestwk Babygender Ethnicity   Dataset  \\\n",
       "0           1  GSM788417  Control     8.0          M     White  GSE31781   \n",
       "1           2  GSM788419  Control     8.0          M     White  GSE31781   \n",
       "2           3  GSM788420  Control     8.0          M     White  GSE31781   \n",
       "3           4  GSM788421  Control     9.0          M     White  GSE31781   \n",
       "4           5  GSM788414  Control    12.0          F     Asian  GSE31781   \n",
       "\n",
       "        ABO     ACADL    ACOT11  ...    ZNF560    ZNF562    ZNF572    ZNF577  \\\n",
       "0  0.286653  0.100830  0.714489  ...  0.216980  0.115556  0.382673  0.141096   \n",
       "1  0.279650  0.087703  0.713941  ...  0.217710  0.078361  0.358216  0.143691   \n",
       "2  0.268227  0.081340  0.714192  ...  0.196714  0.093258  0.367346  0.140717   \n",
       "3  0.267576  0.080080  0.711066  ...  0.184075  0.072457  0.385657  0.141546   \n",
       "4  0.265860  0.078628  0.715149  ...  0.208951  0.061186  0.358398  0.140577   \n",
       "\n",
       "     ZNF660    ZNF667    ZNF785   ZNF804B   ZSCAN12   ZSCAN16  \n",
       "0  0.395113  0.169859  0.554643  0.260140  0.153931  0.155679  \n",
       "1  0.394575  0.153465  0.545284  0.221913  0.144950  0.119980  \n",
       "2  0.402525  0.159516  0.564620  0.201813  0.142980  0.124261  \n",
       "3  0.409713  0.145243  0.549677  0.247063  0.144411  0.129721  \n",
       "4  0.360815  0.126509  0.499693  0.222571  0.148082  0.121801  \n",
       "\n",
       "[5 rows x 507 columns]"
      ]
     },
     "execution_count": 3,
     "metadata": {},
     "output_type": "execute_result"
    }
   ],
   "source": [
    "betas_df = pd.read_csv('data/betas_500.csv')\n",
    "pds_df = pd.read_csv('data/pds.csv')\n",
    "\n",
    "betas_df_t = betas_df.set_index('Unnamed: 0').T.reset_index().rename(columns={'index': 'sampleid'})\n",
    "\n",
    "merged_df = pd.merge(pds_df, betas_df_t, on='sampleid')\n",
    "\n",
    "def clean_column_names(col_name):\n",
    "    if \"::\" in col_name:\n",
    "        return col_name.split(\"::\")[0]\n",
    "    return col_name\n",
    "\n",
    "merged_df.columns = [clean_column_names(col) for col in merged_df.columns]\n",
    "\n",
    "merged_df.head()"
   ]
  },
  {
   "cell_type": "code",
   "execution_count": 4,
   "metadata": {},
   "outputs": [
    {
     "data": {
      "text/html": [
       "<div>\n",
       "<style scoped>\n",
       "    .dataframe tbody tr th:only-of-type {\n",
       "        vertical-align: middle;\n",
       "    }\n",
       "\n",
       "    .dataframe tbody tr th {\n",
       "        vertical-align: top;\n",
       "    }\n",
       "\n",
       "    .dataframe thead th {\n",
       "        text-align: right;\n",
       "    }\n",
       "</style>\n",
       "<table border=\"1\" class=\"dataframe\">\n",
       "  <thead>\n",
       "    <tr style=\"text-align: right;\">\n",
       "      <th></th>\n",
       "      <th>Group</th>\n",
       "      <th>ABO</th>\n",
       "      <th>ACADL</th>\n",
       "      <th>ACOT11</th>\n",
       "      <th>ADAMTS14</th>\n",
       "      <th>ADCY4</th>\n",
       "      <th>ADD2</th>\n",
       "      <th>ADORA2B</th>\n",
       "      <th>ADRA1A</th>\n",
       "      <th>ADRA2C</th>\n",
       "      <th>...</th>\n",
       "      <th>ZNF560</th>\n",
       "      <th>ZNF562</th>\n",
       "      <th>ZNF572</th>\n",
       "      <th>ZNF577</th>\n",
       "      <th>ZNF660</th>\n",
       "      <th>ZNF667</th>\n",
       "      <th>ZNF785</th>\n",
       "      <th>ZNF804B</th>\n",
       "      <th>ZSCAN12</th>\n",
       "      <th>ZSCAN16</th>\n",
       "    </tr>\n",
       "  </thead>\n",
       "  <tbody>\n",
       "    <tr>\n",
       "      <th>0</th>\n",
       "      <td>Control</td>\n",
       "      <td>0.286653</td>\n",
       "      <td>0.100830</td>\n",
       "      <td>0.714489</td>\n",
       "      <td>0.216138</td>\n",
       "      <td>0.463232</td>\n",
       "      <td>0.211398</td>\n",
       "      <td>0.556021</td>\n",
       "      <td>0.375335</td>\n",
       "      <td>0.332831</td>\n",
       "      <td>...</td>\n",
       "      <td>0.216980</td>\n",
       "      <td>0.115556</td>\n",
       "      <td>0.382673</td>\n",
       "      <td>0.141096</td>\n",
       "      <td>0.395113</td>\n",
       "      <td>0.169859</td>\n",
       "      <td>0.554643</td>\n",
       "      <td>0.260140</td>\n",
       "      <td>0.153931</td>\n",
       "      <td>0.155679</td>\n",
       "    </tr>\n",
       "    <tr>\n",
       "      <th>1</th>\n",
       "      <td>Control</td>\n",
       "      <td>0.279650</td>\n",
       "      <td>0.087703</td>\n",
       "      <td>0.713941</td>\n",
       "      <td>0.186465</td>\n",
       "      <td>0.485031</td>\n",
       "      <td>0.201391</td>\n",
       "      <td>0.620715</td>\n",
       "      <td>0.361520</td>\n",
       "      <td>0.327508</td>\n",
       "      <td>...</td>\n",
       "      <td>0.217710</td>\n",
       "      <td>0.078361</td>\n",
       "      <td>0.358216</td>\n",
       "      <td>0.143691</td>\n",
       "      <td>0.394575</td>\n",
       "      <td>0.153465</td>\n",
       "      <td>0.545284</td>\n",
       "      <td>0.221913</td>\n",
       "      <td>0.144950</td>\n",
       "      <td>0.119980</td>\n",
       "    </tr>\n",
       "    <tr>\n",
       "      <th>2</th>\n",
       "      <td>Control</td>\n",
       "      <td>0.268227</td>\n",
       "      <td>0.081340</td>\n",
       "      <td>0.714192</td>\n",
       "      <td>0.195455</td>\n",
       "      <td>0.461802</td>\n",
       "      <td>0.210969</td>\n",
       "      <td>0.545269</td>\n",
       "      <td>0.364272</td>\n",
       "      <td>0.312898</td>\n",
       "      <td>...</td>\n",
       "      <td>0.196714</td>\n",
       "      <td>0.093258</td>\n",
       "      <td>0.367346</td>\n",
       "      <td>0.140717</td>\n",
       "      <td>0.402525</td>\n",
       "      <td>0.159516</td>\n",
       "      <td>0.564620</td>\n",
       "      <td>0.201813</td>\n",
       "      <td>0.142980</td>\n",
       "      <td>0.124261</td>\n",
       "    </tr>\n",
       "    <tr>\n",
       "      <th>3</th>\n",
       "      <td>Control</td>\n",
       "      <td>0.267576</td>\n",
       "      <td>0.080080</td>\n",
       "      <td>0.711066</td>\n",
       "      <td>0.188846</td>\n",
       "      <td>0.433606</td>\n",
       "      <td>0.208251</td>\n",
       "      <td>0.617009</td>\n",
       "      <td>0.380944</td>\n",
       "      <td>0.289887</td>\n",
       "      <td>...</td>\n",
       "      <td>0.184075</td>\n",
       "      <td>0.072457</td>\n",
       "      <td>0.385657</td>\n",
       "      <td>0.141546</td>\n",
       "      <td>0.409713</td>\n",
       "      <td>0.145243</td>\n",
       "      <td>0.549677</td>\n",
       "      <td>0.247063</td>\n",
       "      <td>0.144411</td>\n",
       "      <td>0.129721</td>\n",
       "    </tr>\n",
       "    <tr>\n",
       "      <th>4</th>\n",
       "      <td>Control</td>\n",
       "      <td>0.265860</td>\n",
       "      <td>0.078628</td>\n",
       "      <td>0.715149</td>\n",
       "      <td>0.164783</td>\n",
       "      <td>0.435845</td>\n",
       "      <td>0.212740</td>\n",
       "      <td>0.615782</td>\n",
       "      <td>0.363593</td>\n",
       "      <td>0.291139</td>\n",
       "      <td>...</td>\n",
       "      <td>0.208951</td>\n",
       "      <td>0.061186</td>\n",
       "      <td>0.358398</td>\n",
       "      <td>0.140577</td>\n",
       "      <td>0.360815</td>\n",
       "      <td>0.126509</td>\n",
       "      <td>0.499693</td>\n",
       "      <td>0.222571</td>\n",
       "      <td>0.148082</td>\n",
       "      <td>0.121801</td>\n",
       "    </tr>\n",
       "  </tbody>\n",
       "</table>\n",
       "<p>5 rows × 501 columns</p>\n",
       "</div>"
      ],
      "text/plain": [
       "     Group       ABO     ACADL    ACOT11  ADAMTS14     ADCY4      ADD2  \\\n",
       "0  Control  0.286653  0.100830  0.714489  0.216138  0.463232  0.211398   \n",
       "1  Control  0.279650  0.087703  0.713941  0.186465  0.485031  0.201391   \n",
       "2  Control  0.268227  0.081340  0.714192  0.195455  0.461802  0.210969   \n",
       "3  Control  0.267576  0.080080  0.711066  0.188846  0.433606  0.208251   \n",
       "4  Control  0.265860  0.078628  0.715149  0.164783  0.435845  0.212740   \n",
       "\n",
       "    ADORA2B    ADRA1A    ADRA2C  ...    ZNF560    ZNF562    ZNF572    ZNF577  \\\n",
       "0  0.556021  0.375335  0.332831  ...  0.216980  0.115556  0.382673  0.141096   \n",
       "1  0.620715  0.361520  0.327508  ...  0.217710  0.078361  0.358216  0.143691   \n",
       "2  0.545269  0.364272  0.312898  ...  0.196714  0.093258  0.367346  0.140717   \n",
       "3  0.617009  0.380944  0.289887  ...  0.184075  0.072457  0.385657  0.141546   \n",
       "4  0.615782  0.363593  0.291139  ...  0.208951  0.061186  0.358398  0.140577   \n",
       "\n",
       "     ZNF660    ZNF667    ZNF785   ZNF804B   ZSCAN12   ZSCAN16  \n",
       "0  0.395113  0.169859  0.554643  0.260140  0.153931  0.155679  \n",
       "1  0.394575  0.153465  0.545284  0.221913  0.144950  0.119980  \n",
       "2  0.402525  0.159516  0.564620  0.201813  0.142980  0.124261  \n",
       "3  0.409713  0.145243  0.549677  0.247063  0.144411  0.129721  \n",
       "4  0.360815  0.126509  0.499693  0.222571  0.148082  0.121801  \n",
       "\n",
       "[5 rows x 501 columns]"
      ]
     },
     "execution_count": 4,
     "metadata": {},
     "output_type": "execute_result"
    }
   ],
   "source": [
    "df = merged_df.drop(columns=['Unnamed: 0', 'sampleid', 'Gestwk', 'Ethnicity', 'Dataset', 'Babygender'])\n",
    "df.head()"
   ]
  },
  {
   "cell_type": "code",
   "execution_count": 5,
   "metadata": {},
   "outputs": [
    {
     "data": {
      "text/html": [
       "<div>\n",
       "<style scoped>\n",
       "    .dataframe tbody tr th:only-of-type {\n",
       "        vertical-align: middle;\n",
       "    }\n",
       "\n",
       "    .dataframe tbody tr th {\n",
       "        vertical-align: top;\n",
       "    }\n",
       "\n",
       "    .dataframe thead th {\n",
       "        text-align: right;\n",
       "    }\n",
       "</style>\n",
       "<table border=\"1\" class=\"dataframe\">\n",
       "  <thead>\n",
       "    <tr style=\"text-align: right;\">\n",
       "      <th></th>\n",
       "      <th>Group</th>\n",
       "      <th>ABO</th>\n",
       "      <th>ACADL</th>\n",
       "      <th>ACOT11</th>\n",
       "      <th>ADAMTS14</th>\n",
       "      <th>ADCY4</th>\n",
       "      <th>ADD2</th>\n",
       "      <th>ADORA2B</th>\n",
       "      <th>ADRA1A</th>\n",
       "      <th>ADRA2C</th>\n",
       "      <th>...</th>\n",
       "      <th>ZNF560</th>\n",
       "      <th>ZNF562</th>\n",
       "      <th>ZNF572</th>\n",
       "      <th>ZNF577</th>\n",
       "      <th>ZNF660</th>\n",
       "      <th>ZNF667</th>\n",
       "      <th>ZNF785</th>\n",
       "      <th>ZNF804B</th>\n",
       "      <th>ZSCAN12</th>\n",
       "      <th>ZSCAN16</th>\n",
       "    </tr>\n",
       "  </thead>\n",
       "  <tbody>\n",
       "    <tr>\n",
       "      <th>0</th>\n",
       "      <td>0</td>\n",
       "      <td>0.286653</td>\n",
       "      <td>0.100830</td>\n",
       "      <td>0.714489</td>\n",
       "      <td>0.216138</td>\n",
       "      <td>0.463232</td>\n",
       "      <td>0.211398</td>\n",
       "      <td>0.556021</td>\n",
       "      <td>0.375335</td>\n",
       "      <td>0.332831</td>\n",
       "      <td>...</td>\n",
       "      <td>0.216980</td>\n",
       "      <td>0.115556</td>\n",
       "      <td>0.382673</td>\n",
       "      <td>0.141096</td>\n",
       "      <td>0.395113</td>\n",
       "      <td>0.169859</td>\n",
       "      <td>0.554643</td>\n",
       "      <td>0.260140</td>\n",
       "      <td>0.153931</td>\n",
       "      <td>0.155679</td>\n",
       "    </tr>\n",
       "    <tr>\n",
       "      <th>1</th>\n",
       "      <td>0</td>\n",
       "      <td>0.279650</td>\n",
       "      <td>0.087703</td>\n",
       "      <td>0.713941</td>\n",
       "      <td>0.186465</td>\n",
       "      <td>0.485031</td>\n",
       "      <td>0.201391</td>\n",
       "      <td>0.620715</td>\n",
       "      <td>0.361520</td>\n",
       "      <td>0.327508</td>\n",
       "      <td>...</td>\n",
       "      <td>0.217710</td>\n",
       "      <td>0.078361</td>\n",
       "      <td>0.358216</td>\n",
       "      <td>0.143691</td>\n",
       "      <td>0.394575</td>\n",
       "      <td>0.153465</td>\n",
       "      <td>0.545284</td>\n",
       "      <td>0.221913</td>\n",
       "      <td>0.144950</td>\n",
       "      <td>0.119980</td>\n",
       "    </tr>\n",
       "    <tr>\n",
       "      <th>2</th>\n",
       "      <td>0</td>\n",
       "      <td>0.268227</td>\n",
       "      <td>0.081340</td>\n",
       "      <td>0.714192</td>\n",
       "      <td>0.195455</td>\n",
       "      <td>0.461802</td>\n",
       "      <td>0.210969</td>\n",
       "      <td>0.545269</td>\n",
       "      <td>0.364272</td>\n",
       "      <td>0.312898</td>\n",
       "      <td>...</td>\n",
       "      <td>0.196714</td>\n",
       "      <td>0.093258</td>\n",
       "      <td>0.367346</td>\n",
       "      <td>0.140717</td>\n",
       "      <td>0.402525</td>\n",
       "      <td>0.159516</td>\n",
       "      <td>0.564620</td>\n",
       "      <td>0.201813</td>\n",
       "      <td>0.142980</td>\n",
       "      <td>0.124261</td>\n",
       "    </tr>\n",
       "    <tr>\n",
       "      <th>3</th>\n",
       "      <td>0</td>\n",
       "      <td>0.267576</td>\n",
       "      <td>0.080080</td>\n",
       "      <td>0.711066</td>\n",
       "      <td>0.188846</td>\n",
       "      <td>0.433606</td>\n",
       "      <td>0.208251</td>\n",
       "      <td>0.617009</td>\n",
       "      <td>0.380944</td>\n",
       "      <td>0.289887</td>\n",
       "      <td>...</td>\n",
       "      <td>0.184075</td>\n",
       "      <td>0.072457</td>\n",
       "      <td>0.385657</td>\n",
       "      <td>0.141546</td>\n",
       "      <td>0.409713</td>\n",
       "      <td>0.145243</td>\n",
       "      <td>0.549677</td>\n",
       "      <td>0.247063</td>\n",
       "      <td>0.144411</td>\n",
       "      <td>0.129721</td>\n",
       "    </tr>\n",
       "    <tr>\n",
       "      <th>4</th>\n",
       "      <td>0</td>\n",
       "      <td>0.265860</td>\n",
       "      <td>0.078628</td>\n",
       "      <td>0.715149</td>\n",
       "      <td>0.164783</td>\n",
       "      <td>0.435845</td>\n",
       "      <td>0.212740</td>\n",
       "      <td>0.615782</td>\n",
       "      <td>0.363593</td>\n",
       "      <td>0.291139</td>\n",
       "      <td>...</td>\n",
       "      <td>0.208951</td>\n",
       "      <td>0.061186</td>\n",
       "      <td>0.358398</td>\n",
       "      <td>0.140577</td>\n",
       "      <td>0.360815</td>\n",
       "      <td>0.126509</td>\n",
       "      <td>0.499693</td>\n",
       "      <td>0.222571</td>\n",
       "      <td>0.148082</td>\n",
       "      <td>0.121801</td>\n",
       "    </tr>\n",
       "  </tbody>\n",
       "</table>\n",
       "<p>5 rows × 501 columns</p>\n",
       "</div>"
      ],
      "text/plain": [
       "   Group       ABO     ACADL    ACOT11  ADAMTS14     ADCY4      ADD2  \\\n",
       "0      0  0.286653  0.100830  0.714489  0.216138  0.463232  0.211398   \n",
       "1      0  0.279650  0.087703  0.713941  0.186465  0.485031  0.201391   \n",
       "2      0  0.268227  0.081340  0.714192  0.195455  0.461802  0.210969   \n",
       "3      0  0.267576  0.080080  0.711066  0.188846  0.433606  0.208251   \n",
       "4      0  0.265860  0.078628  0.715149  0.164783  0.435845  0.212740   \n",
       "\n",
       "    ADORA2B    ADRA1A    ADRA2C  ...    ZNF560    ZNF562    ZNF572    ZNF577  \\\n",
       "0  0.556021  0.375335  0.332831  ...  0.216980  0.115556  0.382673  0.141096   \n",
       "1  0.620715  0.361520  0.327508  ...  0.217710  0.078361  0.358216  0.143691   \n",
       "2  0.545269  0.364272  0.312898  ...  0.196714  0.093258  0.367346  0.140717   \n",
       "3  0.617009  0.380944  0.289887  ...  0.184075  0.072457  0.385657  0.141546   \n",
       "4  0.615782  0.363593  0.291139  ...  0.208951  0.061186  0.358398  0.140577   \n",
       "\n",
       "     ZNF660    ZNF667    ZNF785   ZNF804B   ZSCAN12   ZSCAN16  \n",
       "0  0.395113  0.169859  0.554643  0.260140  0.153931  0.155679  \n",
       "1  0.394575  0.153465  0.545284  0.221913  0.144950  0.119980  \n",
       "2  0.402525  0.159516  0.564620  0.201813  0.142980  0.124261  \n",
       "3  0.409713  0.145243  0.549677  0.247063  0.144411  0.129721  \n",
       "4  0.360815  0.126509  0.499693  0.222571  0.148082  0.121801  \n",
       "\n",
       "[5 rows x 501 columns]"
      ]
     },
     "execution_count": 5,
     "metadata": {},
     "output_type": "execute_result"
    }
   ],
   "source": [
    "df['Group'] = df['Group'].map({'Control': 0, 'Preeclampsia': 1})\n",
    "df.head()"
   ]
  },
  {
   "cell_type": "code",
   "execution_count": 6,
   "metadata": {},
   "outputs": [
    {
     "data": {
      "image/png": "[encoded data removed]",
      "text/latex": [
       "$\\displaystyle \\left( 359, \\  10\\right)$"
      ],
      "text/plain": [
       "(359, 10)"
      ]
     },
     "execution_count": 6,
     "metadata": {},
     "output_type": "execute_result"
    }
   ],
   "source": [
    "df = df.drop(columns=df.columns[10:])\n",
    "df.shape"
   ]
  },
  {
   "cell_type": "code",
   "execution_count": 7,
   "metadata": {},
   "outputs": [
    {
     "data": {
      "text/plain": [
       "Index(['Group', 'ABO', 'ACADL', 'ACOT11', 'ADAMTS14', 'ADCY4', 'ADD2',\n",
       "       'ADORA2B', 'ADRA1A', 'ADRA2C'],\n",
       "      dtype='object')"
      ]
     },
     "execution_count": 7,
     "metadata": {},
     "output_type": "execute_result"
    }
   ],
   "source": [
    "df.columns"
   ]
  },
  {
   "cell_type": "code",
   "execution_count": 8,
   "metadata": {},
   "outputs": [],
   "source": [
    "EstimationModel = EstimateEffect(df)"
   ]
  },
  {
   "cell_type": "code",
   "execution_count": 9,
   "metadata": {},
   "outputs": [
    {
     "data": {
      "image/png": "[encoded data removed]",
      "text/plain": [
       "<Figure size 640x480 with 1 Axes>"
      ]
     },
     "metadata": {},
     "output_type": "display_data"
    }
   ],
   "source": [
    "causal_graph = EstimationModel.find_causal_graph(algo='pc')\n",
    "\n",
    "disp_graph_nx(causal_graph)"
   ]
  },
  {
   "cell_type": "code",
   "execution_count": 10,
   "metadata": {},
   "outputs": [
    {
     "data": {
      "text/plain": [
       "OutEdgeView([('ABO', 'ACADL'), ('ABO', 'ADAMTS14'), ('ABO', 'ADRA2C'), ('ACADL', 'ADAMTS14'), ('ACOT11', 'ADCY4'), ('ADAMTS14', 'ADRA2C'), ('ADCY4', 'Group'), ('ADCY4', 'ABO'), ('ADCY4', 'ADAMTS14'), ('ADORA2B', 'Group'), ('ADORA2B', 'ADD2'), ('ADRA1A', 'ABO'), ('ADRA1A', 'ACADL'), ('ADRA1A', 'ADAMTS14'), ('ADRA1A', 'ADCY4')])"
      ]
     },
     "execution_count": 10,
     "metadata": {},
     "output_type": "execute_result"
    }
   ],
   "source": [
    "causal_graph.edges"
   ]
  },
  {
   "cell_type": "code",
   "execution_count": 11,
   "metadata": {},
   "outputs": [
    {
     "data": {
      "text/plain": [
       "True"
      ]
     },
     "execution_count": 11,
     "metadata": {},
     "output_type": "execute_result"
    }
   ],
   "source": [
    "nx.is_directed(causal_graph)"
   ]
  },
  {
   "cell_type": "code",
   "execution_count": 12,
   "metadata": {},
   "outputs": [
    {
     "data": {
      "text/plain": [
       "True"
      ]
     },
     "execution_count": 12,
     "metadata": {},
     "output_type": "execute_result"
    }
   ],
   "source": [
    "nx.is_directed_acyclic_graph(causal_graph)"
   ]
  },
  {
   "cell_type": "code",
   "execution_count": 13,
   "metadata": {},
   "outputs": [
    {
     "name": "stderr",
     "output_type": "stream",
     "text": [
      "Test permutations of given graph: 100%|██████████| 100/100 [00:21<00:00,  4.72it/s]\n"
     ]
    },
    {
     "data": {
      "image/png": "[encoded data removed]",
      "text/plain": [
       "<Figure size 800x300 with 1 Axes>"
      ]
     },
     "metadata": {},
     "output_type": "display_data"
    },
    {
     "data": {
      "text/plain": [
       "<networkx.classes.digraph.DiGraph at 0x1094b87f0>"
      ]
     },
     "execution_count": 13,
     "metadata": {},
     "output_type": "execute_result"
    }
   ],
   "source": [
    "EstimationModel.refute_cgm(show_plt=True, n_perm=100)"
   ]
  },
  {
   "cell_type": "code",
   "execution_count": 14,
   "metadata": {},
   "outputs": [
    {
     "data": {
      "text/plain": [
       "<dowhy.causal_model.CausalModel at 0x31f1f6500>"
      ]
     },
     "execution_count": 14,
     "metadata": {},
     "output_type": "execute_result"
    }
   ],
   "source": [
    "EstimationModel.create_model(treatment='ADRA1A', outcome='Group')"
   ]
  },
  {
   "cell_type": "code",
   "execution_count": 15,
   "metadata": {},
   "outputs": [
    {
     "name": "stdout",
     "output_type": "stream",
     "text": [
      "Note that you can also use other methods for the identification process. Below are method descriptions taken directly from DoWhy's documentation\n",
      "maximal-adjustment: returns the maximal set that satisfies the backdoor criterion. This is usually the fastest way to find a valid backdoor set, but the set may contain many superfluous variables.\n",
      "minimal-adjustment: returns the set with minimal number of variables that satisfies the backdoor criterion. This may take longer to execute, and sometimes may not return any backdoor set within the maximum number of iterations.\n",
      "exhaustive-search: returns all valid backdoor sets. This can take a while to run for large graphs.\n",
      "default: This is a good mix of minimal and maximal adjustment. It starts with maximal adjustment which is usually fast. It then runs minimal adjustment and returns the set having the smallest number of variables.\n",
      "Estimand type: EstimandType.NONPARAMETRIC_ATE\n",
      "\n",
      "### Estimand : 1\n",
      "Estimand name: backdoor\n",
      "Estimand expression:\n",
      "    d              \n",
      "─────────(E[Group])\n",
      "d[ADRA1A]          \n",
      "Estimand assumption 1, Unconfoundedness: If U→{ADRA1A} and U→Group then P(Group|ADRA1A,,U) = P(Group|ADRA1A,)\n",
      "\n",
      "### Estimand : 2\n",
      "Estimand name: iv\n",
      "No such variable(s) found!\n",
      "\n",
      "### Estimand : 3\n",
      "Estimand name: frontdoor\n",
      "Estimand expression:\n",
      " ⎡                  d                               ∂                         \n",
      "E⎢──────────────────────────────────────(Group)⋅─────────([ADRA2C  ACADL  ADAM\n",
      " ⎣d[ADRA2C  ACADL  ADAMTS₁₄  ABO  ADCY₄]        ∂[ADRA1A]                     \n",
      "\n",
      "                  ⎤\n",
      "TS₁₄  ABO  ADCY₄])⎥\n",
      "                  ⎦\n",
      "Estimand assumption 1, Full-mediation: ADRA2C,ACADL,ADAMTS14,ABO,ADCY4 intercepts (blocks) all directed paths from ADRA1A to G,r,o,u,p.\n",
      "Estimand assumption 2, First-stage-unconfoundedness: If U→{ADRA1A} and U→{ADRA2C,ACADL,ADAMTS14,ABO,ADCY4} then P(ADRA2C,ACADL,ADAMTS14,ABO,ADCY4|ADRA1A,U) = P(ADRA2C,ACADL,ADAMTS14,ABO,ADCY4|ADRA1A)\n",
      "Estimand assumption 3, Second-stage-unconfoundedness: If U→{ADRA2C,ACADL,ADAMTS14,ABO,ADCY4} and U→Group then P(Group|ADRA2C,ACADL,ADAMTS14,ABO,ADCY4, ADRA1A, U) = P(Group|ADRA2C,ACADL,ADAMTS14,ABO,ADCY4, ADRA1A)\n",
      "\n"
     ]
    }
   ],
   "source": [
    "print(EstimationModel.identify_effect())"
   ]
  },
  {
   "cell_type": "code",
   "execution_count": 16,
   "metadata": {},
   "outputs": [],
   "source": [
    "import warnings\n",
    "warnings.filterwarnings('ignore')"
   ]
  },
  {
   "cell_type": "code",
   "execution_count": 17,
   "metadata": {},
   "outputs": [
    {
     "name": "stdout",
     "output_type": "stream",
     "text": [
      "Note that it is ok for your treatment to be a continuous variable, DoWhy automatically discretizes at the backend.\n"
     ]
    },
    {
     "data": {
      "text/plain": [
       "<dowhy.causal_estimator.CausalEstimate at 0x31f155870>"
      ]
     },
     "execution_count": 17,
     "metadata": {},
     "output_type": "execute_result"
    }
   ],
   "source": [
    "EstimationModel.estimate_effect()"
   ]
  },
  {
   "cell_type": "code",
   "execution_count": 18,
   "metadata": {},
   "outputs": [
    {
     "data": {
      "text/plain": [
       "<dowhy.causal_refuter.CausalRefutation at 0x323384a90>"
      ]
     },
     "execution_count": 18,
     "metadata": {},
     "output_type": "execute_result"
    }
   ],
   "source": [
    "EstimationModel.refute_estimate(placebo_type=\"permute\")"
   ]
  },
  {
   "cell_type": "code",
   "execution_count": 19,
   "metadata": {},
   "outputs": [],
   "source": [
    "info = EstimationModel.get_all_information()"
   ]
  },
  {
   "cell_type": "code",
   "execution_count": 20,
   "metadata": {},
   "outputs": [
    {
     "name": "stdout",
     "output_type": "stream",
     "text": [
      "+-------------------------------------------------------------------------------------------------------+\n",
      "|                                         Falsificaton Summary                                          |\n",
      "+-------------------------------------------------------------------------------------------------------+\n",
      "| The given DAG is informative because 0 / 100 of the permutations lie in the Markov                    |\n",
      "| equivalence class of the given DAG (p-value: 0.00).                                                   |\n",
      "| The given DAG violates 1/50 LMCs and is better than 100.0% of the permuted DAGs (p-value: 0.00).      |\n",
      "| Based on the provided significance level (0.05) and because the DAG is informative,                   |\n",
      "| we do not reject the DAG.                                                                             |\n",
      "+-------------------------------------------------------------------------------------------------------+\n"
     ]
    }
   ],
   "source": [
    "print(info['graph_refutation_res'])"
   ]
  },
  {
   "cell_type": "code",
   "execution_count": 21,
   "metadata": {},
   "outputs": [
    {
     "name": "stdout",
     "output_type": "stream",
     "text": [
      "Estimand type: EstimandType.NONPARAMETRIC_ATE\n",
      "\n",
      "### Estimand : 1\n",
      "Estimand name: backdoor\n",
      "Estimand expression:\n",
      "    d              \n",
      "─────────(E[Group])\n",
      "d[ADRA1A]          \n",
      "Estimand assumption 1, Unconfoundedness: If U→{ADRA1A} and U→Group then P(Group|ADRA1A,,U) = P(Group|ADRA1A,)\n",
      "\n",
      "### Estimand : 2\n",
      "Estimand name: iv\n",
      "No such variable(s) found!\n",
      "\n",
      "### Estimand : 3\n",
      "Estimand name: frontdoor\n",
      "Estimand expression:\n",
      " ⎡                  d                               ∂                         \n",
      "E⎢──────────────────────────────────────(Group)⋅─────────([ADRA2C  ACADL  ADAM\n",
      " ⎣d[ADRA2C  ACADL  ADAMTS₁₄  ABO  ADCY₄]        ∂[ADRA1A]                     \n",
      "\n",
      "                  ⎤\n",
      "TS₁₄  ABO  ADCY₄])⎥\n",
      "                  ⎦\n",
      "Estimand assumption 1, Full-mediation: ADRA2C,ACADL,ADAMTS14,ABO,ADCY4 intercepts (blocks) all directed paths from ADRA1A to G,r,o,u,p.\n",
      "Estimand assumption 2, First-stage-unconfoundedness: If U→{ADRA1A} and U→{ADRA2C,ACADL,ADAMTS14,ABO,ADCY4} then P(ADRA2C,ACADL,ADAMTS14,ABO,ADCY4|ADRA1A,U) = P(ADRA2C,ACADL,ADAMTS14,ABO,ADCY4|ADRA1A)\n",
      "Estimand assumption 3, Second-stage-unconfoundedness: If U→{ADRA2C,ACADL,ADAMTS14,ABO,ADCY4} and U→Group then P(Group|ADRA2C,ACADL,ADAMTS14,ABO,ADCY4, ADRA1A, U) = P(Group|ADRA2C,ACADL,ADAMTS14,ABO,ADCY4, ADRA1A)\n",
      "\n"
     ]
    }
   ],
   "source": [
    "print(info['estimand_expression'])"
   ]
  },
  {
   "cell_type": "code",
   "execution_count": 24,
   "metadata": {},
   "outputs": [
    {
     "name": "stdout",
     "output_type": "stream",
     "text": [
      "Increasing the treatment variable(s) [ADRA1A] from 0 to 1 causes an increase of 0.9848741244548878 in the expected value of the outcome [['Group']], over the data distribution/population represented by the dataset.\n",
      "None\n"
     ]
    }
   ],
   "source": [
    "print(info['effect_estimate'].interpret())"
   ]
  },
  {
   "cell_type": "code",
   "execution_count": 23,
   "metadata": {},
   "outputs": [
    {
     "name": "stdout",
     "output_type": "stream",
     "text": [
      "Refute: Use a Placebo Treatment\n",
      "Estimated effect:0.9848741244548878\n",
      "New effect:-0.032678911848069314\n",
      "p value:0.96\n",
      "\n"
     ]
    }
   ],
   "source": [
    "print(info['estimate_refutation_res'])"
   ]
  }
 ],
 "metadata": {
  "kernelspec": {
   "display_name": "Python 3",
   "language": "python",
   "name": "python3"
  },
  "language_info": {
   "codemirror_mode": {
    "name": "ipython",
    "version": 3
   },
   "file_extension": ".py",
   "mimetype": "text/x-python",
   "name": "python",
   "nbconvert_exporter": "python",
   "pygments_lexer": "ipython3",
   "version": "3.10.14"
  }
 },
 "nbformat": 4,
 "nbformat_minor": 4
}
